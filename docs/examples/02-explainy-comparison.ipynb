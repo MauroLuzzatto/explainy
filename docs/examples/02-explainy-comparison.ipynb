{
 "cells": [
  {
   "cell_type": "markdown",
   "metadata": {},
   "source": [
    "# Introduction to `explainy` - compare the explanations\n",
    "In this notebook, we will go over the main algorithms of the `explainy` package."
   ]
  },
  {
   "cell_type": "code",
   "execution_count": 1,
   "metadata": {},
   "outputs": [],
   "source": [
    "# TODO: \n",
    "# write about the idea behind, and what explain intended to solve\n",
    "# fix plots (table)\n",
    "# fix tree plots"
   ]
  },
  {
   "cell_type": "code",
   "execution_count": null,
   "metadata": {},
   "outputs": [],
   "source": []
  },
  {
   "cell_type": "code",
   "execution_count": 2,
   "metadata": {
    "tags": []
   },
   "outputs": [],
   "source": [
    "import pandas as pd\n",
    "from sklearn.datasets import load_diabetes\n",
    "from sklearn.ensemble import RandomForestRegressor\n",
    "from sklearn.model_selection import train_test_split"
   ]
  },
  {
   "cell_type": "markdown",
   "metadata": {},
   "source": [
    "`explainy` allows you to create machine learning model explanations based on four different explanation characteristics:\n",
    "\n",
    "-   **global**: explanation of system functionality\n",
    "-   **local**: explanation of decision rationale\n",
    "-   **contrastive**: tracing of decision path\n",
    "-   **non-contrastive**: parameter weighting"
   ]
  },
  {
   "cell_type": "code",
   "execution_count": 3,
   "metadata": {
    "scrolled": true,
    "tags": []
   },
   "outputs": [],
   "source": [
    "%load_ext autoreload\n",
    "%autoreload 2\n",
    "%matplotlib inline\n",
    "\n",
    "diabetes = load_diabetes()\n",
    "\n",
    "X_train, X_test, y_train, y_test = train_test_split(\n",
    "    diabetes.data, diabetes.target, random_state=0\n",
    ")\n",
    "X_test = pd.DataFrame(X_test, columns=diabetes.feature_names)\n",
    "y_test = pd.DataFrame(y_test)\n",
    "\n",
    "model = RandomForestRegressor(random_state=0).fit(X_train, y_train)"
   ]
  },
  {
   "cell_type": "markdown",
   "metadata": {},
   "source": [
    "to be done.."
   ]
  },
  {
   "cell_type": "code",
   "execution_count": null,
   "metadata": {},
   "outputs": [],
   "source": [
    "from explainy.explanations import PermutationExplanation\n",
    "from explainy.explanations import ShapExplanation\n",
    "from explainy.explanations import SurrogateModelExplanation\n",
    "from explainy.explanations import CounterfactualExplanation"
   ]
  },
  {
   "cell_type": "markdown",
   "metadata": {},
   "source": [
    "Finally, we can also compare the explanations using the four different algorithms:"
   ]
  },
  {
   "cell_type": "code",
   "execution_count": 13,
   "metadata": {},
   "outputs": [
    {
     "data": {
      "image/png": "[encoded data removed]",
      "text/plain": [
       "<Figure size 432x144 with 1 Axes>"
      ]
     },
     "metadata": {
      "needs_background": "light"
     },
     "output_type": "display_data"
    },
    {
     "name": "stdout",
     "output_type": "stream",
     "text": [
      "The RandomForestRegressor used 10 features to produce the predictions. The prediction of this sample was 251.8.\n",
      "The feature importance was calculated using the Permutation Feature Importance method.\n",
      "The four features which were most important for the predictions were (from highest to lowest): 'bmi' (0.15), 's5' (0.12), 'bp' (0.03), and 'age' (0.02).\n",
      "\n",
      "\n"
     ]
    },
    {
     "ename": "TypeError",
     "evalue": "super(type, obj): obj must be an instance or subtype of type",
     "output_type": "error",
     "traceback": [
      "\u001b[1;31m---------------------------------------------------------------------------\u001b[0m",
      "\u001b[1;31mTypeError\u001b[0m                                 Traceback (most recent call last)",
      "\u001b[1;32m~\\AppData\\Local\\Temp/ipykernel_6708/2553773961.py\u001b[0m in \u001b[0;36m<module>\u001b[1;34m\u001b[0m\n\u001b[0;32m      5\u001b[0m     \u001b[0mPermutationExplanation\u001b[0m\u001b[1;33m,\u001b[0m \u001b[0mShapExplanation\u001b[0m\u001b[1;33m,\u001b[0m \u001b[0mCounterfactualExplanation\u001b[0m\u001b[1;33m,\u001b[0m \u001b[0mSurrogateModelExplanation\u001b[0m\u001b[1;33m\u001b[0m\u001b[1;33m\u001b[0m\u001b[0m\n\u001b[0;32m      6\u001b[0m ]:\n\u001b[1;32m----> 7\u001b[1;33m     explainer = Explanation(\n\u001b[0m\u001b[0;32m      8\u001b[0m         \u001b[0mX_test\u001b[0m\u001b[1;33m,\u001b[0m \u001b[0my_test\u001b[0m\u001b[1;33m,\u001b[0m \u001b[0mmodel\u001b[0m\u001b[1;33m,\u001b[0m \u001b[0mnumber_of_features\u001b[0m\u001b[1;33m\u001b[0m\u001b[1;33m\u001b[0m\u001b[0m\n\u001b[0;32m      9\u001b[0m     )\n",
      "\u001b[1;32mc:\\users\\maurol\\onedrive\\dokumente\\python_scripts\\explainy\\explainy\\explanations\\shap_explanation.py\u001b[0m in \u001b[0;36m__init__\u001b[1;34m(self, X, y, model, number_of_features, config, **kwargs)\u001b[0m\n\u001b[0;32m     42\u001b[0m         \u001b[1;33m**\u001b[0m\u001b[0mkwargs\u001b[0m\u001b[1;33m\u001b[0m\u001b[1;33m\u001b[0m\u001b[0m\n\u001b[0;32m     43\u001b[0m     ) -> None:\n\u001b[1;32m---> 44\u001b[1;33m         \u001b[0msuper\u001b[0m\u001b[1;33m(\u001b[0m\u001b[0mShapExplanation\u001b[0m\u001b[1;33m,\u001b[0m \u001b[0mself\u001b[0m\u001b[1;33m)\u001b[0m\u001b[1;33m.\u001b[0m\u001b[0m__init__\u001b[0m\u001b[1;33m(\u001b[0m\u001b[0mconfig\u001b[0m\u001b[1;33m)\u001b[0m\u001b[1;33m\u001b[0m\u001b[1;33m\u001b[0m\u001b[0m\n\u001b[0m\u001b[0;32m     45\u001b[0m         \"\"\"\n\u001b[0;32m     46\u001b[0m         \u001b[0mThis\u001b[0m \u001b[0mimplementation\u001b[0m \u001b[1;32mis\u001b[0m \u001b[0ma\u001b[0m \u001b[0mthin\u001b[0m \u001b[0mwrapper\u001b[0m \u001b[0maround\u001b[0m\u001b[0;31m \u001b[0m\u001b[0;31m`\u001b[0m\u001b[0mshap\u001b[0m\u001b[1;33m.\u001b[0m\u001b[0mTreeExplainer\u001b[0m\u001b[1;33m\u001b[0m\u001b[1;33m\u001b[0m\u001b[0m\n",
      "\u001b[1;31mTypeError\u001b[0m: super(type, obj): obj must be an instance or subtype of type"
     ]
    }
   ],
   "source": [
    "number_of_features = 4\n",
    "sample_index = 1\n",
    "\n",
    "for Explanation in [\n",
    "    PermutationExplanation, ShapExplanation, CounterfactualExplanation, SurrogateModelExplanation\n",
    "]:\n",
    "    explainer = Explanation(\n",
    "        X_test, y_test, model, number_of_features\n",
    "    )\n",
    "    explanation = explainer.explain(sample_index)\n",
    "    explainer.plot(sample_index)\n",
    "    print(explanation)\n",
    "    print('\\n')"
   ]
  },
  {
   "cell_type": "code",
   "execution_count": null,
   "metadata": {},
   "outputs": [],
   "source": []
  }
 ],
 "metadata": {
  "interpreter": {
   "hash": "de55fbb6a3d1dcd7d34e4d81b1ef1a152ffc76ac074135090337ffe5be6ed72c"
  },
  "kernelspec": {
   "display_name": "Python 3 (ipykernel)",
   "language": "python",
   "name": "python3"
  },
  "language_info": {
   "codemirror_mode": {
    "name": "ipython",
    "version": 3
   },
   "file_extension": ".py",
   "mimetype": "text/x-python",
   "name": "python",
   "nbconvert_exporter": "python",
   "pygments_lexer": "ipython3",
   "version": "3.8.0"
  },
  "pycharm": {
   "stem_cell": {
    "cell_type": "raw",
    "metadata": {
     "collapsed": false
    },
    "source": []
   }
  }
 },
 "nbformat": 4,
 "nbformat_minor": 2
}
