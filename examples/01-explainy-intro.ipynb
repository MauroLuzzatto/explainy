{
 "cells": [
  {
   "cell_type": "markdown",
   "metadata": {},
   "source": [
    "# Introduction to `explainy`\n",
    "In this notebook, we will go over the main functionalities of the library"
   ]
  },
  {
   "cell_type": "code",
   "execution_count": 1,
   "metadata": {
    "tags": []
   },
   "outputs": [],
   "source": [
    "import pandas as pd\n",
    "from sklearn.datasets import load_diabetes\n",
    "from sklearn.ensemble import RandomForestRegressor\n",
    "from sklearn.model_selection import train_test_split"
   ]
  },
  {
   "cell_type": "code",
   "execution_count": 2,
   "metadata": {},
   "outputs": [
    {
     "name": "stdout",
     "output_type": "stream",
     "text": [
      "Requirement already satisfied: explainy in c:\\users\\maurol\\anaconda3\\envs\\explainy_env\\lib\\site-packages (0.1.8)\n",
      "Requirement already satisfied: graphviz in c:\\users\\maurol\\anaconda3\\envs\\explainy_env\\lib\\site-packages (from explainy) (0.17)\n",
      "Requirement already satisfied: pandas in c:\\users\\maurol\\anaconda3\\envs\\explainy_env\\lib\\site-packages (from explainy) (1.1.5)\n",
      "Requirement already satisfied: shap in c:\\users\\maurol\\anaconda3\\envs\\explainy_env\\lib\\site-packages (from explainy) (0.39.0)\n",
      "Requirement already satisfied: mlxtend in c:\\users\\maurol\\anaconda3\\envs\\explainy_env\\lib\\site-packages (from explainy) (0.19.0)\n",
      "Requirement already satisfied: scikit-learn in c:\\users\\maurol\\anaconda3\\envs\\explainy_env\\lib\\site-packages (from explainy) (0.24.2)\n",
      "Requirement already satisfied: Click in c:\\users\\maurol\\anaconda3\\envs\\explainy_env\\lib\\site-packages (from explainy) (8.0.1)\n",
      "Requirement already satisfied: matplotlib in c:\\users\\maurol\\anaconda3\\envs\\explainy_env\\lib\\site-packages (from explainy) (3.3.4)\n",
      "Requirement already satisfied: colorama in c:\\users\\maurol\\anaconda3\\envs\\explainy_env\\lib\\site-packages (from Click->explainy) (0.4.4)\n",
      "Requirement already satisfied: importlib-metadata in c:\\users\\maurol\\anaconda3\\envs\\explainy_env\\lib\\site-packages (from Click->explainy) (0.23)\n",
      "Requirement already satisfied: zipp>=0.5 in c:\\users\\maurol\\anaconda3\\envs\\explainy_env\\lib\\site-packages (from importlib-metadata->Click->explainy) (3.5.0)\n",
      "Requirement already satisfied: python-dateutil>=2.1 in c:\\users\\maurol\\anaconda3\\envs\\explainy_env\\lib\\site-packages (from matplotlib->explainy) (2.8.2)\n",
      "Requirement already satisfied: kiwisolver>=1.0.1 in c:\\users\\maurol\\anaconda3\\envs\\explainy_env\\lib\\site-packages (from matplotlib->explainy) (1.3.1)\n",
      "Requirement already satisfied: cycler>=0.10 in c:\\users\\maurol\\anaconda3\\envs\\explainy_env\\lib\\site-packages (from matplotlib->explainy) (0.10.0)\n",
      "Requirement already satisfied: pyparsing!=2.0.4,!=2.1.2,!=2.1.6,>=2.0.3 in c:\\users\\maurol\\anaconda3\\envs\\explainy_env\\lib\\site-packages (from matplotlib->explainy) (2.4.7)\n",
      "Requirement already satisfied: pillow>=6.2.0 in c:\\users\\maurol\\anaconda3\\envs\\explainy_env\\lib\\site-packages (from matplotlib->explainy) (8.3.2)\n",
      "Requirement already satisfied: numpy>=1.15 in c:\\users\\maurol\\anaconda3\\envs\\explainy_env\\lib\\site-packages (from matplotlib->explainy) (1.19.5)\n",
      "Requirement already satisfied: six in c:\\users\\maurol\\anaconda3\\envs\\explainy_env\\lib\\site-packages (from cycler>=0.10->matplotlib->explainy) (1.16.0)\n",
      "Requirement already satisfied: setuptools in c:\\users\\maurol\\anaconda3\\envs\\explainy_env\\lib\\site-packages (from mlxtend->explainy) (58.0.4)\n",
      "Requirement already satisfied: joblib>=0.13.2 in c:\\users\\maurol\\anaconda3\\envs\\explainy_env\\lib\\site-packages (from mlxtend->explainy) (1.0.1)\n",
      "Requirement already satisfied: scipy>=1.2.1 in c:\\users\\maurol\\anaconda3\\envs\\explainy_env\\lib\\site-packages (from mlxtend->explainy) (1.5.4)\n",
      "Requirement already satisfied: pytz>=2017.2 in c:\\users\\maurol\\anaconda3\\envs\\explainy_env\\lib\\site-packages (from pandas->explainy) (2021.1)\n",
      "Requirement already satisfied: threadpoolctl>=2.0.0 in c:\\users\\maurol\\anaconda3\\envs\\explainy_env\\lib\\site-packages (from scikit-learn->explainy) (2.2.0)\n",
      "Requirement already satisfied: slicer==0.0.7 in c:\\users\\maurol\\anaconda3\\envs\\explainy_env\\lib\\site-packages (from shap->explainy) (0.0.7)\n",
      "Requirement already satisfied: tqdm>4.25.0 in c:\\users\\maurol\\anaconda3\\envs\\explainy_env\\lib\\site-packages (from shap->explainy) (4.62.3)\n",
      "Requirement already satisfied: numba in c:\\users\\maurol\\anaconda3\\envs\\explainy_env\\lib\\site-packages (from shap->explainy) (0.53.1)\n",
      "Requirement already satisfied: cloudpickle in c:\\users\\maurol\\anaconda3\\envs\\explainy_env\\lib\\site-packages (from shap->explainy) (2.0.0)\n",
      "Requirement already satisfied: llvmlite<0.37,>=0.36.0rc1 in c:\\users\\maurol\\anaconda3\\envs\\explainy_env\\lib\\site-packages (from numba->shap->explainy) (0.36.0)\n",
      "Note: you may need to restart the kernel to use updated packages.\n"
     ]
    }
   ],
   "source": [
    "pip install explainy"
   ]
  },
  {
   "cell_type": "markdown",
   "metadata": {},
   "source": [
    "`explainy` allows you to create machine learning model explanations based on four different explanation characteristics:\n",
    "\n",
    "-   **global**: explanation of system functionality\n",
    "-   **local**: explanation of decision rationale\n",
    "-   **contrastive**: tracing of decision path\n",
    "-   **non-contrastive**: parameter weighting\n",
    "\n",
    "The explanations algorithms in `explainy` can be categorized as follows:\n",
    "\n",
    "| | non-contrastive\t\t\t\t|contrastive | \n",
    "| --- \t\t\t| :---: \t\t\t\t| :---: | \n",
    "|global|Permutation Feature Importance\t| Surrogate Model | \n",
    "|local|Shap Values\t| Counterfactual Example|\n"
   ]
  },
  {
   "cell_type": "code",
   "execution_count": 3,
   "metadata": {
    "scrolled": true,
    "tags": []
   },
   "outputs": [],
   "source": [
    "%load_ext autoreload\n",
    "%autoreload 2\n",
    "%matplotlib inline\n",
    "\n",
    "diabetes = load_diabetes()\n",
    "\n",
    "X_train, X_test, y_train, y_test = train_test_split(\n",
    "    diabetes.data, diabetes.target, random_state=0\n",
    ")\n",
    "X_test = pd.DataFrame(X_test, columns=diabetes.feature_names)\n",
    "y_test = pd.DataFrame(y_test)\n",
    "\n",
    "model = RandomForestRegressor(random_state=0).fit(X_train, y_train)"
   ]
  },
  {
   "cell_type": "code",
   "execution_count": 4,
   "metadata": {},
   "outputs": [
    {
     "ename": "ModuleNotFoundError",
     "evalue": "No module named 'explainy.explanations'",
     "output_type": "error",
     "traceback": [
      "\u001b[1;31m---------------------------------------------------------------------------\u001b[0m",
      "\u001b[1;31mModuleNotFoundError\u001b[0m                       Traceback (most recent call last)",
      "\u001b[1;32m<ipython-input-4-ceb1630f9819>\u001b[0m in \u001b[0;36m<module>\u001b[1;34m\u001b[0m\n\u001b[1;32m----> 1\u001b[1;33m \u001b[1;32mfrom\u001b[0m \u001b[0mexplainy\u001b[0m\u001b[1;33m.\u001b[0m\u001b[0mexplanations\u001b[0m\u001b[1;33m.\u001b[0m\u001b[0mpermutation_explanation\u001b[0m \u001b[1;32mimport\u001b[0m \u001b[0mPermutationExplanation\u001b[0m\u001b[1;33m\u001b[0m\u001b[1;33m\u001b[0m\u001b[0m\n\u001b[0m\u001b[0;32m      2\u001b[0m \u001b[1;33m\u001b[0m\u001b[0m\n\u001b[0;32m      3\u001b[0m \u001b[0mnumber_of_features\u001b[0m \u001b[1;33m=\u001b[0m \u001b[1;36m4\u001b[0m\u001b[1;33m\u001b[0m\u001b[1;33m\u001b[0m\u001b[0m\n\u001b[0;32m      4\u001b[0m \u001b[0msample_index\u001b[0m \u001b[1;33m=\u001b[0m \u001b[1;36m1\u001b[0m\u001b[1;33m\u001b[0m\u001b[1;33m\u001b[0m\u001b[0m\n\u001b[0;32m      5\u001b[0m \u001b[1;33m\u001b[0m\u001b[0m\n",
      "\u001b[1;31mModuleNotFoundError\u001b[0m: No module named 'explainy.explanations'"
     ]
    }
   ],
   "source": [
    "from explainy.explanations.permutation_explanation import PermutationExplanation\n",
    "\n",
    "number_of_features = 4\n",
    "sample_index = 1\n",
    "\n",
    "explainer = PermutationExplanation(X_test, y_test, model, number_of_features)\n",
    "\n",
    "explanation = explainer.explain(sample_index)\n",
    "print(explanation)\n",
    "explainer.plot(kind='bar')"
   ]
  },
  {
   "cell_type": "code",
   "execution_count": null,
   "metadata": {},
   "outputs": [],
   "source": [
    "explainer.plot(kind='box')"
   ]
  },
  {
   "cell_type": "markdown",
   "metadata": {},
   "source": [
    "Generate explanations with multiple numbers of features to explain the outcoume.\n",
    "Since the `PermuationExplanation` method is a global explaination method, all samples will have the same feature importance explanation."
   ]
  },
  {
   "cell_type": "code",
   "execution_count": null,
   "metadata": {},
   "outputs": [],
   "source": [
    "# Global, Non-contrastive\n",
    "samples = [0]\n",
    "list_number_of_features = [2, 4, 6, 8, 10]\n",
    "\n",
    "sample_index = 0\n",
    "for number_of_features in [2, 4, 6, 8]:\n",
    "    explainer = PermutationExplanation(\n",
    "        X_test, y_test, model, number_of_features\n",
    "    )\n",
    "    explanation = explainer.explain(sample_index)\n",
    "    explainer.plot(kind='box')\n",
    "    print(explanation)\n",
    "    print('\\n')"
   ]
  },
  {
   "cell_type": "markdown",
   "metadata": {},
   "source": [
    "Let's use the `ShapExplanation` to create local explantions for each sample individually."
   ]
  },
  {
   "cell_type": "code",
   "execution_count": null,
   "metadata": {},
   "outputs": [],
   "source": [
    "from explainy.explanations.shap_explanation import ShapExplanation\n",
    "\n",
    "# Local, Non-contrastive\n",
    "number_of_features = 4\n",
    "for sample_index in [0, 1, 2, 3]:\n",
    "\n",
    "    explainer = ShapExplanation(\n",
    "        X_test, y_test, model, number_of_features\n",
    "    )\n",
    "    explanation = explainer.explain(sample_index)\n",
    "    explainer.plot(sample_index)\n",
    "    print(explanation)\n",
    "    print('\\n')\n"
   ]
  },
  {
   "cell_type": "markdown",
   "metadata": {},
   "source": []
  },
  {
   "cell_type": "code",
   "execution_count": null,
   "metadata": {},
   "outputs": [],
   "source": [
    "from explainy.explanations.surrogate_model_explanation import SurrogateModelExplanation\n",
    "\n",
    "# Global, Contrastive\n",
    "list_number_of_features = [2, 4]\n",
    "for number_of_features in list_number_of_features:\n",
    "    for sample_index in [0]:\n",
    "\n",
    "        explainer = SurrogateModelExplanation(\n",
    "            X_test, y_test, model, number_of_features\n",
    "        )\n",
    "        explanation = explainer.explain(sample_index)\n",
    "        explainer.plot(sample_index)\n",
    "        print(explanation)\n",
    "        print('\\n')\n"
   ]
  },
  {
   "cell_type": "markdown",
   "metadata": {},
   "source": []
  },
  {
   "cell_type": "code",
   "execution_count": null,
   "metadata": {},
   "outputs": [],
   "source": [
    "from explainy.explanations.counterfactual_explanation import CounterfactualExplanation\n",
    "\n",
    "# Local, Contrastive\n",
    "number_of_features = 6\n",
    "for number_of_features in list_number_of_features:\n",
    "    for sample_index in [1, 2, 3]:\n",
    "        explainer = CounterfactualExplanation(\n",
    "            X_test, y_test, model, number_of_features\n",
    "        )\n",
    "        explanation = explainer.explain(sample_index)\n",
    "        explainer.plot(sample_index)\n",
    "        print(explanation)\n",
    "        print('\\n')\n"
   ]
  },
  {
   "cell_type": "markdown",
   "metadata": {},
   "source": [
    "Finally, we can also compare the explanations using the four different algorithms:"
   ]
  },
  {
   "cell_type": "code",
   "execution_count": null,
   "metadata": {},
   "outputs": [],
   "source": [
    "number_of_features = 6\n",
    "sample_index = 1\n",
    "\n",
    "for ExplanationObject in [PermutationExplanation, SurrogateModelExplanation, ShapExplanation, CounterfactualExplanation]:\n",
    "    explainer = ExplanationObject(\n",
    "        X_test, y_test, model, number_of_features\n",
    "    )\n",
    "    explanation = explainer.explain(sample_index)\n",
    "    explainer.plot(sample_index)\n",
    "    print(explanation)\n",
    "    print('\\n')"
   ]
  }
 ],
 "metadata": {
  "interpreter": {
   "hash": "de55fbb6a3d1dcd7d34e4d81b1ef1a152ffc76ac074135090337ffe5be6ed72c"
  },
  "kernelspec": {
   "display_name": "Python 3",
   "language": "python",
   "name": "python3"
  },
  "language_info": {
   "codemirror_mode": {
    "name": "ipython",
    "version": 3
   },
   "file_extension": ".py",
   "mimetype": "text/x-python",
   "name": "python",
   "nbconvert_exporter": "python",
   "pygments_lexer": "ipython3",
   "version": "3.6.13"
  },
  "pycharm": {
   "stem_cell": {
    "cell_type": "raw",
    "metadata": {
     "collapsed": false
    },
    "source": []
   }
  }
 },
 "nbformat": 4,
 "nbformat_minor": 2
}
