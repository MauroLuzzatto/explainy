{
 "cells": [
  {
   "cell_type": "markdown",
   "source": [
    "# Introduction to `explainy`\n",
    "In this notebook, we will go over the main functionalities of the library"
   ],
   "metadata": {}
  },
  {
   "cell_type": "code",
   "execution_count": null,
   "source": [
    "import pandas as pd\r\n",
    "from sklearn.datasets import load_diabetes\r\n",
    "from sklearn.ensemble import RandomForestRegressor\r\n",
    "from sklearn.model_selection import train_test_split"
   ],
   "outputs": [
    {
     "output_type": "error",
     "ename": "Error",
     "evalue": "Session cannot generate requests",
     "traceback": [
      "Error: Session cannot generate requests",
      "at w.executeCodeCell (c:\\Users\\maurol\\.vscode\\extensions\\ms-toolsai.jupyter-2021.8.2041215044\\out\\client\\extension.js:52:301310)",
      "at w.execute (c:\\Users\\maurol\\.vscode\\extensions\\ms-toolsai.jupyter-2021.8.2041215044\\out\\client\\extension.js:52:300703)",
      "at w.start (c:\\Users\\maurol\\.vscode\\extensions\\ms-toolsai.jupyter-2021.8.2041215044\\out\\client\\extension.js:52:296367)",
      "at processTicksAndRejections (internal/process/task_queues.js:93:5)",
      "at async t.CellExecutionQueue.executeQueuedCells (c:\\Users\\maurol\\.vscode\\extensions\\ms-toolsai.jupyter-2021.8.2041215044\\out\\client\\extension.js:52:311160)",
      "at async t.CellExecutionQueue.start (c:\\Users\\maurol\\.vscode\\extensions\\ms-toolsai.jupyter-2021.8.2041215044\\out\\client\\extension.js:52:310700)"
     ]
    }
   ],
   "metadata": {
    "tags": []
   }
  },
  {
   "cell_type": "markdown",
   "source": [
    "`explainy` allows you to create machine learning model explanations based on four different explanation characteristics:\r\n",
    "\r\n",
    "-   **global**: explanation of system functionality\r\n",
    "-   **local**: explanation of decision rationale\r\n",
    "-   **contrastive**: tracing of decision path\r\n",
    "-   **non-contrastive**: parameter weighting\r\n",
    "\r\n",
    "The explanations algorithms in `explainy` can be categorized as follows:\r\n",
    "| | non-contrastive\t\t\t\t|contrastive | \r\n",
    "| --- \t\t\t| --- \t\t\t\t| --- | \r\n",
    "|global|Permutation Feature Importance\t| Surrogate Model | \r\n",
    "|local|Shap Values\t| Counterfactual Example|\r\n"
   ],
   "metadata": {}
  },
  {
   "cell_type": "code",
   "execution_count": null,
   "source": [
    "%load_ext autoreload\r\n",
    "%autoreload 2\r\n",
    "%matplotlib inline\r\n",
    "\r\n",
    "diabetes = load_diabetes()\r\n",
    "\r\n",
    "X_train, X_test, y_train, y_test = train_test_split(\r\n",
    "    diabetes.data, diabetes.target, random_state=0\r\n",
    ")\r\n",
    "X_test = pd.DataFrame(X_test, columns=diabetes.feature_names)\r\n",
    "y_test = pd.DataFrame(y_test)\r\n",
    "\r\n",
    "model = RandomForestRegressor(random_state=0).fit(X_train, y_train)"
   ],
   "outputs": [],
   "metadata": {
    "scrolled": true,
    "tags": []
   }
  },
  {
   "cell_type": "code",
   "execution_count": null,
   "source": [
    "from explainy.explanations.permutation_explanation import PermutationExplanation\r\n",
    "\r\n",
    "number_of_features = 4\r\n",
    "sample_index = 1\r\n",
    "\r\n",
    "explainer = PermutationExplanation(X_test, y_test, model, number_of_features)\r\n",
    "\r\n",
    "explanation = explainer.explain(sample_index)\r\n",
    "print(explanation)\r\n",
    "explainer.plot(kind='bar')"
   ],
   "outputs": [
    {
     "output_type": "stream",
     "name": "stdout",
     "text": [
      "The RandomForestRegressor used 10 features to produce the predictions. The prediction of this sample was 251.8.\n",
      "The feature importance was calculated using the Permutation Feature Importance method.\n",
      "The four features which were most important for the predictions were (from highest to lowest): 'bmi' (0.15), 's5' (0.12), 'bp' (0.03), and 'age' (0.02).\n"
     ]
    },
    {
     "output_type": "display_data",
     "data": {
      "image/png": "[encoded data removed]",
      "text/plain": [
       "<Figure size 432x144 with 1 Axes>"
      ]
     },
     "metadata": {
      "needs_background": "light"
     }
    }
   ],
   "metadata": {}
  },
  {
   "cell_type": "code",
   "execution_count": null,
   "source": [
    "explainer.plot(kind='box')"
   ],
   "outputs": [
    {
     "output_type": "display_data",
     "data": {
      "image/png": "[encoded data removed]",
      "text/plain": [
       "<Figure size 432x144 with 1 Axes>"
      ]
     },
     "metadata": {
      "needs_background": "light"
     }
    }
   ],
   "metadata": {}
  },
  {
   "cell_type": "markdown",
   "source": [
    "Generate explanations with multiple numbers of features to explain the outcoume.\n",
    "Since the `PermuationExplanation` method is a global explaination method, all samples will have the same feature importance explanation."
   ],
   "metadata": {}
  },
  {
   "cell_type": "code",
   "execution_count": null,
   "source": [
    "# Global, Non-contrastive\r\n",
    "samples = [0]\r\n",
    "list_number_of_features = [2, 4, 6, 8, 10]\r\n",
    "\r\n",
    "sample_index = 0\r\n",
    "for number_of_features in [2, 4, 6, 8]:\r\n",
    "    explainer = PermutationExplanation(\r\n",
    "        X_test, y_test, model, number_of_features\r\n",
    "    )\r\n",
    "    explanation = explainer.explain(sample_index)\r\n",
    "    explainer.plot(kind='box')\r\n",
    "    print(explanation)\r\n",
    "    print('\\n')"
   ],
   "outputs": [
    {
     "output_type": "display_data",
     "data": {
      "image/png": "[encoded data removed]",
      "text/plain": [
       "<Figure size 432x144 with 1 Axes>"
      ]
     },
     "metadata": {
      "needs_background": "light"
     }
    },
    {
     "output_type": "stream",
     "name": "stdout",
     "text": [
      "The RandomForestRegressor used 10 features to produce the predictions. The prediction of this sample was 250.6.\n",
      "The feature importance was calculated using the Permutation Feature Importance method.\n",
      "The two features which were most important for the predictions were (from highest to lowest): 'bmi' (0.15), and 's5' (0.12).\n",
      "\n",
      "\n"
     ]
    },
    {
     "output_type": "display_data",
     "data": {
      "image/png": "[encoded data removed]",
      "text/plain": [
       "<Figure size 432x144 with 1 Axes>"
      ]
     },
     "metadata": {
      "needs_background": "light"
     }
    },
    {
     "output_type": "stream",
     "name": "stdout",
     "text": [
      "The RandomForestRegressor used 10 features to produce the predictions. The prediction of this sample was 250.6.\n",
      "The feature importance was calculated using the Permutation Feature Importance method.\n",
      "The four features which were most important for the predictions were (from highest to lowest): 'bmi' (0.15), 's5' (0.12), 'bp' (0.03), and 'age' (0.02).\n",
      "\n",
      "\n"
     ]
    },
    {
     "output_type": "display_data",
     "data": {
      "image/png": "[encoded data removed]",
      "text/plain": [
       "<Figure size 432x216 with 1 Axes>"
      ]
     },
     "metadata": {
      "needs_background": "light"
     }
    },
    {
     "output_type": "stream",
     "name": "stdout",
     "text": [
      "The RandomForestRegressor used 10 features to produce the predictions. The prediction of this sample was 250.6.\n",
      "The feature importance was calculated using the Permutation Feature Importance method.\n",
      "The six features which were most important for the predictions were (from highest to lowest): 'bmi' (0.15), 's5' (0.12), 'bp' (0.03), 'age' (0.02), 's2' (-0.00), and 'sex' (-0.00).\n",
      "\n",
      "\n"
     ]
    },
    {
     "output_type": "display_data",
     "data": {
      "image/png": "[encoded data removed]",
      "text/plain": [
       "<Figure size 432x288 with 1 Axes>"
      ]
     },
     "metadata": {
      "needs_background": "light"
     }
    },
    {
     "output_type": "stream",
     "name": "stdout",
     "text": [
      "The RandomForestRegressor used 10 features to produce the predictions. The prediction of this sample was 250.6.\n",
      "The feature importance was calculated using the Permutation Feature Importance method.\n",
      "The eight features which were most important for the predictions were (from highest to lowest): 'bmi' (0.15), 's5' (0.12), 'bp' (0.03), 'age' (0.02), 's2' (-0.00), 'sex' (-0.00), 's3' (-0.00), and 's1' (-0.01).\n",
      "\n",
      "\n"
     ]
    }
   ],
   "metadata": {}
  },
  {
   "cell_type": "markdown",
   "source": [
    "Let's use the `ShapExplanation` to create local explantions for each sample individually."
   ],
   "metadata": {}
  },
  {
   "cell_type": "code",
   "execution_count": null,
   "source": [
    "from explainy.explanations.shap_explanation import ShapExplanation\r\n",
    "\r\n",
    "# Local, Non-contrastive\r\n",
    "number_of_features = 4\r\n",
    "for sample_index in [0, 1, 2, 3]:\r\n",
    "\r\n",
    "    explainer = ShapExplanation(\r\n",
    "        X_test, y_test, model, number_of_features\r\n",
    "    )\r\n",
    "    explanation = explainer.explain(sample_index)\r\n",
    "    explainer.plot(sample_index)\r\n",
    "    print(explanation)\r\n",
    "    print('\\n')\r\n"
   ],
   "outputs": [
    {
     "output_type": "display_data",
     "data": {
      "image/png": "[encoded data removed]",
      "text/plain": [
       "<Figure size 432x144 with 1 Axes>"
      ]
     },
     "metadata": {
      "needs_background": "light"
     }
    },
    {
     "output_type": "stream",
     "name": "stdout",
     "text": [
      "The RandomForestRegressor used 10 features to produce the predictions. The prediction of this sample was 250.6.\n",
      "The feature importance was calculated using the SHAP method.\n",
      "The four features which were most important for this particular sample were (from highest to lowest): 'bmi' (76.27), 'bp' (22.80), 's5' (-5.95), and 's3' (4.48).\n",
      "\n",
      "\n"
     ]
    },
    {
     "output_type": "display_data",
     "data": {
      "image/png": "[encoded data removed]",
      "text/plain": [
       "<Figure size 432x144 with 1 Axes>"
      ]
     },
     "metadata": {
      "needs_background": "light"
     }
    },
    {
     "output_type": "stream",
     "name": "stdout",
     "text": [
      "The RandomForestRegressor used 10 features to produce the predictions. The prediction of this sample was 251.8.\n",
      "The feature importance was calculated using the SHAP method.\n",
      "The four features which were most important for this particular sample were (from highest to lowest): 'bmi' (49.63), 's5' (41.66), 'bp' (9.40), and 's6' (-4.04).\n",
      "\n",
      "\n"
     ]
    },
    {
     "output_type": "display_data",
     "data": {
      "image/png": "[encoded data removed]",
      "text/plain": [
       "<Figure size 432x144 with 1 Axes>"
      ]
     },
     "metadata": {
      "needs_background": "light"
     }
    },
    {
     "output_type": "stream",
     "name": "stdout",
     "text": [
      "The RandomForestRegressor used 10 features to produce the predictions. The prediction of this sample was 169.2.\n",
      "The feature importance was calculated using the SHAP method.\n",
      "The four features which were most important for this particular sample were (from highest to lowest): 'bmi' (22.48), 's5' (-11.53), 'bp' (9.70), and 's6' (-7.94).\n",
      "\n",
      "\n"
     ]
    },
    {
     "output_type": "display_data",
     "data": {
      "image/png": "[encoded data removed]",
      "text/plain": [
       "<Figure size 432x144 with 1 Axes>"
      ]
     },
     "metadata": {
      "needs_background": "light"
     }
    },
    {
     "output_type": "stream",
     "name": "stdout",
     "text": [
      "The RandomForestRegressor used 10 features to produce the predictions. The prediction of this sample was 93.7.\n",
      "The feature importance was calculated using the SHAP method.\n",
      "The four features which were most important for this particular sample were (from highest to lowest): 'bmi' (-27.17), 's5' (-22.63), 'age' (-8.00), and 'bp' (-3.70).\n",
      "\n",
      "\n"
     ]
    }
   ],
   "metadata": {}
  },
  {
   "cell_type": "markdown",
   "source": [],
   "metadata": {}
  },
  {
   "cell_type": "code",
   "execution_count": null,
   "source": [
    "from explainy.explanations.surrogate_model_explanation import SurrogateModelExplanation\r\n",
    "\r\n",
    "# Global, Contrastive\r\n",
    "list_number_of_features = [2, 4]\r\n",
    "for number_of_features in list_number_of_features:\r\n",
    "    for sample_index in [0]:\r\n",
    "\r\n",
    "        explainer = SurrogateModelExplanation(\r\n",
    "            X_test, y_test, model, number_of_features\r\n",
    "        )\r\n",
    "        explanation = explainer.explain(sample_index)\r\n",
    "        explainer.plot(sample_index)\r\n",
    "        print(explanation)\r\n",
    "        print('\\n')\r\n"
   ],
   "outputs": [
    {
     "output_type": "stream",
     "name": "stderr",
     "text": [
      "2021-09-30 21:53:20,072: INFO: Surrogate Model R2 score: 0.53\n"
     ]
    }
   ],
   "metadata": {}
  },
  {
   "cell_type": "markdown",
   "source": [],
   "metadata": {}
  },
  {
   "cell_type": "code",
   "execution_count": null,
   "source": [
    "from explainy.explanations.counterfactual_explanation import CounterfactualExplanation\r\n",
    "\r\n",
    "# Local, Contrastive\r\n",
    "number_of_features = 6\r\n",
    "for number_of_features in list_number_of_features:\r\n",
    "    for sample_index in [1, 2, 3]:\r\n",
    "        explainer = CounterfactualExplanation(\r\n",
    "            X_test, y_test, model, number_of_features\r\n",
    "        )\r\n",
    "        explanation = explainer.explain(sample_index)\r\n",
    "        explainer.plot(sample_index)\r\n",
    "        print(explanation)\r\n",
    "        print('\\n')\r\n"
   ],
   "outputs": [
    {
     "output_type": "error",
     "ename": "Error",
     "evalue": "Session cannot generate requests",
     "traceback": [
      "Error: Session cannot generate requests",
      "at w.executeCodeCell (c:\\Users\\maurol\\.vscode\\extensions\\ms-toolsai.jupyter-2021.8.2041215044\\out\\client\\extension.js:52:301310)",
      "at w.execute (c:\\Users\\maurol\\.vscode\\extensions\\ms-toolsai.jupyter-2021.8.2041215044\\out\\client\\extension.js:52:300703)",
      "at w.start (c:\\Users\\maurol\\.vscode\\extensions\\ms-toolsai.jupyter-2021.8.2041215044\\out\\client\\extension.js:52:296367)",
      "at runMicrotasks (<anonymous>)",
      "at processTicksAndRejections (internal/process/task_queues.js:93:5)",
      "at async t.CellExecutionQueue.executeQueuedCells (c:\\Users\\maurol\\.vscode\\extensions\\ms-toolsai.jupyter-2021.8.2041215044\\out\\client\\extension.js:52:311160)",
      "at async t.CellExecutionQueue.start (c:\\Users\\maurol\\.vscode\\extensions\\ms-toolsai.jupyter-2021.8.2041215044\\out\\client\\extension.js:52:310700)"
     ]
    }
   ],
   "metadata": {}
  },
  {
   "cell_type": "markdown",
   "source": [
    "Finally, we can also compare the explanations using the four different algorithms:"
   ],
   "metadata": {}
  },
  {
   "cell_type": "code",
   "execution_count": null,
   "source": [
    "number_of_features = 4\r\n",
    "sample_index = 1\r\n",
    "\r\n",
    "for ExplanationObject in [PermutationExplanation, SurrogateModelExplanation, ShapExplanation, CounterfactualExplanation]:\r\n",
    "    explainer = ExplanationObject(\r\n",
    "        X_test, y_test, model, number_of_features\r\n",
    "    )\r\n",
    "    explanation = explainer.explain(sample_index)\r\n",
    "    explainer.plot(sample_index)\r\n",
    "    print(explanation)\r\n",
    "    print('\\n')"
   ],
   "outputs": [],
   "metadata": {}
  }
 ],
 "metadata": {
  "interpreter": {
   "hash": "de55fbb6a3d1dcd7d34e4d81b1ef1a152ffc76ac074135090337ffe5be6ed72c"
  },
  "kernelspec": {
   "name": "python3",
   "display_name": "Python 3.8.0 64-bit ('explanation_env': conda)"
  },
  "language_info": {
   "codemirror_mode": {
    "name": "ipython",
    "version": 3
   },
   "file_extension": ".py",
   "mimetype": "text/x-python",
   "name": "python",
   "nbconvert_exporter": "python",
   "pygments_lexer": "ipython3",
   "version": "3.8.0"
  },
  "pycharm": {
   "stem_cell": {
    "cell_type": "raw",
    "metadata": {
     "collapsed": false
    },
    "source": []
   }
  }
 },
 "nbformat": 4,
 "nbformat_minor": 2
}