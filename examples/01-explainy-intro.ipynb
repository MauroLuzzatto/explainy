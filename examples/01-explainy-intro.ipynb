{
 "cells": [
  {
   "attachments": {},
   "cell_type": "markdown",
   "metadata": {},
   "source": [
    "# Introduction to `explainy` - black-box model explanations for humans\n",
    "In this notebook, we will go over the main algorithms of the `explainy` package."
   ]
  },
  {
   "cell_type": "code",
   "execution_count": null,
   "metadata": {
    "tags": []
   },
   "outputs": [],
   "source": [
    "import pandas as pd\n",
    "from sklearn.datasets import load_diabetes\n",
    "from sklearn.ensemble import RandomForestRegressor\n",
    "from sklearn.model_selection import train_test_split"
   ]
  },
  {
   "attachments": {},
   "cell_type": "markdown",
   "metadata": {},
   "source": [
    "### Installing Explainy\n",
    "We recommend using some virtual environment. Then there are mainly two ways.\n",
    "\n",
    "With pip:\n",
    "\n",
    "`pip install explainy`"
   ]
  },
  {
   "cell_type": "code",
   "execution_count": null,
   "metadata": {},
   "outputs": [],
   "source": [
    "%%capture\n",
    "# !pip install explainy==0.2.5"
   ]
  },
  {
   "cell_type": "code",
   "execution_count": null,
   "metadata": {},
   "outputs": [],
   "source": [
    "import explainy\n",
    "print(explainy.__version__)"
   ]
  },
  {
   "attachments": {},
   "cell_type": "markdown",
   "metadata": {},
   "source": [
    "`explainy` allows you to create machine learning model explanations based on four different explanation characteristics:\n",
    "\n",
    "-   **global**: explanation of system functionality\n",
    "-   **local**: explanation of decision rationale\n",
    "-   **contrastive**: tracing of decision path\n",
    "-   **non-contrastive**: parameter weighting\n",
    "\n",
    "The explanations algorithms in `explainy` can be categorized as follows:\n",
    "\n",
    "| | non-contrastive\t\t\t\t|contrastive | \n",
    "| --- \t\t\t| --- \t\t\t\t| --- | \n",
    "|global|Permutation Feature Importance\t| Surrogate Model | \n",
    "|local|Shap Values\t| Counterfactual Example|\n"
   ]
  },
  {
   "cell_type": "code",
   "execution_count": null,
   "metadata": {
    "scrolled": true,
    "tags": []
   },
   "outputs": [],
   "source": [
    "%load_ext autoreload\n",
    "%autoreload 2\n",
    "%matplotlib inline\n",
    "\n",
    "diabetes = load_diabetes()\n",
    "\n",
    "X_train, X_test, y_train, y_test = train_test_split(\n",
    "    diabetes.data, diabetes.target, random_state=0\n",
    ")\n",
    "X_test = pd.DataFrame(X_test, columns=diabetes.feature_names)\n",
    "y_test = pd.DataFrame(y_test)\n",
    "\n",
    "model = RandomForestRegressor(random_state=0).fit(X_train, y_train)"
   ]
  },
  {
   "cell_type": "code",
   "execution_count": null,
   "metadata": {},
   "outputs": [],
   "source": [
    "from explainy.explanations import PermutationExplanation\n",
    "\n",
    "number_of_features = 4\n",
    "sample_index = 1\n",
    "\n",
    "explainer = PermutationExplanation(\n",
    "    X_test, y_test, model, number_of_features\n",
    ")\n",
    "explanation = explainer.explain(sample_index)\n",
    "print(explanation)\n",
    "explainer.plot(kind='bar')"
   ]
  },
  {
   "cell_type": "code",
   "execution_count": null,
   "metadata": {},
   "outputs": [],
   "source": [
    "explainer.plot(kind='box')"
   ]
  },
  {
   "attachments": {},
   "cell_type": "markdown",
   "metadata": {},
   "source": [
    "Generate explanations with multiple numbers of features to explain the outcoume.\n",
    "Since the `PermuationExplanation` method is a global explaination method, all samples will have the same feature importance explanation."
   ]
  },
  {
   "cell_type": "code",
   "execution_count": null,
   "metadata": {},
   "outputs": [],
   "source": [
    "# Global, Non-contrastive\n",
    "sample_index = 0\n",
    "for number_of_features in [3, 6, 9]:\n",
    "    explainer = PermutationExplanation(\n",
    "        X_test, y_test, model, number_of_features\n",
    "    )\n",
    "    explanation = explainer.explain(sample_index)\n",
    "    explainer.plot(kind='box')\n",
    "    print(explanation)\n",
    "    print('\\n'*2)"
   ]
  },
  {
   "attachments": {},
   "cell_type": "markdown",
   "metadata": {},
   "source": [
    "Let's use the `ShapExplanation` to create local explantions for each sample individually."
   ]
  },
  {
   "cell_type": "code",
   "execution_count": null,
   "metadata": {},
   "outputs": [],
   "source": [
    "from explainy.explanations import ShapExplanation\n",
    "\n",
    "# Local, Non-contrastive\n",
    "number_of_features = 4\n",
    "for sample_index in [0, 1, 2]:\n",
    "\n",
    "    explainer = ShapExplanation(\n",
    "        X_test, y_test, model, number_of_features\n",
    "    )\n",
    "    explanation = explainer.explain(sample_index)\n",
    "    explainer.plot(sample_index)\n",
    "    print(explanation)\n",
    "    print('\\n'*2)"
   ]
  },
  {
   "attachments": {},
   "cell_type": "markdown",
   "metadata": {},
   "source": [
    "Let's use the `SurrogateModelExplanation` to create global explantions."
   ]
  },
  {
   "cell_type": "code",
   "execution_count": null,
   "metadata": {},
   "outputs": [],
   "source": [
    "from explainy.explanations import SurrogateModelExplanation\n",
    "\n",
    "# Global, Contrastive\n",
    "list_number_of_features = [2, 4]\n",
    "sample_index = 0\n",
    "for number_of_features in list_number_of_features:\n",
    "\n",
    "    explainer = SurrogateModelExplanation(\n",
    "        X_test, y_test, model, number_of_features\n",
    "    )\n",
    "    explanation = explainer.explain(sample_index)\n",
    "    explainer.plot(sample_index)\n",
    "    print(explanation)\n",
    "    print('\\n'*2)"
   ]
  },
  {
   "attachments": {},
   "cell_type": "markdown",
   "metadata": {},
   "source": [
    "Let's use the `CounterfactualExplanation` to create local explantions and show, how the feature would have had to change to achieve a desired y value."
   ]
  },
  {
   "cell_type": "code",
   "execution_count": null,
   "metadata": {},
   "outputs": [],
   "source": [
    "from explainy.explanations import CounterfactualExplanation\n",
    "\n",
    "# Local, Contrastive\n",
    "number_of_features = 6\n",
    "sample_index = 2\n",
    "for number_of_features in [4, 8]:\n",
    "    explainer = CounterfactualExplanation(\n",
    "        X_test, y_test, model, number_of_features, y_desired=180.\n",
    "    )\n",
    "    explanation = explainer.explain(sample_index)\n",
    "    explainer.plot(sample_index)\n",
    "    print(explanation)\n",
    "    print('\\n'*2)"
   ]
  }
 ],
 "metadata": {
  "interpreter": {
   "hash": "de55fbb6a3d1dcd7d34e4d81b1ef1a152ffc76ac074135090337ffe5be6ed72c"
  },
  "kernelspec": {
   "display_name": "Python 3.8.0 64-bit ('explanation_env': conda)",
   "name": "python3"
  },
  "language_info": {
   "codemirror_mode": {
    "name": "ipython",
    "version": 3
   },
   "file_extension": ".py",
   "mimetype": "text/x-python",
   "name": "python",
   "nbconvert_exporter": "python",
   "pygments_lexer": "ipython3",
   "version": "3.11.3"
  },
  "pycharm": {
   "stem_cell": {
    "cell_type": "raw",
    "metadata": {
     "collapsed": false
    },
    "source": []
   }
  }
 },
 "nbformat": 4,
 "nbformat_minor": 2
}
