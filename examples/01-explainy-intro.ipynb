{
 "cells": [
  {
   "attachments": {},
   "cell_type": "markdown",
   "metadata": {},
   "source": [
    "# Introduction to `explainy` - black-box model explanations for humans\n",
    "In this notebook, we will go over the main algorithms of the `explainy` package."
   ]
  },
  {
   "cell_type": "code",
   "execution_count": 1,
   "metadata": {
    "tags": []
   },
   "outputs": [],
   "source": [
    "import pandas as pd\n",
    "from sklearn.datasets import load_diabetes\n",
    "from sklearn.ensemble import RandomForestRegressor\n",
    "from sklearn.model_selection import train_test_split"
   ]
  },
  {
   "attachments": {},
   "cell_type": "markdown",
   "metadata": {},
   "source": [
    "### Installing Explainy\n",
    "We recommend using some virtual environment. Then there are mainly two ways.\n",
    "\n",
    "With pip:\n",
    "\n",
    "`pip install explainy`"
   ]
  },
  {
   "cell_type": "code",
   "execution_count": 2,
   "metadata": {},
   "outputs": [
    {
     "name": "stdout",
     "output_type": "stream",
     "text": [
      "Obtaining file:///Users/mauroluzzatto/Documents/python_scripts/explainy\n",
      "  Preparing metadata (setup.py) ... \u001b[?25ldone\n",
      "\u001b[?25hRequirement already satisfied: scikit-learn==1.2.2 in /Users/mauroluzzatto/.pyenv/versions/3.8.16/envs/explainy_env/lib/python3.8/site-packages (from explainy==0.2.4) (1.2.2)\n",
      "Requirement already satisfied: pandas in /Users/mauroluzzatto/.pyenv/versions/3.8.16/envs/explainy_env/lib/python3.8/site-packages (from explainy==0.2.4) (2.0.2)\n",
      "Requirement already satisfied: mlxtend==0.18.0 in /Users/mauroluzzatto/.pyenv/versions/3.8.16/envs/explainy_env/lib/python3.8/site-packages (from explainy==0.2.4) (0.18.0)\n",
      "Requirement already satisfied: shap==0.44.0 in /Users/mauroluzzatto/.pyenv/versions/3.8.16/envs/explainy_env/lib/python3.8/site-packages (from explainy==0.2.4) (0.44.0)\n",
      "Requirement already satisfied: matplotlib==3.7.1 in /Users/mauroluzzatto/.pyenv/versions/3.8.16/envs/explainy_env/lib/python3.8/site-packages (from explainy==0.2.4) (3.7.1)\n",
      "Requirement already satisfied: graphviz==0.16 in /Users/mauroluzzatto/.pyenv/versions/3.8.16/envs/explainy_env/lib/python3.8/site-packages (from explainy==0.2.4) (0.16)\n",
      "Requirement already satisfied: numpy==1.23.1 in /Users/mauroluzzatto/.pyenv/versions/3.8.16/envs/explainy_env/lib/python3.8/site-packages (from explainy==0.2.4) (1.23.1)\n",
      "Requirement already satisfied: contourpy>=1.0.1 in /Users/mauroluzzatto/.pyenv/versions/3.8.16/envs/explainy_env/lib/python3.8/site-packages (from matplotlib==3.7.1->explainy==0.2.4) (1.1.0)\n",
      "Requirement already satisfied: cycler>=0.10 in /Users/mauroluzzatto/.pyenv/versions/3.8.16/envs/explainy_env/lib/python3.8/site-packages (from matplotlib==3.7.1->explainy==0.2.4) (0.11.0)\n",
      "Requirement already satisfied: fonttools>=4.22.0 in /Users/mauroluzzatto/.pyenv/versions/3.8.16/envs/explainy_env/lib/python3.8/site-packages (from matplotlib==3.7.1->explainy==0.2.4) (4.40.0)\n",
      "Requirement already satisfied: kiwisolver>=1.0.1 in /Users/mauroluzzatto/.pyenv/versions/3.8.16/envs/explainy_env/lib/python3.8/site-packages (from matplotlib==3.7.1->explainy==0.2.4) (1.4.4)\n",
      "Requirement already satisfied: packaging>=20.0 in /Users/mauroluzzatto/.pyenv/versions/3.8.16/envs/explainy_env/lib/python3.8/site-packages (from matplotlib==3.7.1->explainy==0.2.4) (23.1)\n",
      "Requirement already satisfied: pillow>=6.2.0 in /Users/mauroluzzatto/.pyenv/versions/3.8.16/envs/explainy_env/lib/python3.8/site-packages (from matplotlib==3.7.1->explainy==0.2.4) (9.5.0)\n",
      "Requirement already satisfied: pyparsing>=2.3.1 in /Users/mauroluzzatto/.pyenv/versions/3.8.16/envs/explainy_env/lib/python3.8/site-packages (from matplotlib==3.7.1->explainy==0.2.4) (3.1.0)\n",
      "Requirement already satisfied: python-dateutil>=2.7 in /Users/mauroluzzatto/.pyenv/versions/3.8.16/envs/explainy_env/lib/python3.8/site-packages (from matplotlib==3.7.1->explainy==0.2.4) (2.8.2)\n",
      "Requirement already satisfied: importlib-resources>=3.2.0 in /Users/mauroluzzatto/.pyenv/versions/3.8.16/envs/explainy_env/lib/python3.8/site-packages (from matplotlib==3.7.1->explainy==0.2.4) (5.12.0)\n",
      "Requirement already satisfied: scipy>=1.2.1 in /Users/mauroluzzatto/.pyenv/versions/3.8.16/envs/explainy_env/lib/python3.8/site-packages (from mlxtend==0.18.0->explainy==0.2.4) (1.10.1)\n",
      "Requirement already satisfied: joblib>=0.13.2 in /Users/mauroluzzatto/.pyenv/versions/3.8.16/envs/explainy_env/lib/python3.8/site-packages (from mlxtend==0.18.0->explainy==0.2.4) (1.2.0)\n",
      "Requirement already satisfied: setuptools in /Users/mauroluzzatto/.pyenv/versions/3.8.16/envs/explainy_env/lib/python3.8/site-packages (from mlxtend==0.18.0->explainy==0.2.4) (56.0.0)\n",
      "Requirement already satisfied: threadpoolctl>=2.0.0 in /Users/mauroluzzatto/.pyenv/versions/3.8.16/envs/explainy_env/lib/python3.8/site-packages (from scikit-learn==1.2.2->explainy==0.2.4) (3.1.0)\n",
      "Requirement already satisfied: tqdm>=4.27.0 in /Users/mauroluzzatto/.pyenv/versions/3.8.16/envs/explainy_env/lib/python3.8/site-packages (from shap==0.44.0->explainy==0.2.4) (4.65.0)\n",
      "Requirement already satisfied: slicer==0.0.7 in /Users/mauroluzzatto/.pyenv/versions/3.8.16/envs/explainy_env/lib/python3.8/site-packages (from shap==0.44.0->explainy==0.2.4) (0.0.7)\n",
      "Requirement already satisfied: numba in /Users/mauroluzzatto/.pyenv/versions/3.8.16/envs/explainy_env/lib/python3.8/site-packages (from shap==0.44.0->explainy==0.2.4) (0.57.1)\n",
      "Requirement already satisfied: cloudpickle in /Users/mauroluzzatto/.pyenv/versions/3.8.16/envs/explainy_env/lib/python3.8/site-packages (from shap==0.44.0->explainy==0.2.4) (2.2.1)\n",
      "Requirement already satisfied: pytz>=2020.1 in /Users/mauroluzzatto/.pyenv/versions/3.8.16/envs/explainy_env/lib/python3.8/site-packages (from pandas->explainy==0.2.4) (2023.3)\n",
      "Requirement already satisfied: tzdata>=2022.1 in /Users/mauroluzzatto/.pyenv/versions/3.8.16/envs/explainy_env/lib/python3.8/site-packages (from pandas->explainy==0.2.4) (2023.3)\n",
      "Requirement already satisfied: zipp>=3.1.0 in /Users/mauroluzzatto/.pyenv/versions/3.8.16/envs/explainy_env/lib/python3.8/site-packages (from importlib-resources>=3.2.0->matplotlib==3.7.1->explainy==0.2.4) (3.15.0)\n",
      "Requirement already satisfied: six>=1.5 in /Users/mauroluzzatto/.pyenv/versions/3.8.16/envs/explainy_env/lib/python3.8/site-packages (from python-dateutil>=2.7->matplotlib==3.7.1->explainy==0.2.4) (1.16.0)\n",
      "Requirement already satisfied: llvmlite<0.41,>=0.40.0dev0 in /Users/mauroluzzatto/.pyenv/versions/3.8.16/envs/explainy_env/lib/python3.8/site-packages (from numba->shap==0.44.0->explainy==0.2.4) (0.40.1)\n",
      "Requirement already satisfied: importlib-metadata in /Users/mauroluzzatto/.pyenv/versions/3.8.16/envs/explainy_env/lib/python3.8/site-packages (from numba->shap==0.44.0->explainy==0.2.4) (6.7.0)\n",
      "Installing collected packages: explainy\n",
      "  Attempting uninstall: explainy\n",
      "    Found existing installation: explainy 0.2.4\n",
      "    Uninstalling explainy-0.2.4:\n",
      "      Successfully uninstalled explainy-0.2.4\n",
      "  Running setup.py develop for explainy\n",
      "Successfully installed explainy-0.2.4\n",
      "\n",
      "\u001b[1m[\u001b[0m\u001b[34;49mnotice\u001b[0m\u001b[1;39;49m]\u001b[0m\u001b[39;49m A new release of pip is available: \u001b[0m\u001b[31;49m23.1.2\u001b[0m\u001b[39;49m -> \u001b[0m\u001b[32;49m23.3.2\u001b[0m\n",
      "\u001b[1m[\u001b[0m\u001b[34;49mnotice\u001b[0m\u001b[1;39;49m]\u001b[0m\u001b[39;49m To update, run: \u001b[0m\u001b[32;49mpip install --upgrade pip\u001b[0m\n"
     ]
    }
   ],
   "source": [
    "# !pip install explainy==0.2.3\n",
    "!pip install -e ./"
   ]
  },
  {
   "cell_type": "code",
   "execution_count": 3,
   "metadata": {},
   "outputs": [
    {
     "name": "stdout",
     "output_type": "stream",
     "text": [
      "test\n",
      "0.2.4\n"
     ]
    }
   ],
   "source": [
    "import explainy\n",
    "print(explainy.__version__)"
   ]
  },
  {
   "attachments": {},
   "cell_type": "markdown",
   "metadata": {},
   "source": [
    "`explainy` allows you to create machine learning model explanations based on four different explanation characteristics:\n",
    "\n",
    "-   **global**: explanation of system functionality\n",
    "-   **local**: explanation of decision rationale\n",
    "-   **contrastive**: tracing of decision path\n",
    "-   **non-contrastive**: parameter weighting\n",
    "\n",
    "The explanations algorithms in `explainy` can be categorized as follows:\n",
    "\n",
    "| | non-contrastive\t\t\t\t|contrastive | \n",
    "| --- \t\t\t| --- \t\t\t\t| --- | \n",
    "|global|Permutation Feature Importance\t| Surrogate Model | \n",
    "|local|Shap Values\t| Counterfactual Example|\n"
   ]
  },
  {
   "cell_type": "code",
   "execution_count": 4,
   "metadata": {
    "scrolled": true,
    "tags": []
   },
   "outputs": [],
   "source": [
    "%load_ext autoreload\n",
    "%autoreload 2\n",
    "%matplotlib inline\n",
    "\n",
    "diabetes = load_diabetes()\n",
    "\n",
    "X_train, X_test, y_train, y_test = train_test_split(\n",
    "    diabetes.data, diabetes.target, random_state=0\n",
    ")\n",
    "X_test = pd.DataFrame(X_test, columns=diabetes.feature_names)\n",
    "y_test = pd.DataFrame(y_test)\n",
    "\n",
    "model = RandomForestRegressor(random_state=0).fit(X_train, y_train)"
   ]
  },
  {
   "cell_type": "code",
   "execution_count": 5,
   "metadata": {},
   "outputs": [
    {
     "name": "stderr",
     "output_type": "stream",
     "text": [
      "2023-12-27 10:06:48,269: DEBUG: findfont: Matching sans\\-serif:style=normal:variant=normal:weight=normal:stretch=normal:size=10.0.\n",
      "2023-12-27 10:06:48,269: DEBUG: findfont: score(FontEntry(fname='/Users/mauroluzzatto/.pyenv/versions/3.8.16/envs/explainy_env/lib/python3.8/site-packages/matplotlib/mpl-data/fonts/ttf/DejaVuSerif-Italic.ttf', name='DejaVu Serif', style='italic', variant='normal', weight=400, stretch='normal', size='scalable')) = 11.05\n",
      "2023-12-27 10:06:48,270: DEBUG: findfont: score(FontEntry(fname='/Users/mauroluzzatto/.pyenv/versions/3.8.16/envs/explainy_env/lib/python3.8/site-packages/matplotlib/mpl-data/fonts/ttf/cmss10.ttf', name='cmss10', style='normal', variant='normal', weight=400, stretch='normal', size='scalable')) = 10.05\n",
      "2023-12-27 10:06:48,270: DEBUG: findfont: score(FontEntry(fname='/Users/mauroluzzatto/.pyenv/versions/3.8.16/envs/explainy_env/lib/python3.8/site-packages/matplotlib/mpl-data/fonts/ttf/STIXGeneralBol.ttf', name='STIXGeneral', style='normal', variant='normal', weight=700, stretch='normal', size='scalable')) = 10.335\n",
      "2023-12-27 10:06:48,270: DEBUG: findfont: score(FontEntry(fname='/Users/mauroluzzatto/.pyenv/versions/3.8.16/envs/explainy_env/lib/python3.8/site-packages/matplotlib/mpl-data/fonts/ttf/STIXGeneral.ttf', name='STIXGeneral', style='normal', variant='normal', weight=400, stretch='normal', size='scalable')) = 10.05\n",
      "2023-12-27 10:06:48,271: DEBUG: findfont: score(FontEntry(fname='/Users/mauroluzzatto/.pyenv/versions/3.8.16/envs/explainy_env/lib/python3.8/site-packages/matplotlib/mpl-data/fonts/ttf/DejaVuSans-Oblique.ttf', name='DejaVu Sans', style='oblique', variant='normal', weight=400, stretch='normal', size='scalable')) = 1.05\n",
      "2023-12-27 10:06:48,271: DEBUG: findfont: score(FontEntry(fname='/Users/mauroluzzatto/.pyenv/versions/3.8.16/envs/explainy_env/lib/python3.8/site-packages/matplotlib/mpl-data/fonts/ttf/STIXSizThreeSymReg.ttf', name='STIXSizeThreeSym', style='normal', variant='normal', weight=400, stretch='normal', size='scalable')) = 10.05\n",
      "2023-12-27 10:06:48,272: DEBUG: findfont: score(FontEntry(fname='/Users/mauroluzzatto/.pyenv/versions/3.8.16/envs/explainy_env/lib/python3.8/site-packages/matplotlib/mpl-data/fonts/ttf/cmmi10.ttf', name='cmmi10', style='normal', variant='normal', weight=400, stretch='normal', size='scalable')) = 10.05\n",
      "2023-12-27 10:06:48,272: DEBUG: findfont: score(FontEntry(fname='/Users/mauroluzzatto/.pyenv/versions/3.8.16/envs/explainy_env/lib/python3.8/site-packages/matplotlib/mpl-data/fonts/ttf/cmsy10.ttf', name='cmsy10', style='normal', variant='normal', weight=400, stretch='normal', size='scalable')) = 10.05\n",
      "2023-12-27 10:06:48,272: DEBUG: findfont: score(FontEntry(fname='/Users/mauroluzzatto/.pyenv/versions/3.8.16/envs/explainy_env/lib/python3.8/site-packages/matplotlib/mpl-data/fonts/ttf/STIXGeneralBolIta.ttf', name='STIXGeneral', style='italic', variant='normal', weight=700, stretch='normal', size='scalable')) = 11.335\n",
      "2023-12-27 10:06:48,273: DEBUG: findfont: score(FontEntry(fname='/Users/mauroluzzatto/.pyenv/versions/3.8.16/envs/explainy_env/lib/python3.8/site-packages/matplotlib/mpl-data/fonts/ttf/STIXSizThreeSymBol.ttf', name='STIXSizeThreeSym', style='normal', variant='normal', weight=700, stretch='normal', size='scalable')) = 10.335\n",
      "2023-12-27 10:06:48,273: DEBUG: findfont: score(FontEntry(fname='/Users/mauroluzzatto/.pyenv/versions/3.8.16/envs/explainy_env/lib/python3.8/site-packages/matplotlib/mpl-data/fonts/ttf/STIXNonUniIta.ttf', name='STIXNonUnicode', style='italic', variant='normal', weight=400, stretch='normal', size='scalable')) = 11.05\n",
      "2023-12-27 10:06:48,273: DEBUG: findfont: score(FontEntry(fname='/Users/mauroluzzatto/.pyenv/versions/3.8.16/envs/explainy_env/lib/python3.8/site-packages/matplotlib/mpl-data/fonts/ttf/DejaVuSansMono-Bold.ttf', name='DejaVu Sans Mono', style='normal', variant='normal', weight=700, stretch='normal', size='scalable')) = 10.335\n",
      "2023-12-27 10:06:48,274: DEBUG: findfont: score(FontEntry(fname='/Users/mauroluzzatto/.pyenv/versions/3.8.16/envs/explainy_env/lib/python3.8/site-packages/matplotlib/mpl-data/fonts/ttf/STIXNonUniBol.ttf', name='STIXNonUnicode', style='normal', variant='normal', weight=700, stretch='normal', size='scalable')) = 10.335\n",
      "2023-12-27 10:06:48,274: DEBUG: findfont: score(FontEntry(fname='/Users/mauroluzzatto/.pyenv/versions/3.8.16/envs/explainy_env/lib/python3.8/site-packages/matplotlib/mpl-data/fonts/ttf/STIXNonUni.ttf', name='STIXNonUnicode', style='normal', variant='normal', weight=400, stretch='normal', size='scalable')) = 10.05\n",
      "2023-12-27 10:06:48,274: DEBUG: findfont: score(FontEntry(fname='/Users/mauroluzzatto/.pyenv/versions/3.8.16/envs/explainy_env/lib/python3.8/site-packages/matplotlib/mpl-data/fonts/ttf/DejaVuSansMono.ttf', name='DejaVu Sans Mono', style='normal', variant='normal', weight=400, stretch='normal', size='scalable')) = 10.05\n",
      "2023-12-27 10:06:48,275: DEBUG: findfont: score(FontEntry(fname='/Users/mauroluzzatto/.pyenv/versions/3.8.16/envs/explainy_env/lib/python3.8/site-packages/matplotlib/mpl-data/fonts/ttf/DejaVuSansMono-Oblique.ttf', name='DejaVu Sans Mono', style='oblique', variant='normal', weight=400, stretch='normal', size='scalable')) = 11.05\n",
      "2023-12-27 10:06:48,275: DEBUG: findfont: score(FontEntry(fname='/Users/mauroluzzatto/.pyenv/versions/3.8.16/envs/explainy_env/lib/python3.8/site-packages/matplotlib/mpl-data/fonts/ttf/STIXSizTwoSymReg.ttf', name='STIXSizeTwoSym', style='normal', variant='normal', weight=400, stretch='normal', size='scalable')) = 10.05\n",
      "2023-12-27 10:06:48,275: DEBUG: findfont: score(FontEntry(fname='/Users/mauroluzzatto/.pyenv/versions/3.8.16/envs/explainy_env/lib/python3.8/site-packages/matplotlib/mpl-data/fonts/ttf/DejaVuSerif.ttf', name='DejaVu Serif', style='normal', variant='normal', weight=400, stretch='normal', size='scalable')) = 10.05\n",
      "2023-12-27 10:06:48,276: DEBUG: findfont: score(FontEntry(fname='/Users/mauroluzzatto/.pyenv/versions/3.8.16/envs/explainy_env/lib/python3.8/site-packages/matplotlib/mpl-data/fonts/ttf/cmr10.ttf', name='cmr10', style='normal', variant='normal', weight=400, stretch='normal', size='scalable')) = 10.05\n",
      "2023-12-27 10:06:48,276: DEBUG: findfont: score(FontEntry(fname='/Users/mauroluzzatto/.pyenv/versions/3.8.16/envs/explainy_env/lib/python3.8/site-packages/matplotlib/mpl-data/fonts/ttf/STIXSizFiveSymReg.ttf', name='STIXSizeFiveSym', style='normal', variant='normal', weight=400, stretch='normal', size='scalable')) = 10.05\n",
      "2023-12-27 10:06:48,276: DEBUG: findfont: score(FontEntry(fname='/Users/mauroluzzatto/.pyenv/versions/3.8.16/envs/explainy_env/lib/python3.8/site-packages/matplotlib/mpl-data/fonts/ttf/DejaVuSerifDisplay.ttf', name='DejaVu Serif Display', style='normal', variant='normal', weight=400, stretch='normal', size='scalable')) = 10.05\n",
      "2023-12-27 10:06:48,277: DEBUG: findfont: score(FontEntry(fname='/Users/mauroluzzatto/.pyenv/versions/3.8.16/envs/explainy_env/lib/python3.8/site-packages/matplotlib/mpl-data/fonts/ttf/DejaVuSans.ttf', name='DejaVu Sans', style='normal', variant='normal', weight=400, stretch='normal', size='scalable')) = 0.05\n",
      "2023-12-27 10:06:48,277: DEBUG: findfont: score(FontEntry(fname='/Users/mauroluzzatto/.pyenv/versions/3.8.16/envs/explainy_env/lib/python3.8/site-packages/matplotlib/mpl-data/fonts/ttf/cmb10.ttf', name='cmb10', style='normal', variant='normal', weight=400, stretch='normal', size='scalable')) = 10.05\n",
      "2023-12-27 10:06:48,277: DEBUG: findfont: score(FontEntry(fname='/Users/mauroluzzatto/.pyenv/versions/3.8.16/envs/explainy_env/lib/python3.8/site-packages/matplotlib/mpl-data/fonts/ttf/DejaVuSansDisplay.ttf', name='DejaVu Sans Display', style='normal', variant='normal', weight=400, stretch='normal', size='scalable')) = 10.05\n",
      "2023-12-27 10:06:48,277: DEBUG: findfont: score(FontEntry(fname='/Users/mauroluzzatto/.pyenv/versions/3.8.16/envs/explainy_env/lib/python3.8/site-packages/matplotlib/mpl-data/fonts/ttf/STIXSizOneSymReg.ttf', name='STIXSizeOneSym', style='normal', variant='normal', weight=400, stretch='normal', size='scalable')) = 10.05\n",
      "2023-12-27 10:06:48,278: DEBUG: findfont: score(FontEntry(fname='/Users/mauroluzzatto/.pyenv/versions/3.8.16/envs/explainy_env/lib/python3.8/site-packages/matplotlib/mpl-data/fonts/ttf/DejaVuSans-Bold.ttf', name='DejaVu Sans', style='normal', variant='normal', weight=700, stretch='normal', size='scalable')) = 0.33499999999999996\n",
      "2023-12-27 10:06:48,278: DEBUG: findfont: score(FontEntry(fname='/Users/mauroluzzatto/.pyenv/versions/3.8.16/envs/explainy_env/lib/python3.8/site-packages/matplotlib/mpl-data/fonts/ttf/DejaVuSansMono-BoldOblique.ttf', name='DejaVu Sans Mono', style='oblique', variant='normal', weight=700, stretch='normal', size='scalable')) = 11.335\n",
      "2023-12-27 10:06:48,279: DEBUG: findfont: score(FontEntry(fname='/Users/mauroluzzatto/.pyenv/versions/3.8.16/envs/explainy_env/lib/python3.8/site-packages/matplotlib/mpl-data/fonts/ttf/STIXSizTwoSymBol.ttf', name='STIXSizeTwoSym', style='normal', variant='normal', weight=700, stretch='normal', size='scalable')) = 10.335\n",
      "2023-12-27 10:06:48,279: DEBUG: findfont: score(FontEntry(fname='/Users/mauroluzzatto/.pyenv/versions/3.8.16/envs/explainy_env/lib/python3.8/site-packages/matplotlib/mpl-data/fonts/ttf/STIXGeneralItalic.ttf', name='STIXGeneral', style='italic', variant='normal', weight=400, stretch='normal', size='scalable')) = 11.05\n",
      "2023-12-27 10:06:48,279: DEBUG: findfont: score(FontEntry(fname='/Users/mauroluzzatto/.pyenv/versions/3.8.16/envs/explainy_env/lib/python3.8/site-packages/matplotlib/mpl-data/fonts/ttf/cmex10.ttf', name='cmex10', style='normal', variant='normal', weight=400, stretch='normal', size='scalable')) = 10.05\n",
      "2023-12-27 10:06:48,280: DEBUG: findfont: score(FontEntry(fname='/Users/mauroluzzatto/.pyenv/versions/3.8.16/envs/explainy_env/lib/python3.8/site-packages/matplotlib/mpl-data/fonts/ttf/STIXNonUniBolIta.ttf', name='STIXNonUnicode', style='italic', variant='normal', weight=700, stretch='normal', size='scalable')) = 11.335\n",
      "2023-12-27 10:06:48,280: DEBUG: findfont: score(FontEntry(fname='/Users/mauroluzzatto/.pyenv/versions/3.8.16/envs/explainy_env/lib/python3.8/site-packages/matplotlib/mpl-data/fonts/ttf/DejaVuSerif-BoldItalic.ttf', name='DejaVu Serif', style='italic', variant='normal', weight=700, stretch='normal', size='scalable')) = 11.335\n",
      "2023-12-27 10:06:48,280: DEBUG: findfont: score(FontEntry(fname='/Users/mauroluzzatto/.pyenv/versions/3.8.16/envs/explainy_env/lib/python3.8/site-packages/matplotlib/mpl-data/fonts/ttf/cmtt10.ttf', name='cmtt10', style='normal', variant='normal', weight=400, stretch='normal', size='scalable')) = 10.05\n",
      "2023-12-27 10:06:48,281: DEBUG: findfont: score(FontEntry(fname='/Users/mauroluzzatto/.pyenv/versions/3.8.16/envs/explainy_env/lib/python3.8/site-packages/matplotlib/mpl-data/fonts/ttf/STIXSizFourSymBol.ttf', name='STIXSizeFourSym', style='normal', variant='normal', weight=700, stretch='normal', size='scalable')) = 10.335\n",
      "2023-12-27 10:06:48,281: DEBUG: findfont: score(FontEntry(fname='/Users/mauroluzzatto/.pyenv/versions/3.8.16/envs/explainy_env/lib/python3.8/site-packages/matplotlib/mpl-data/fonts/ttf/DejaVuSerif-Bold.ttf', name='DejaVu Serif', style='normal', variant='normal', weight=700, stretch='normal', size='scalable')) = 10.335\n",
      "2023-12-27 10:06:48,281: DEBUG: findfont: score(FontEntry(fname='/Users/mauroluzzatto/.pyenv/versions/3.8.16/envs/explainy_env/lib/python3.8/site-packages/matplotlib/mpl-data/fonts/ttf/DejaVuSans-BoldOblique.ttf', name='DejaVu Sans', style='oblique', variant='normal', weight=700, stretch='normal', size='scalable')) = 1.335\n",
      "2023-12-27 10:06:48,282: DEBUG: findfont: score(FontEntry(fname='/Users/mauroluzzatto/.pyenv/versions/3.8.16/envs/explainy_env/lib/python3.8/site-packages/matplotlib/mpl-data/fonts/ttf/STIXSizFourSymReg.ttf', name='STIXSizeFourSym', style='normal', variant='normal', weight=400, stretch='normal', size='scalable')) = 10.05\n",
      "2023-12-27 10:06:48,282: DEBUG: findfont: score(FontEntry(fname='/Users/mauroluzzatto/.pyenv/versions/3.8.16/envs/explainy_env/lib/python3.8/site-packages/matplotlib/mpl-data/fonts/ttf/STIXSizOneSymBol.ttf', name='STIXSizeOneSym', style='normal', variant='normal', weight=700, stretch='normal', size='scalable')) = 10.335\n",
      "2023-12-27 10:06:48,282: DEBUG: findfont: score(FontEntry(fname='/System/Library/Fonts/Supplemental/NotoSansMro-Regular.ttf', name='Noto Sans Mro', style='normal', variant='normal', weight=400, stretch='normal', size='scalable')) = 10.05\n",
      "2023-12-27 10:06:48,283: DEBUG: findfont: score(FontEntry(fname='/System/Library/Fonts/Supplemental/Rockwell.ttc', name='Rockwell', style='normal', variant='normal', weight=400, stretch='normal', size='scalable')) = 10.05\n",
      "2023-12-27 10:06:48,283: DEBUG: findfont: score(FontEntry(fname='/System/Library/Fonts/Supplemental/GujaratiMT.ttc', name='Gujarati MT', style='normal', variant='normal', weight=400, stretch='normal', size='scalable')) = 10.05\n",
      "2023-12-27 10:06:48,284: DEBUG: findfont: score(FontEntry(fname='/System/Library/Fonts/MarkerFelt.ttc', name='Marker Felt', style='normal', variant='normal', weight=400, stretch='normal', size='scalable')) = 10.05\n",
      "2023-12-27 10:06:48,284: DEBUG: findfont: score(FontEntry(fname='/System/Library/Fonts/Supplemental/Gujarati Sangam MN.ttc', name='Gujarati Sangam MN', style='normal', variant='normal', weight=400, stretch='normal', size='scalable')) = 10.05\n",
      "2023-12-27 10:06:48,284: DEBUG: findfont: score(FontEntry(fname='/System/Library/Fonts/Supplemental/InaiMathi-MN.ttc', name='InaiMathi', style='normal', variant='normal', weight=400, stretch='normal', size='scalable')) = 10.05\n",
      "2023-12-27 10:06:48,284: DEBUG: findfont: score(FontEntry(fname='/System/Library/Fonts/Supplemental/NotoSansPauCinHau-Regular.ttf', name='Noto Sans Pau Cin Hau', style='normal', variant='normal', weight=400, stretch='normal', size='scalable')) = 10.05\n",
      "2023-12-27 10:06:48,285: DEBUG: findfont: score(FontEntry(fname='/System/Library/Fonts/NotoSansOriya.ttc', name='Noto Sans Oriya', style='normal', variant='normal', weight=400, stretch='normal', size='scalable')) = 10.05\n",
      "2023-12-27 10:06:48,285: DEBUG: findfont: score(FontEntry(fname='/System/Library/Fonts/Supplemental/Andale Mono.ttf', name='Andale Mono', style='normal', variant='normal', weight=400, stretch='normal', size='scalable')) = 10.05\n",
      "2023-12-27 10:06:48,285: DEBUG: findfont: score(FontEntry(fname='/System/Library/Fonts/Supplemental/NotoSansNKo-Regular.ttf', name='Noto Sans NKo', style='normal', variant='normal', weight=400, stretch='normal', size='scalable')) = 10.05\n",
      "2023-12-27 10:06:48,286: DEBUG: findfont: score(FontEntry(fname='/System/Library/Fonts/Supplemental/Comic Sans MS Bold.ttf', name='Comic Sans MS', style='normal', variant='normal', weight=700, stretch='normal', size='scalable')) = 10.335\n",
      "2023-12-27 10:06:48,286: DEBUG: findfont: score(FontEntry(fname='/System/Library/Fonts/Supplemental/PTSerif.ttc', name='PT Serif', style='normal', variant='normal', weight=400, stretch='normal', size='scalable')) = 10.05\n",
      "2023-12-27 10:06:48,286: DEBUG: findfont: score(FontEntry(fname='/System/Library/Fonts/Supplemental/STIXVar.otf', name='STIXVariants', style='normal', variant='normal', weight=400, stretch='normal', size='scalable')) = 10.05\n",
      "2023-12-27 10:06:48,287: DEBUG: findfont: score(FontEntry(fname='/System/Library/Fonts/Supplemental/NotoSerifAhom-Regular.ttf', name='Noto Serif Ahom', style='normal', variant='normal', weight=400, stretch='normal', size='scalable')) = 10.05\n",
      "2023-12-27 10:06:48,287: DEBUG: findfont: score(FontEntry(fname='/System/Library/Fonts/Supplemental/STIXIntUpReg.otf', name='STIXIntegralsUp', style='normal', variant='normal', weight=400, stretch='normal', size='scalable')) = 10.05\n",
      "2023-12-27 10:06:48,287: DEBUG: findfont: score(FontEntry(fname='/System/Library/Fonts/Supplemental/PTMono.ttc', name='PT Mono', style='normal', variant='normal', weight=700, stretch='normal', size='scalable')) = 10.335\n",
      "2023-12-27 10:06:48,287: DEBUG: findfont: score(FontEntry(fname='/System/Library/Fonts/Supplemental/Times New Roman Bold Italic.ttf', name='Times New Roman', style='italic', variant='normal', weight=700, stretch='normal', size='scalable')) = 11.335\n",
      "2023-12-27 10:06:48,288: DEBUG: findfont: score(FontEntry(fname='/System/Library/Fonts/Supplemental/Courier New Italic.ttf', name='Courier New', style='italic', variant='normal', weight=400, stretch='normal', size='scalable')) = 11.05\n",
      "2023-12-27 10:06:48,288: DEBUG: findfont: score(FontEntry(fname='/System/Library/Fonts/Avenir Next.ttc', name='Avenir Next', style='normal', variant='normal', weight=700, stretch='normal', size='scalable')) = 10.335\n",
      "2023-12-27 10:06:48,288: DEBUG: findfont: score(FontEntry(fname='/System/Library/Fonts/Symbol.ttf', name='Symbol', style='normal', variant='normal', weight=400, stretch='normal', size='scalable')) = 10.05\n",
      "2023-12-27 10:06:48,289: DEBUG: findfont: score(FontEntry(fname='/System/Library/Fonts/Supplemental/Raanana.ttc', name='Raanana', style='normal', variant='normal', weight=400, stretch='normal', size='scalable')) = 10.05\n",
      "2023-12-27 10:06:48,289: DEBUG: findfont: score(FontEntry(fname='/System/Library/Fonts/Supplemental/NotoSansOldPermic-Regular.ttf', name='Noto Sans Old Permic', style='normal', variant='normal', weight=400, stretch='normal', size='scalable')) = 10.05\n",
      "2023-12-27 10:06:48,289: DEBUG: findfont: score(FontEntry(fname='/System/Library/Fonts/Supplemental/NotoSansManichaean-Regular.ttf', name='Noto Sans Manichaean', style='normal', variant='normal', weight=400, stretch='normal', size='scalable')) = 10.05\n",
      "2023-12-27 10:06:48,289: DEBUG: findfont: score(FontEntry(fname='/System/Library/Fonts/Supplemental/STIXIntSmReg.otf', name='STIXIntegralsSm', style='normal', variant='normal', weight=400, stretch='normal', size='scalable')) = 10.05\n",
      "2023-12-27 10:06:48,290: DEBUG: findfont: score(FontEntry(fname='/System/Library/Fonts/SFNSRounded.ttf', name='.SF NS Rounded', style='normal', variant='normal', weight=400, stretch='normal', size='scalable')) = 10.05\n",
      "2023-12-27 10:06:48,290: DEBUG: findfont: score(FontEntry(fname='/System/Library/Fonts/STHeiti Medium.ttc', name='Heiti TC', style='normal', variant='normal', weight=400, stretch='normal', size='scalable')) = 10.05\n",
      "2023-12-27 10:06:48,290: DEBUG: findfont: score(FontEntry(fname='/System/Library/Fonts/Supplemental/Damascus.ttc', name='Damascus', style='normal', variant='normal', weight=400, stretch='normal', size='scalable')) = 10.05\n",
      "2023-12-27 10:06:48,290: DEBUG: findfont: score(FontEntry(fname='/System/Library/Fonts/Supplemental/Bodoni 72 Smallcaps Book.ttf', name='Bodoni 72 Smallcaps', style='normal', variant='normal', weight=400, stretch='normal', size='scalable')) = 10.05\n",
      "2023-12-27 10:06:48,291: DEBUG: findfont: score(FontEntry(fname='/System/Library/Fonts/Supplemental/DevanagariMT.ttc', name='Devanagari MT', style='normal', variant='normal', weight=400, stretch='normal', size='scalable')) = 10.05\n",
      "2023-12-27 10:06:48,291: DEBUG: findfont: score(FontEntry(fname='/System/Library/Fonts/Supplemental/NotoSansBatak-Regular.ttf', name='Noto Sans Batak', style='normal', variant='normal', weight=400, stretch='normal', size='scalable')) = 10.05\n",
      "2023-12-27 10:06:48,291: DEBUG: findfont: score(FontEntry(fname='/System/Library/Fonts/SFCompactRounded.ttf', name='.SF Compact Rounded', style='normal', variant='normal', weight=400, stretch='normal', size='scalable')) = 10.05\n",
      "2023-12-27 10:06:48,292: DEBUG: findfont: score(FontEntry(fname='/System/Library/Fonts/Supplemental/NotoSansGunjalaGondi-Regular.otf', name='Noto Sans Gunjala Gondi', style='normal', variant='normal', weight=400, stretch='normal', size='scalable')) = 10.05\n",
      "2023-12-27 10:06:48,292: DEBUG: findfont: score(FontEntry(fname='/System/Library/Fonts/Supplemental/Seravek.ttc', name='Seravek', style='normal', variant='normal', weight=400, stretch='normal', size='scalable')) = 10.05\n",
      "2023-12-27 10:06:48,292: DEBUG: findfont: score(FontEntry(fname='/System/Library/Fonts/Supplemental/NotoSansTaiLe-Regular.ttf', name='Noto Sans Tai Le', style='normal', variant='normal', weight=400, stretch='normal', size='scalable')) = 10.05\n",
      "2023-12-27 10:06:48,292: DEBUG: findfont: score(FontEntry(fname='/System/Library/Fonts/Supplemental/Hoefler Text Ornaments.ttf', name='Hoefler Text', style='normal', variant='normal', weight=400, stretch='normal', size='scalable')) = 10.05\n",
      "2023-12-27 10:06:48,293: DEBUG: findfont: score(FontEntry(fname='/System/Library/Fonts/Supplemental/NotoSansAdlam-Regular.ttf', name='Noto Sans Adlam', style='normal', variant='normal', weight=400, stretch='normal', size='scalable')) = 10.05\n",
      "2023-12-27 10:06:48,293: DEBUG: findfont: score(FontEntry(fname='/System/Library/Fonts/Supplemental/STIXGeneral.otf', name='STIXGeneral', style='normal', variant='normal', weight=400, stretch='normal', size='scalable')) = 10.05\n",
      "2023-12-27 10:06:48,293: DEBUG: findfont: score(FontEntry(fname='/System/Library/Fonts/Supplemental/NotoSansMahajani-Regular.ttf', name='Noto Sans Mahajani', style='normal', variant='normal', weight=400, stretch='normal', size='scalable')) = 10.05\n",
      "2023-12-27 10:06:48,294: DEBUG: findfont: score(FontEntry(fname='/System/Library/Fonts/Supplemental/Academy Engraved LET Fonts.ttf', name='Academy Engraved LET', style='normal', variant='normal', weight=400, stretch='normal', size='scalable')) = 10.05\n",
      "2023-12-27 10:06:48,294: DEBUG: findfont: score(FontEntry(fname='/System/Library/Fonts/Supplemental/Skia.ttf', name='Skia', style='normal', variant='normal', weight=5, stretch='normal', size='scalable')) = 10.42525\n",
      "2023-12-27 10:06:48,295: DEBUG: findfont: score(FontEntry(fname='/System/Library/Fonts/Supplemental/Arial Italic.ttf', name='Arial', style='italic', variant='normal', weight=400, stretch='normal', size='scalable')) = 7.413636363636363\n",
      "2023-12-27 10:06:48,295: DEBUG: findfont: score(FontEntry(fname='/System/Library/Fonts/Supplemental/NotoSansUgaritic-Regular.ttf', name='Noto Sans Ugaritic', style='normal', variant='normal', weight=400, stretch='normal', size='scalable')) = 10.05\n",
      "2023-12-27 10:06:48,295: DEBUG: findfont: score(FontEntry(fname='/System/Library/Fonts/Supplemental/Marion.ttc', name='Marion', style='normal', variant='normal', weight=400, stretch='normal', size='scalable')) = 10.05\n",
      "2023-12-27 10:06:48,296: DEBUG: findfont: score(FontEntry(fname='/System/Library/Fonts/ヒラギノ角ゴシック W5.ttc', name='Hiragino Sans', style='normal', variant='normal', weight=500, stretch='normal', size='scalable')) = 10.145\n",
      "2023-12-27 10:06:48,296: DEBUG: findfont: score(FontEntry(fname='/System/Library/Fonts/Supplemental/NotoSansOsage-Regular.ttf', name='Noto Sans Osage', style='normal', variant='normal', weight=400, stretch='normal', size='scalable')) = 10.05\n",
      "2023-12-27 10:06:48,296: DEBUG: findfont: score(FontEntry(fname='/System/Library/Fonts/Supplemental/NotoSerifBalinese-Regular.ttf', name='Noto Serif Balinese', style='normal', variant='normal', weight=400, stretch='normal', size='scalable')) = 10.05\n",
      "2023-12-27 10:06:48,296: DEBUG: findfont: score(FontEntry(fname='/System/Library/Fonts/Supplemental/DIN Alternate Bold.ttf', name='DIN Alternate', style='normal', variant='normal', weight=700, stretch='normal', size='scalable')) = 10.335\n",
      "2023-12-27 10:06:48,297: DEBUG: findfont: score(FontEntry(fname='/System/Library/Fonts/Supplemental/NotoSansSharada-Regular.ttf', name='Noto Sans Sharada', style='normal', variant='normal', weight=400, stretch='normal', size='scalable')) = 10.05\n",
      "2023-12-27 10:06:48,297: DEBUG: findfont: score(FontEntry(fname='/System/Library/Fonts/Supplemental/NotoSansOlChiki-Regular.ttf', name='Noto Sans Ol Chiki', style='normal', variant='normal', weight=400, stretch='normal', size='scalable')) = 10.05\n",
      "2023-12-27 10:06:48,297: DEBUG: findfont: score(FontEntry(fname='/System/Library/Fonts/Supplemental/Myanmar Sangam MN.ttc', name='Myanmar Sangam MN', style='normal', variant='normal', weight=400, stretch='normal', size='scalable')) = 10.05\n",
      "2023-12-27 10:06:48,297: DEBUG: findfont: score(FontEntry(fname='/System/Library/Fonts/Supplemental/NotoSansChakma-Regular.ttf', name='Noto Sans Chakma', style='normal', variant='normal', weight=400, stretch='normal', size='scalable')) = 10.05\n",
      "2023-12-27 10:06:48,298: DEBUG: findfont: score(FontEntry(fname='/System/Library/Fonts/Supplemental/Comic Sans MS.ttf', name='Comic Sans MS', style='normal', variant='normal', weight=400, stretch='normal', size='scalable')) = 10.05\n",
      "2023-12-27 10:06:48,298: DEBUG: findfont: score(FontEntry(fname='/System/Library/Fonts/Supplemental/NotoSansOldPersian-Regular.ttf', name='Noto Sans Old Persian', style='normal', variant='normal', weight=400, stretch='normal', size='scalable')) = 10.05\n",
      "2023-12-27 10:06:48,298: DEBUG: findfont: score(FontEntry(fname='/System/Library/Fonts/PingFang.ttc', name='PingFang HK', style='normal', variant='normal', weight=400, stretch='normal', size='scalable')) = 10.05\n",
      "2023-12-27 10:06:48,299: DEBUG: findfont: score(FontEntry(fname='/System/Library/Fonts/Supplemental/Webdings.ttf', name='Webdings', style='normal', variant='normal', weight=400, stretch='normal', size='scalable')) = 10.05\n",
      "2023-12-27 10:06:48,299: DEBUG: findfont: score(FontEntry(fname='/System/Library/Fonts/Supplemental/Verdana.ttf', name='Verdana', style='normal', variant='normal', weight=400, stretch='normal', size='scalable')) = 3.6863636363636365\n",
      "2023-12-27 10:06:48,300: DEBUG: findfont: score(FontEntry(fname='/System/Library/Fonts/Supplemental/NotoSansRejang-Regular.ttf', name='Noto Sans Rejang', style='normal', variant='normal', weight=400, stretch='normal', size='scalable')) = 10.05\n",
      "2023-12-27 10:06:48,300: DEBUG: findfont: score(FontEntry(fname='/System/Library/Fonts/Supplemental/NotoSansGothic-Regular.ttf', name='Noto Sans Gothic', style='normal', variant='normal', weight=400, stretch='normal', size='scalable')) = 10.05\n",
      "2023-12-27 10:06:48,300: DEBUG: findfont: score(FontEntry(fname='/System/Library/Fonts/Supplemental/Telugu MN.ttc', name='Telugu MN', style='normal', variant='normal', weight=400, stretch='normal', size='scalable')) = 10.05\n",
      "2023-12-27 10:06:48,300: DEBUG: findfont: score(FontEntry(fname='/System/Library/Fonts/Supplemental/NotoSansVai-Regular.ttf', name='Noto Sans Vai', style='normal', variant='normal', weight=400, stretch='normal', size='scalable')) = 10.05\n",
      "2023-12-27 10:06:48,301: DEBUG: findfont: score(FontEntry(fname='/System/Library/Fonts/Supplemental/NotoSansInscriptionalParthian-Regular.ttf', name='Noto Sans Inscriptional Parthian', style='normal', variant='normal', weight=400, stretch='normal', size='scalable')) = 10.05\n",
      "2023-12-27 10:06:48,301: DEBUG: findfont: score(FontEntry(fname='/System/Library/Fonts/NotoNastaliq.ttc', name='Noto Nastaliq Urdu', style='normal', variant='normal', weight=400, stretch='normal', size='scalable')) = 10.05\n",
      "2023-12-27 10:06:48,301: DEBUG: findfont: score(FontEntry(fname='/System/Library/Fonts/Supplemental/Shree714.ttc', name='Shree Devanagari 714', style='normal', variant='normal', weight=400, stretch='normal', size='scalable')) = 10.05\n",
      "2023-12-27 10:06:48,302: DEBUG: findfont: score(FontEntry(fname='/System/Library/Fonts/Keyboard.ttf', name='.Keyboard', style='normal', variant='normal', weight=100, stretch='normal', size='scalable')) = 10.335\n",
      "2023-12-27 10:06:48,302: DEBUG: findfont: score(FontEntry(fname='/System/Library/Fonts/Supplemental/STIXSizFourSymBol.otf', name='STIXSizeFourSym', style='normal', variant='normal', weight=700, stretch='normal', size='scalable')) = 10.335\n",
      "2023-12-27 10:06:48,302: DEBUG: findfont: score(FontEntry(fname='/System/Library/Fonts/NotoSansMyanmar.ttc', name='Noto Sans Myanmar', style='normal', variant='normal', weight=900, stretch='normal', size='scalable')) = 10.525\n",
      "2023-12-27 10:06:48,303: DEBUG: findfont: score(FontEntry(fname='/System/Library/Fonts/Supplemental/Gurmukhi MN.ttc', name='Gurmukhi MN', style='normal', variant='normal', weight=400, stretch='normal', size='scalable')) = 10.05\n",
      "2023-12-27 10:06:48,303: DEBUG: findfont: score(FontEntry(fname='/System/Library/Fonts/Supplemental/Bradley Hand Bold.ttf', name='Bradley Hand', style='normal', variant='normal', weight=700, stretch='normal', size='scalable')) = 10.335\n",
      "2023-12-27 10:06:48,303: DEBUG: findfont: score(FontEntry(fname='/System/Library/Fonts/Supplemental/NotoSansOldTurkic-Regular.ttf', name='Noto Sans Old Turkic', style='normal', variant='normal', weight=400, stretch='normal', size='scalable')) = 10.05\n",
      "2023-12-27 10:06:48,304: DEBUG: findfont: score(FontEntry(fname='/System/Library/Fonts/Supplemental/NotoSansThaana-Regular.ttf', name='Noto Sans Thaana', style='normal', variant='normal', weight=400, stretch='normal', size='scalable')) = 10.05\n",
      "2023-12-27 10:06:48,304: DEBUG: findfont: score(FontEntry(fname='/System/Library/Fonts/Supplemental/Athelas.ttc', name='Athelas', style='normal', variant='normal', weight=400, stretch='normal', size='scalable')) = 10.05\n",
      "2023-12-27 10:06:48,304: DEBUG: findfont: score(FontEntry(fname='/System/Library/Fonts/ヒラギノ丸ゴ ProN W4.ttc', name='Hiragino Maru Gothic Pro', style='normal', variant='normal', weight=400, stretch='normal', size='scalable')) = 10.05\n",
      "2023-12-27 10:06:48,305: DEBUG: findfont: score(FontEntry(fname='/System/Library/Fonts/Supplemental/NotoSansHanunoo-Regular.ttf', name='Noto Sans Hanunoo', style='normal', variant='normal', weight=400, stretch='normal', size='scalable')) = 10.05\n",
      "2023-12-27 10:06:48,305: DEBUG: findfont: score(FontEntry(fname='/System/Library/Fonts/AquaKana.ttc', name='.Aqua Kana', style='normal', variant='normal', weight=300, stretch='normal', size='scalable')) = 10.145\n",
      "2023-12-27 10:06:48,306: DEBUG: findfont: score(FontEntry(fname='/System/Library/Fonts/MuktaMahee.ttc', name='Mukta Mahee', style='normal', variant='normal', weight=400, stretch='normal', size='scalable')) = 10.05\n",
      "2023-12-27 10:06:48,307: DEBUG: findfont: score(FontEntry(fname='/System/Library/Fonts/Supplemental/Wingdings 3.ttf', name='Wingdings 3', style='normal', variant='normal', weight=400, stretch='normal', size='scalable')) = 10.05\n",
      "2023-12-27 10:06:48,307: DEBUG: findfont: score(FontEntry(fname='/System/Library/Fonts/Supplemental/NotoSansKayahLi-Regular.ttf', name='Noto Sans Kayah Li', style='normal', variant='normal', weight=400, stretch='normal', size='scalable')) = 10.05\n",
      "2023-12-27 10:06:48,308: DEBUG: findfont: score(FontEntry(fname='/System/Library/Fonts/Supplemental/Arial Narrow Italic.ttf', name='Arial Narrow', style='italic', variant='normal', weight=400, stretch='condensed', size='scalable')) = 11.25\n",
      "2023-12-27 10:06:48,310: DEBUG: findfont: score(FontEntry(fname='/System/Library/Fonts/Supplemental/Kefa.ttc', name='Kefa', style='normal', variant='normal', weight=400, stretch='normal', size='scalable')) = 10.05\n",
      "2023-12-27 10:06:48,310: DEBUG: findfont: score(FontEntry(fname='/System/Library/Fonts/Supplemental/Krungthep.ttf', name='Krungthep', style='normal', variant='normal', weight=400, stretch='normal', size='scalable')) = 10.05\n",
      "2023-12-27 10:06:48,311: DEBUG: findfont: score(FontEntry(fname='/System/Library/Fonts/Supplemental/DIN Condensed Bold.ttf', name='DIN Condensed', style='normal', variant='normal', weight=700, stretch='condensed', size='scalable')) = 10.535\n",
      "2023-12-27 10:06:48,312: DEBUG: findfont: score(FontEntry(fname='/System/Library/Fonts/Supplemental/ITFDevanagari.ttc', name='ITF Devanagari', style='normal', variant='normal', weight=400, stretch='normal', size='scalable')) = 10.05\n",
      "2023-12-27 10:06:48,315: DEBUG: findfont: score(FontEntry(fname='/System/Library/Fonts/Supplemental/NotoSansPahawhHmong-Regular.ttf', name='Noto Sans Pahawh Hmong', style='normal', variant='normal', weight=400, stretch='normal', size='scalable')) = 10.05\n",
      "2023-12-27 10:06:48,316: DEBUG: findfont: score(FontEntry(fname='/System/Library/Fonts/Supplemental/Tahoma Bold.ttf', name='Tahoma', style='normal', variant='normal', weight=700, stretch='normal', size='scalable')) = 10.335\n",
      "2023-12-27 10:06:48,317: DEBUG: findfont: score(FontEntry(fname='/System/Library/Fonts/ヒラギノ角ゴシック W3.ttc', name='Hiragino Sans', style='normal', variant='normal', weight=300, stretch='normal', size='scalable')) = 10.145\n",
      "2023-12-27 10:06:48,318: DEBUG: findfont: score(FontEntry(fname='/System/Library/Fonts/Supplemental/Iowan Old Style.ttc', name='Iowan Old Style', style='normal', variant='normal', weight=400, stretch='normal', size='scalable')) = 10.05\n",
      "2023-12-27 10:06:48,319: DEBUG: findfont: score(FontEntry(fname='/System/Library/Fonts/Supplemental/NotoSansBrahmi-Regular.ttf', name='Noto Sans Brahmi', style='normal', variant='normal', weight=400, stretch='normal', size='scalable')) = 10.05\n",
      "2023-12-27 10:06:48,320: DEBUG: findfont: score(FontEntry(fname='/System/Library/Fonts/Supplemental/Myanmar MN.ttc', name='Myanmar MN', style='normal', variant='normal', weight=400, stretch='normal', size='scalable')) = 10.05\n",
      "2023-12-27 10:06:48,321: DEBUG: findfont: score(FontEntry(fname='/System/Library/Fonts/ヒラギノ角ゴシック W0.ttc', name='Hiragino Sans', style='normal', variant='normal', weight=100, stretch='normal', size='scalable')) = 10.335\n",
      "2023-12-27 10:06:48,322: DEBUG: findfont: score(FontEntry(fname='/System/Library/Fonts/Supplemental/NotoSansLinearB-Regular.ttf', name='Noto Sans Linear B', style='normal', variant='normal', weight=400, stretch='normal', size='scalable')) = 10.05\n",
      "2023-12-27 10:06:48,323: DEBUG: findfont: score(FontEntry(fname='/System/Library/Fonts/Supplemental/Malayalam MN.ttc', name='Malayalam MN', style='normal', variant='normal', weight=400, stretch='normal', size='scalable')) = 10.05\n",
      "2023-12-27 10:06:48,323: DEBUG: findfont: score(FontEntry(fname='/System/Library/Fonts/Supplemental/Tamil Sangam MN.ttc', name='Tamil Sangam MN', style='normal', variant='normal', weight=400, stretch='normal', size='scalable')) = 10.05\n",
      "2023-12-27 10:06:48,324: DEBUG: findfont: score(FontEntry(fname='/System/Library/Fonts/Noteworthy.ttc', name='Noteworthy', style='normal', variant='normal', weight=300, stretch='normal', size='scalable')) = 10.145\n",
      "2023-12-27 10:06:48,325: DEBUG: findfont: score(FontEntry(fname='/System/Library/Fonts/Supplemental/Mishafi.ttf', name='Mishafi', style='normal', variant='normal', weight=400, stretch='normal', size='scalable')) = 10.05\n",
      "2023-12-27 10:06:48,326: DEBUG: findfont: score(FontEntry(fname='/System/Library/Fonts/Supplemental/Sinhala MN.ttc', name='Sinhala MN', style='normal', variant='normal', weight=400, stretch='normal', size='scalable')) = 10.05\n",
      "2023-12-27 10:06:48,327: DEBUG: findfont: score(FontEntry(fname='/System/Library/Fonts/Supplemental/NotoSansLepcha-Regular.ttf', name='Noto Sans Lepcha', style='normal', variant='normal', weight=400, stretch='normal', size='scalable')) = 10.05\n",
      "2023-12-27 10:06:48,327: DEBUG: findfont: score(FontEntry(fname='/System/Library/Fonts/Supplemental/NotoSansCuneiform-Regular.ttf', name='Noto Sans Cuneiform', style='normal', variant='normal', weight=400, stretch='normal', size='scalable')) = 10.05\n",
      "2023-12-27 10:06:48,328: DEBUG: findfont: score(FontEntry(fname='/System/Library/Fonts/NotoSerifMyanmar.ttc', name='Noto Serif Myanmar', style='normal', variant='normal', weight=900, stretch='normal', size='scalable')) = 10.525\n",
      "2023-12-27 10:06:48,329: DEBUG: findfont: score(FontEntry(fname='/System/Library/Fonts/Supplemental/NotoSansModi-Regular.ttf', name='Noto Sans Modi', style='normal', variant='normal', weight=400, stretch='normal', size='scalable')) = 10.05\n",
      "2023-12-27 10:06:48,331: DEBUG: findfont: score(FontEntry(fname='/System/Library/Fonts/NotoSansArmenian.ttc', name='Noto Sans Armenian', style='normal', variant='normal', weight=900, stretch='normal', size='scalable')) = 10.525\n",
      "2023-12-27 10:06:48,332: DEBUG: findfont: score(FontEntry(fname='/System/Library/Fonts/Supplemental/NotoSansCaucasianAlbanian-Regular.ttf', name='Noto Sans Caucasian Albanian', style='normal', variant='normal', weight=400, stretch='normal', size='scalable')) = 10.05\n",
      "2023-12-27 10:06:48,332: DEBUG: findfont: score(FontEntry(fname='/System/Library/Fonts/Supplemental/STIXSizOneSymReg.otf', name='STIXSizeOneSym', style='normal', variant='normal', weight=400, stretch='normal', size='scalable')) = 10.05\n",
      "2023-12-27 10:06:48,333: DEBUG: findfont: score(FontEntry(fname='/System/Library/Fonts/Supplemental/Telugu Sangam MN.ttc', name='Telugu Sangam MN', style='normal', variant='normal', weight=400, stretch='normal', size='scalable')) = 10.05\n",
      "2023-12-27 10:06:48,333: DEBUG: findfont: score(FontEntry(fname='/System/Library/Fonts/Supplemental/Apple Chancery.ttf', name='Apple Chancery', style='normal', variant='normal', weight=0, stretch='normal', size='scalable')) = 10.43\n",
      "2023-12-27 10:06:48,334: DEBUG: findfont: score(FontEntry(fname='/System/Library/Fonts/Supplemental/Didot.ttc', name='Didot', style='normal', variant='normal', weight=400, stretch='normal', size='scalable')) = 10.05\n",
      "2023-12-27 10:06:48,334: DEBUG: findfont: score(FontEntry(fname='/System/Library/Fonts/STHeiti Light.ttc', name='Heiti TC', style='normal', variant='normal', weight=300, stretch='normal', size='scalable')) = 10.145\n",
      "2023-12-27 10:06:48,335: DEBUG: findfont: score(FontEntry(fname='/System/Library/Fonts/Supplemental/STIXSizTwoSymReg.otf', name='STIXSizeTwoSym', style='normal', variant='normal', weight=400, stretch='normal', size='scalable')) = 10.05\n",
      "2023-12-27 10:06:48,335: DEBUG: findfont: score(FontEntry(fname='/System/Library/Fonts/SFNSItalic.ttf', name='System Font', style='italic', variant='normal', weight=400, stretch='normal', size='scalable')) = 11.05\n",
      "2023-12-27 10:06:48,335: DEBUG: findfont: score(FontEntry(fname='/System/Library/Fonts/Supplemental/Futura.ttc', name='Futura', style='normal', variant='normal', weight=500, stretch='normal', size='scalable')) = 10.145\n",
      "2023-12-27 10:06:48,336: DEBUG: findfont: score(FontEntry(fname='/System/Library/Fonts/Supplemental/PartyLET-plain.ttf', name='Party LET', style='normal', variant='normal', weight=400, stretch='normal', size='scalable')) = 10.05\n",
      "2023-12-27 10:06:48,336: DEBUG: findfont: score(FontEntry(fname='/System/Library/Fonts/Supplemental/Farah.ttc', name='Farah', style='normal', variant='normal', weight=400, stretch='normal', size='scalable')) = 10.05\n",
      "2023-12-27 10:06:48,336: DEBUG: findfont: score(FontEntry(fname='/System/Library/Fonts/Supplemental/Songti.ttc', name='Songti SC', style='normal', variant='normal', weight=900, stretch='normal', size='scalable')) = 10.525\n",
      "2023-12-27 10:06:48,336: DEBUG: findfont: score(FontEntry(fname='/System/Library/Fonts/Supplemental/NotoSansMandaic-Regular.ttf', name='Noto Sans Mandaic', style='normal', variant='normal', weight=400, stretch='normal', size='scalable')) = 10.05\n",
      "2023-12-27 10:06:48,337: DEBUG: findfont: score(FontEntry(fname='/System/Library/Fonts/Supplemental/AppleGothic.ttf', name='AppleGothic', style='normal', variant='normal', weight=400, stretch='normal', size='scalable')) = 10.05\n",
      "2023-12-27 10:06:48,337: DEBUG: findfont: score(FontEntry(fname='/System/Library/Fonts/Supplemental/Courier New Bold.ttf', name='Courier New', style='normal', variant='normal', weight=700, stretch='normal', size='scalable')) = 10.335\n",
      "2023-12-27 10:06:48,337: DEBUG: findfont: score(FontEntry(fname='/System/Library/Fonts/Supplemental/NotoSansMendeKikakui-Regular.ttf', name='Noto Sans Mende Kikakui', style='normal', variant='normal', weight=400, stretch='normal', size='scalable')) = 10.05\n",
      "2023-12-27 10:06:48,337: DEBUG: findfont: score(FontEntry(fname='/System/Library/Fonts/Supplemental/NotoSansBuhid-Regular.ttf', name='Noto Sans Buhid', style='normal', variant='normal', weight=400, stretch='normal', size='scalable')) = 10.05\n",
      "2023-12-27 10:06:48,338: DEBUG: findfont: score(FontEntry(fname='/System/Library/Fonts/Supplemental/NotoSansCypriot-Regular.ttf', name='Noto Sans Cypriot', style='normal', variant='normal', weight=400, stretch='normal', size='scalable')) = 10.05\n",
      "2023-12-27 10:06:48,338: DEBUG: findfont: score(FontEntry(fname='/System/Library/Fonts/Supplemental/Kannada Sangam MN.ttc', name='Kannada Sangam MN', style='normal', variant='normal', weight=400, stretch='normal', size='scalable')) = 10.05\n",
      "2023-12-27 10:06:48,338: DEBUG: findfont: score(FontEntry(fname='/System/Library/Fonts/Supplemental/STIXIntSmBol.otf', name='STIXIntegralsSm', style='normal', variant='normal', weight=700, stretch='normal', size='scalable')) = 10.335\n",
      "2023-12-27 10:06:48,339: DEBUG: findfont: score(FontEntry(fname='/System/Library/Fonts/Supplemental/NotoSansSiddham-Regular.ttf', name='Noto Sans Siddham', style='normal', variant='normal', weight=400, stretch='normal', size='scalable')) = 10.05\n",
      "2023-12-27 10:06:48,339: DEBUG: findfont: score(FontEntry(fname='/System/Library/Fonts/Supplemental/NotoSansOsmanya-Regular.ttf', name='Noto Sans Osmanya', style='normal', variant='normal', weight=400, stretch='normal', size='scalable')) = 10.05\n",
      "2023-12-27 10:06:48,339: DEBUG: findfont: score(FontEntry(fname='/System/Library/Fonts/Supplemental/STIXIntUpSmBol.otf', name='STIXIntegralsUpSm', style='normal', variant='normal', weight=700, stretch='normal', size='scalable')) = 10.335\n",
      "2023-12-27 10:06:48,340: DEBUG: findfont: score(FontEntry(fname='/System/Library/Fonts/Supplemental/STIXTwoText.ttf', name='STIX Two Text', style='normal', variant='normal', weight=400, stretch='normal', size='scalable')) = 10.05\n",
      "2023-12-27 10:06:48,341: DEBUG: findfont: score(FontEntry(fname='/System/Library/Fonts/LucidaGrande.ttc', name='Lucida Grande', style='normal', variant='normal', weight=500, stretch='normal', size='scalable')) = 2.872272727272727\n",
      "2023-12-27 10:06:48,341: DEBUG: findfont: score(FontEntry(fname='/System/Library/Fonts/Supplemental/Farisi.ttf', name='Farisi', style='normal', variant='normal', weight=400, stretch='normal', size='scalable')) = 10.05\n",
      "2023-12-27 10:06:48,342: DEBUG: findfont: score(FontEntry(fname='/System/Library/Fonts/Supplemental/Bodoni Ornaments.ttf', name='Bodoni Ornaments', style='normal', variant='normal', weight=400, stretch='normal', size='scalable')) = 10.05\n",
      "2023-12-27 10:06:48,343: DEBUG: findfont: score(FontEntry(fname='/System/Library/Fonts/Supplemental/NewPeninimMT.ttc', name='New Peninim MT', style='normal', variant='normal', weight=400, stretch='normal', size='scalable')) = 10.05\n",
      "2023-12-27 10:06:48,344: DEBUG: findfont: score(FontEntry(fname='/System/Library/Fonts/Supplemental/Trattatello.ttf', name='Trattatello', style='normal', variant='normal', weight=400, stretch='normal', size='scalable')) = 10.05\n",
      "2023-12-27 10:06:48,345: DEBUG: findfont: score(FontEntry(fname='/System/Library/Fonts/Supplemental/STIXIntUpSmReg.otf', name='STIXIntegralsUpSm', style='normal', variant='normal', weight=400, stretch='normal', size='scalable')) = 10.05\n",
      "2023-12-27 10:06:48,345: DEBUG: findfont: score(FontEntry(fname='/System/Library/Fonts/Supplemental/STIXIntUpDBol.otf', name='STIXIntegralsUpD', style='normal', variant='normal', weight=700, stretch='normal', size='scalable')) = 10.335\n",
      "2023-12-27 10:06:48,345: DEBUG: findfont: score(FontEntry(fname='/System/Library/Fonts/Supplemental/Lao Sangam MN.ttf', name='Lao Sangam MN', style='normal', variant='normal', weight=400, stretch='normal', size='scalable')) = 10.05\n",
      "2023-12-27 10:06:48,347: DEBUG: findfont: score(FontEntry(fname='/System/Library/Fonts/Supplemental/Trebuchet MS Bold Italic.ttf', name='Trebuchet MS', style='italic', variant='normal', weight=700, stretch='normal', size='scalable')) = 11.335\n",
      "2023-12-27 10:06:48,347: DEBUG: findfont: score(FontEntry(fname='/System/Library/Fonts/Supplemental/Verdana Italic.ttf', name='Verdana', style='italic', variant='normal', weight=400, stretch='normal', size='scalable')) = 4.6863636363636365\n",
      "2023-12-27 10:06:48,348: DEBUG: findfont: score(FontEntry(fname='/System/Library/Fonts/Supplemental/Arial Narrow Bold.ttf', name='Arial Narrow', style='normal', variant='normal', weight=700, stretch='condensed', size='scalable')) = 10.535\n",
      "2023-12-27 10:06:48,348: DEBUG: findfont: score(FontEntry(fname='/System/Library/Fonts/Supplemental/NotoSansLycian-Regular.ttf', name='Noto Sans Lycian', style='normal', variant='normal', weight=400, stretch='normal', size='scalable')) = 10.05\n",
      "2023-12-27 10:06:48,348: DEBUG: findfont: score(FontEntry(fname='/System/Library/Fonts/KohinoorTelugu.ttc', name='Kohinoor Telugu', style='normal', variant='normal', weight=400, stretch='normal', size='scalable')) = 10.05\n",
      "2023-12-27 10:06:48,349: DEBUG: findfont: score(FontEntry(fname='/System/Library/Fonts/Supplemental/SnellRoundhand.ttc', name='Snell Roundhand', style='normal', variant='normal', weight=500, stretch='normal', size='scalable')) = 10.145\n",
      "2023-12-27 10:06:48,349: DEBUG: findfont: score(FontEntry(fname='/System/Library/Fonts/Supplemental/NotoSerifYezidi-Regular.otf', name='Noto Serif Yezidi', style='normal', variant='normal', weight=400, stretch='normal', size='scalable')) = 10.05\n",
      "2023-12-27 10:06:48,349: DEBUG: findfont: score(FontEntry(fname='/System/Library/Fonts/ヒラギノ角ゴシック W2.ttc', name='Hiragino Sans', style='normal', variant='normal', weight=250, stretch='normal', size='scalable')) = 10.1925\n",
      "2023-12-27 10:06:48,349: DEBUG: findfont: score(FontEntry(fname='/System/Library/Fonts/KohinoorGujarati.ttc', name='Kohinoor Gujarati', style='normal', variant='normal', weight=700, stretch='normal', size='scalable')) = 10.335\n",
      "2023-12-27 10:06:48,350: DEBUG: findfont: score(FontEntry(fname='/System/Library/Fonts/Supplemental/Phosphate.ttc', name='Phosphate', style='normal', variant='normal', weight=400, stretch='normal', size='scalable')) = 10.05\n",
      "2023-12-27 10:06:48,350: DEBUG: findfont: score(FontEntry(fname='/System/Library/Fonts/Hiragino Sans GB.ttc', name='Hiragino Sans GB', style='normal', variant='normal', weight=300, stretch='normal', size='scalable')) = 10.145\n",
      "2023-12-27 10:06:48,350: DEBUG: findfont: score(FontEntry(fname='/System/Library/Fonts/Supplemental/NotoSansSaurashtra-Regular.ttf', name='Noto Sans Saurashtra', style='normal', variant='normal', weight=400, stretch='normal', size='scalable')) = 10.05\n",
      "2023-12-27 10:06:48,351: DEBUG: findfont: score(FontEntry(fname='/System/Library/Fonts/Supplemental/NotoSansYi-Regular.ttf', name='Noto Sans Yi', style='normal', variant='normal', weight=400, stretch='normal', size='scalable')) = 10.05\n",
      "2023-12-27 10:06:48,351: DEBUG: findfont: score(FontEntry(fname='/System/Library/Fonts/Supplemental/Arial.ttf', name='Arial', style='normal', variant='normal', weight=400, stretch='normal', size='scalable')) = 6.413636363636363\n",
      "2023-12-27 10:06:48,351: DEBUG: findfont: score(FontEntry(fname='/System/Library/Fonts/Supplemental/NotoSansTakri-Regular.ttf', name='Noto Sans Takri', style='normal', variant='normal', weight=400, stretch='normal', size='scalable')) = 10.05\n",
      "2023-12-27 10:06:48,352: DEBUG: findfont: score(FontEntry(fname='/System/Library/Fonts/Supplemental/Times New Roman Italic.ttf', name='Times New Roman', style='italic', variant='normal', weight=400, stretch='normal', size='scalable')) = 11.05\n",
      "2023-12-27 10:06:48,352: DEBUG: findfont: score(FontEntry(fname='/System/Library/Fonts/Supplemental/SuperClarendon.ttc', name='Superclarendon', style='normal', variant='normal', weight=400, stretch='normal', size='scalable')) = 10.05\n",
      "2023-12-27 10:06:48,352: DEBUG: findfont: score(FontEntry(fname='/System/Library/Fonts/Supplemental/Oriya MN.ttc', name='Oriya MN', style='normal', variant='normal', weight=400, stretch='normal', size='scalable')) = 10.05\n",
      "2023-12-27 10:06:48,353: DEBUG: findfont: score(FontEntry(fname='/System/Library/Fonts/Supplemental/GillSans.ttc', name='Gill Sans', style='normal', variant='normal', weight=400, stretch='normal', size='scalable')) = 10.05\n",
      "2023-12-27 10:06:48,353: DEBUG: findfont: score(FontEntry(fname='/System/Library/Fonts/Supplemental/NotoSansAvestan-Regular.ttf', name='Noto Sans Avestan', style='normal', variant='normal', weight=400, stretch='normal', size='scalable')) = 10.05\n",
      "2023-12-27 10:06:48,353: DEBUG: findfont: score(FontEntry(fname='/System/Library/Fonts/ヒラギノ角ゴシック W6.ttc', name='Hiragino Sans', style='normal', variant='normal', weight=600, stretch='normal', size='scalable')) = 10.24\n",
      "2023-12-27 10:06:48,354: DEBUG: findfont: score(FontEntry(fname='/System/Library/Fonts/Supplemental/Diwan Thuluth.ttf', name='Diwan Thuluth', style='normal', variant='normal', weight=400, stretch='normal', size='scalable')) = 10.05\n",
      "2023-12-27 10:06:48,354: DEBUG: findfont: score(FontEntry(fname='/System/Library/Fonts/Supplemental/Kannada MN.ttc', name='Kannada MN', style='normal', variant='normal', weight=400, stretch='normal', size='scalable')) = 10.05\n",
      "2023-12-27 10:06:48,354: DEBUG: findfont: score(FontEntry(fname='/System/Library/Fonts/Supplemental/Georgia.ttf', name='Georgia', style='normal', variant='normal', weight=400, stretch='normal', size='scalable')) = 10.05\n",
      "2023-12-27 10:06:48,355: DEBUG: findfont: score(FontEntry(fname='/System/Library/Fonts/Supplemental/STIXVarBol.otf', name='STIXVariants', style='normal', variant='normal', weight=700, stretch='normal', size='scalable')) = 10.335\n",
      "2023-12-27 10:06:48,355: DEBUG: findfont: score(FontEntry(fname='/System/Library/Fonts/Supplemental/NotoSansMarchen-Regular.ttf', name='Noto Sans Marchen', style='normal', variant='normal', weight=400, stretch='normal', size='scalable')) = 10.05\n",
      "2023-12-27 10:06:48,355: DEBUG: findfont: score(FontEntry(fname='/System/Library/Fonts/Geneva.ttf', name='Geneva', style='normal', variant='normal', weight=400, stretch='normal', size='scalable')) = 4.595454545454545\n",
      "2023-12-27 10:06:48,356: DEBUG: findfont: score(FontEntry(fname='/System/Library/Fonts/SFNSMonoItalic.ttf', name='.SF NS Mono', style='italic', variant='normal', weight=295, stretch='normal', size='scalable')) = 11.14975\n",
      "2023-12-27 10:06:48,356: DEBUG: findfont: score(FontEntry(fname='/System/Library/Fonts/Avenir.ttc', name='Avenir', style='normal', variant='normal', weight=400, stretch='normal', size='scalable')) = 10.05\n",
      "2023-12-27 10:06:48,356: DEBUG: findfont: score(FontEntry(fname='/System/Library/Fonts/Helvetica.ttc', name='Helvetica', style='normal', variant='normal', weight=400, stretch='normal', size='scalable')) = 7.322727272727273\n",
      "2023-12-27 10:06:48,357: DEBUG: findfont: score(FontEntry(fname='/System/Library/Fonts/Supplemental/Luminari.ttf', name='Luminari', style='normal', variant='normal', weight=400, stretch='normal', size='scalable')) = 10.05\n",
      "2023-12-27 10:06:48,357: DEBUG: findfont: score(FontEntry(fname='/System/Library/Fonts/Supplemental/SukhumvitSet.ttc', name='Sukhumvit Set', style='normal', variant='normal', weight=250, stretch='normal', size='scalable')) = 10.1925\n",
      "2023-12-27 10:06:48,357: DEBUG: findfont: score(FontEntry(fname='/System/Library/Fonts/Supplemental/Charter.ttc', name='Charter', style='normal', variant='normal', weight=400, stretch='normal', size='scalable')) = 10.05\n",
      "2023-12-27 10:06:48,358: DEBUG: findfont: score(FontEntry(fname='/System/Library/Fonts/Supplemental/SignPainter.ttc', name='SignPainter', style='normal', variant='normal', weight=400, stretch='normal', size='scalable')) = 10.05\n",
      "2023-12-27 10:06:48,358: DEBUG: findfont: score(FontEntry(fname='/System/Library/Fonts/Supplemental/NotoSansLisu-Regular.ttf', name='Noto Sans Lisu', style='normal', variant='normal', weight=400, stretch='normal', size='scalable')) = 10.05\n",
      "2023-12-27 10:06:48,358: DEBUG: findfont: score(FontEntry(fname='/System/Library/Fonts/Supplemental/Sana.ttc', name='Sana', style='normal', variant='normal', weight=400, stretch='normal', size='scalable')) = 10.05\n",
      "2023-12-27 10:06:48,359: DEBUG: findfont: score(FontEntry(fname='/System/Library/Fonts/Supplemental/NotoSansBhaiksuki-Regular.ttf', name='Noto Sans Bhaiksuki', style='normal', variant='normal', weight=400, stretch='normal', size='scalable')) = 10.05\n",
      "2023-12-27 10:06:48,359: DEBUG: findfont: score(FontEntry(fname='/System/Library/Fonts/Supplemental/Malayalam Sangam MN.ttc', name='Malayalam Sangam MN', style='normal', variant='normal', weight=400, stretch='normal', size='scalable')) = 10.05\n",
      "2023-12-27 10:06:48,359: DEBUG: findfont: score(FontEntry(fname='/System/Library/Fonts/Courier.ttc', name='Courier', style='normal', variant='normal', weight=400, stretch='normal', size='scalable')) = 10.05\n",
      "2023-12-27 10:06:48,360: DEBUG: findfont: score(FontEntry(fname='/System/Library/Fonts/Supplemental/Al Tarikh.ttc', name='Al Tarikh', style='normal', variant='normal', weight=400, stretch='normal', size='scalable')) = 10.05\n",
      "2023-12-27 10:06:48,360: DEBUG: findfont: score(FontEntry(fname='/System/Library/Fonts/Supplemental/Khmer MN.ttc', name='Khmer MN', style='normal', variant='normal', weight=400, stretch='normal', size='scalable')) = 10.05\n",
      "2023-12-27 10:06:48,360: DEBUG: findfont: score(FontEntry(fname='/System/Library/Fonts/Apple Braille Outline 8 Dot.ttf', name='Apple Braille', style='normal', variant='normal', weight=400, stretch='normal', size='scalable')) = 10.05\n",
      "2023-12-27 10:06:48,361: DEBUG: findfont: score(FontEntry(fname='/System/Library/Fonts/Supplemental/NotoSansKaithi-Regular.ttf', name='Noto Sans Kaithi', style='normal', variant='normal', weight=400, stretch='normal', size='scalable')) = 10.05\n",
      "2023-12-27 10:06:48,361: DEBUG: findfont: score(FontEntry(fname='/System/Library/Fonts/Supplemental/Tamil MN.ttc', name='Tamil MN', style='normal', variant='normal', weight=400, stretch='normal', size='scalable')) = 10.05\n",
      "2023-12-27 10:06:48,361: DEBUG: findfont: score(FontEntry(fname='/System/Library/Fonts/Monaco.ttf', name='Monaco', style='normal', variant='normal', weight=400, stretch='normal', size='scalable')) = 10.05\n",
      "2023-12-27 10:06:48,362: DEBUG: findfont: score(FontEntry(fname='/System/Library/Fonts/Supplemental/NotoSansLimbu-Regular.ttf', name='Noto Sans Limbu', style='normal', variant='normal', weight=400, stretch='normal', size='scalable')) = 10.05\n",
      "2023-12-27 10:06:48,362: DEBUG: findfont: score(FontEntry(fname='/System/Library/Fonts/Supplemental/NotoSansLydian-Regular.ttf', name='Noto Sans Lydian', style='normal', variant='normal', weight=400, stretch='normal', size='scalable')) = 10.05\n",
      "2023-12-27 10:06:48,362: DEBUG: findfont: score(FontEntry(fname='/System/Library/Fonts/Supplemental/Microsoft Sans Serif.ttf', name='Microsoft Sans Serif', style='normal', variant='normal', weight=400, stretch='normal', size='scalable')) = 10.05\n",
      "2023-12-27 10:06:48,362: DEBUG: findfont: score(FontEntry(fname='/System/Library/Fonts/Supplemental/Copperplate.ttc', name='Copperplate', style='normal', variant='normal', weight=400, stretch='normal', size='scalable')) = 10.05\n",
      "2023-12-27 10:06:48,363: DEBUG: findfont: score(FontEntry(fname='/System/Library/Fonts/Supplemental/Gurmukhi.ttf', name='Gurmukhi MT', style='normal', variant='normal', weight=500, stretch='normal', size='scalable')) = 10.145\n",
      "2023-12-27 10:06:48,363: DEBUG: findfont: score(FontEntry(fname='/System/Library/Fonts/Supplemental/NotoSansSyriac-Regular.ttf', name='Noto Sans Syriac', style='normal', variant='normal', weight=400, stretch='normal', size='scalable')) = 10.05\n",
      "2023-12-27 10:06:48,363: DEBUG: findfont: score(FontEntry(fname='/System/Library/Fonts/Supplemental/Brush Script.ttf', name='Brush Script MT', style='italic', variant='normal', weight=400, stretch='normal', size='scalable')) = 11.05\n",
      "2023-12-27 10:06:48,364: DEBUG: findfont: score(FontEntry(fname='/System/Library/Fonts/Supplemental/NotoSansBassaVah-Regular.ttf', name='Noto Sans Bassa Vah', style='normal', variant='normal', weight=400, stretch='normal', size='scalable')) = 10.05\n",
      "2023-12-27 10:06:48,364: DEBUG: findfont: score(FontEntry(fname='/System/Library/Fonts/Supplemental/Baghdad.ttc', name='Baghdad', style='normal', variant='normal', weight=400, stretch='normal', size='scalable')) = 10.05\n",
      "2023-12-27 10:06:48,364: DEBUG: findfont: score(FontEntry(fname='/System/Library/Fonts/Supplemental/KufiStandardGK.ttc', name='KufiStandardGK', style='normal', variant='normal', weight=400, stretch='normal', size='scalable')) = 10.05\n",
      "2023-12-27 10:06:48,364: DEBUG: findfont: score(FontEntry(fname='/System/Library/Fonts/SFArabic.ttf', name='.SF Arabic', style='normal', variant='normal', weight=400, stretch='normal', size='scalable')) = 10.05\n",
      "2023-12-27 10:06:48,365: DEBUG: findfont: score(FontEntry(fname='/System/Library/Fonts/Supplemental/Baskerville.ttc', name='Baskerville', style='normal', variant='normal', weight=400, stretch='normal', size='scalable')) = 10.05\n",
      "2023-12-27 10:06:48,365: DEBUG: findfont: score(FontEntry(fname='/Library/Fonts/Arial Unicode.ttf', name='Arial Unicode MS', style='normal', variant='normal', weight=400, stretch='normal', size='scalable')) = 10.05\n",
      "2023-12-27 10:06:48,366: DEBUG: findfont: score(FontEntry(fname='/System/Library/Fonts/Supplemental/PlantagenetCherokee.ttf', name='Plantagenet Cherokee', style='normal', variant='normal', weight=400, stretch='normal', size='scalable')) = 10.05\n",
      "2023-12-27 10:06:48,366: DEBUG: findfont: score(FontEntry(fname='/System/Library/Fonts/NewYorkItalic.ttf', name='.New York', style='italic', variant='normal', weight=400, stretch='normal', size='scalable')) = 11.05\n",
      "2023-12-27 10:06:48,367: DEBUG: findfont: score(FontEntry(fname='/System/Library/Fonts/Supplemental/Georgia Bold.ttf', name='Georgia', style='normal', variant='normal', weight=700, stretch='normal', size='scalable')) = 10.335\n",
      "2023-12-27 10:06:48,367: DEBUG: findfont: score(FontEntry(fname='/System/Library/Fonts/Apple Braille Pinpoint 8 Dot.ttf', name='Apple Braille', style='normal', variant='normal', weight=400, stretch='normal', size='scalable')) = 10.05\n",
      "2023-12-27 10:06:48,368: DEBUG: findfont: score(FontEntry(fname='/System/Library/Fonts/Supplemental/NotoSansGlagolitic-Regular.ttf', name='Noto Sans Glagolitic', style='normal', variant='normal', weight=400, stretch='normal', size='scalable')) = 10.05\n",
      "2023-12-27 10:06:48,368: DEBUG: findfont: score(FontEntry(fname='/System/Library/Fonts/ArialHB.ttc', name='Arial Hebrew', style='normal', variant='normal', weight=400, stretch='normal', size='scalable')) = 10.05\n",
      "2023-12-27 10:06:48,368: DEBUG: findfont: score(FontEntry(fname='/System/Library/Fonts/Supplemental/NotoSansTirhuta-Regular.ttf', name='Noto Sans Tirhuta', style='normal', variant='normal', weight=400, stretch='normal', size='scalable')) = 10.05\n",
      "2023-12-27 10:06:48,369: DEBUG: findfont: score(FontEntry(fname='/System/Library/Fonts/Supplemental/NotoSansOldNorthArabian-Regular.ttf', name='Noto Sans Old North Arabian', style='normal', variant='normal', weight=400, stretch='normal', size='scalable')) = 10.05\n",
      "2023-12-27 10:06:48,369: DEBUG: findfont: score(FontEntry(fname='/System/Library/Fonts/Supplemental/STIXIntUpDReg.otf', name='STIXIntegralsUpD', style='normal', variant='normal', weight=400, stretch='normal', size='scalable')) = 10.05\n",
      "2023-12-27 10:06:48,369: DEBUG: findfont: score(FontEntry(fname='/System/Library/Fonts/Supplemental/Chalkduster.ttf', name='Chalkduster', style='normal', variant='normal', weight=400, stretch='normal', size='scalable')) = 10.05\n",
      "2023-12-27 10:06:48,370: DEBUG: findfont: score(FontEntry(fname='/System/Library/Fonts/Supplemental/Tahoma.ttf', name='Tahoma', style='normal', variant='normal', weight=400, stretch='normal', size='scalable')) = 10.05\n",
      "2023-12-27 10:06:48,370: DEBUG: findfont: score(FontEntry(fname='/System/Library/Fonts/Supplemental/ChalkboardSE.ttc', name='Chalkboard SE', style='normal', variant='normal', weight=400, stretch='normal', size='scalable')) = 10.05\n",
      "2023-12-27 10:06:48,370: DEBUG: findfont: score(FontEntry(fname='/System/Library/Fonts/Supplemental/STIXGeneralBolIta.otf', name='STIXGeneral', style='italic', variant='normal', weight=700, stretch='normal', size='scalable')) = 11.335\n",
      "2023-12-27 10:06:48,371: DEBUG: findfont: score(FontEntry(fname='/System/Library/Fonts/Supplemental/Verdana Bold Italic.ttf', name='Verdana', style='italic', variant='normal', weight=700, stretch='normal', size='scalable')) = 4.971363636363637\n",
      "2023-12-27 10:06:48,371: DEBUG: findfont: score(FontEntry(fname='/System/Library/Fonts/ヒラギノ角ゴシック W1.ttc', name='Hiragino Sans', style='normal', variant='normal', weight=200, stretch='normal', size='scalable')) = 10.24\n",
      "2023-12-27 10:06:48,371: DEBUG: findfont: score(FontEntry(fname='/System/Library/Fonts/Supplemental/STIXSizOneSymBol.otf', name='STIXSizeOneSym', style='normal', variant='normal', weight=700, stretch='normal', size='scalable')) = 10.335\n",
      "2023-12-27 10:06:48,372: DEBUG: findfont: score(FontEntry(fname='/System/Library/Fonts/Supplemental/NotoSansKhudawadi-Regular.ttf', name='Noto Sans Khudawadi', style='normal', variant='normal', weight=400, stretch='normal', size='scalable')) = 10.05\n",
      "2023-12-27 10:06:48,373: DEBUG: findfont: score(FontEntry(fname='/System/Library/Fonts/Supplemental/STIXGeneralBol.otf', name='STIXGeneral', style='normal', variant='normal', weight=700, stretch='normal', size='scalable')) = 10.335\n",
      "2023-12-27 10:06:48,374: DEBUG: findfont: score(FontEntry(fname='/System/Library/Fonts/Supplemental/NotoSansSundanese-Regular.ttf', name='Noto Sans Sundanese', style='normal', variant='normal', weight=400, stretch='normal', size='scalable')) = 10.05\n",
      "2023-12-27 10:06:48,375: DEBUG: findfont: score(FontEntry(fname='/System/Library/Fonts/Supplemental/NotoSansMasaramGondi-Regular.otf', name='Noto Sans Masaram Gondi', style='normal', variant='normal', weight=400, stretch='normal', size='scalable')) = 10.05\n",
      "2023-12-27 10:06:48,377: DEBUG: findfont: score(FontEntry(fname='/System/Library/Fonts/Supplemental/Arial Bold.ttf', name='Arial', style='normal', variant='normal', weight=700, stretch='normal', size='scalable')) = 6.698636363636363\n",
      "2023-12-27 10:06:48,377: DEBUG: findfont: score(FontEntry(fname='/System/Library/Fonts/Supplemental/Oriya Sangam MN.ttc', name='Oriya Sangam MN', style='normal', variant='normal', weight=400, stretch='normal', size='scalable')) = 10.05\n",
      "2023-12-27 10:06:48,378: DEBUG: findfont: score(FontEntry(fname='/System/Library/Fonts/Supplemental/DecoTypeNaskh.ttc', name='DecoType Naskh', style='normal', variant='normal', weight=400, stretch='normal', size='scalable')) = 10.05\n",
      "2023-12-27 10:06:48,379: DEBUG: findfont: score(FontEntry(fname='/System/Library/Fonts/Supplemental/NotoSansBuginese-Regular.ttf', name='Noto Sans Buginese', style='normal', variant='normal', weight=400, stretch='normal', size='scalable')) = 10.05\n",
      "2023-12-27 10:06:48,380: DEBUG: findfont: score(FontEntry(fname='/System/Library/Fonts/Supplemental/AlBayan.ttc', name='Al Bayan', style='normal', variant='normal', weight=400, stretch='normal', size='scalable')) = 10.05\n",
      "2023-12-27 10:06:48,381: DEBUG: findfont: score(FontEntry(fname='/System/Library/Fonts/Supplemental/NotoSansOldHungarian-Regular.ttf', name='Noto Sans Old Hungarian', style='normal', variant='normal', weight=400, stretch='normal', size='scalable')) = 10.05\n",
      "2023-12-27 10:06:48,382: DEBUG: findfont: score(FontEntry(fname='/System/Library/Fonts/Supplemental/NotoSansHatran-Regular.ttf', name='Noto Sans Hatran', style='normal', variant='normal', weight=400, stretch='normal', size='scalable')) = 10.05\n",
      "2023-12-27 10:06:48,383: DEBUG: findfont: score(FontEntry(fname='/System/Library/Fonts/Times.ttc', name='Times', style='normal', variant='normal', weight=400, stretch='normal', size='scalable')) = 10.05\n",
      "2023-12-27 10:06:48,383: DEBUG: findfont: score(FontEntry(fname='/System/Library/Fonts/Supplemental/Sinhala Sangam MN.ttc', name='Sinhala Sangam MN', style='normal', variant='normal', weight=400, stretch='normal', size='scalable')) = 10.05\n",
      "2023-12-27 10:06:48,385: DEBUG: findfont: score(FontEntry(fname='/System/Library/Fonts/Supplemental/NotoSansSoraSompeng-Regular.ttf', name='Noto Sans Sora Sompeng', style='normal', variant='normal', weight=400, stretch='normal', size='scalable')) = 10.05\n",
      "2023-12-27 10:06:48,386: DEBUG: findfont: score(FontEntry(fname='/System/Library/Fonts/Supplemental/PTSerifCaption.ttc', name='PT Serif Caption', style='normal', variant='normal', weight=400, stretch='normal', size='scalable')) = 10.05\n",
      "2023-12-27 10:06:48,387: DEBUG: findfont: score(FontEntry(fname='/System/Library/Fonts/Supplemental/STIXTwoMath.otf', name='STIX Two Math', style='normal', variant='normal', weight=400, stretch='normal', size='scalable')) = 10.05\n",
      "2023-12-27 10:06:48,388: DEBUG: findfont: score(FontEntry(fname='/System/Library/Fonts/Supplemental/Devanagari Sangam MN.ttc', name='Devanagari Sangam MN', style='normal', variant='normal', weight=400, stretch='normal', size='scalable')) = 10.05\n",
      "2023-12-27 10:06:48,389: DEBUG: findfont: score(FontEntry(fname='/System/Library/Fonts/SFArabicRounded.ttf', name='.SF Arabic Rounded', style='normal', variant='normal', weight=400, stretch='normal', size='scalable')) = 10.05\n",
      "2023-12-27 10:06:48,390: DEBUG: findfont: score(FontEntry(fname='/System/Library/Fonts/Supplemental/Corsiva.ttc', name='Corsiva Hebrew', style='normal', variant='normal', weight=400, stretch='normal', size='scalable')) = 10.05\n",
      "2023-12-27 10:06:48,391: DEBUG: findfont: score(FontEntry(fname='/System/Library/Fonts/Supplemental/NotoSansNabataean-Regular.ttf', name='Noto Sans Nabataean', style='normal', variant='normal', weight=400, stretch='normal', size='scalable')) = 10.05\n",
      "2023-12-27 10:06:48,392: DEBUG: findfont: score(FontEntry(fname='/System/Library/Fonts/Supplemental/Verdana Bold.ttf', name='Verdana', style='normal', variant='normal', weight=700, stretch='normal', size='scalable')) = 3.9713636363636367\n",
      "2023-12-27 10:06:48,392: DEBUG: findfont: score(FontEntry(fname='/System/Library/Fonts/Supplemental/NotoSansTagbanwa-Regular.ttf', name='Noto Sans Tagbanwa', style='normal', variant='normal', weight=400, stretch='normal', size='scalable')) = 10.05\n",
      "2023-12-27 10:06:48,393: DEBUG: findfont: score(FontEntry(fname='/System/Library/Fonts/Avenir Next Condensed.ttc', name='Avenir Next Condensed', style='normal', variant='normal', weight=700, stretch='condensed', size='scalable')) = 10.535\n",
      "2023-12-27 10:06:48,394: DEBUG: findfont: score(FontEntry(fname='/System/Library/Fonts/SFCompactItalic.ttf', name='.SF Compact', style='italic', variant='normal', weight=1000, stretch='normal', size='scalable')) = 11.62\n",
      "2023-12-27 10:06:48,394: DEBUG: findfont: score(FontEntry(fname='/System/Library/Fonts/Supplemental/Times New Roman.ttf', name='Times New Roman', style='normal', variant='normal', weight=400, stretch='normal', size='scalable')) = 10.05\n",
      "2023-12-27 10:06:48,396: DEBUG: findfont: score(FontEntry(fname='/System/Library/Fonts/AppleSDGothicNeo.ttc', name='Apple SD Gothic Neo', style='normal', variant='normal', weight=400, stretch='normal', size='scalable')) = 10.05\n",
      "2023-12-27 10:06:48,398: DEBUG: findfont: score(FontEntry(fname='/System/Library/Fonts/Apple Braille Outline 6 Dot.ttf', name='Apple Braille', style='normal', variant='normal', weight=400, stretch='normal', size='scalable')) = 10.05\n",
      "2023-12-27 10:06:48,399: DEBUG: findfont: score(FontEntry(fname='/System/Library/Fonts/Supplemental/NotoSansPhoenician-Regular.ttf', name='Noto Sans Phoenician', style='normal', variant='normal', weight=400, stretch='normal', size='scalable')) = 10.05\n",
      "2023-12-27 10:06:48,399: DEBUG: findfont: score(FontEntry(fname='/System/Library/Fonts/Supplemental/NotoSansNewa-Regular.ttf', name='Noto Sans Newa', style='normal', variant='normal', weight=400, stretch='normal', size='scalable')) = 10.05\n",
      "2023-12-27 10:06:48,399: DEBUG: findfont: score(FontEntry(fname='/System/Library/Fonts/ThonburiUI.ttc', name='.ThonburiUI', style='normal', variant='normal', weight=400, stretch='normal', size='scalable')) = 10.05\n",
      "2023-12-27 10:06:48,400: DEBUG: findfont: score(FontEntry(fname='/System/Library/Fonts/Supplemental/Mishafi Gold.ttf', name='Mishafi Gold', style='normal', variant='normal', weight=400, stretch='normal', size='scalable')) = 10.05\n",
      "2023-12-27 10:06:48,400: DEBUG: findfont: score(FontEntry(fname='/System/Library/Fonts/Supplemental/Savoye LET.ttc', name='Savoye LET', style='normal', variant='normal', weight=400, stretch='normal', size='scalable')) = 10.05\n",
      "2023-12-27 10:06:48,400: DEBUG: findfont: score(FontEntry(fname='/System/Library/Fonts/Supplemental/NotoSansMiao-Regular.ttf', name='Noto Sans Miao', style='normal', variant='normal', weight=400, stretch='normal', size='scalable')) = 10.05\n",
      "2023-12-27 10:06:48,401: DEBUG: findfont: score(FontEntry(fname='/System/Library/Fonts/Supplemental/Khmer Sangam MN.ttf', name='Khmer Sangam MN', style='normal', variant='normal', weight=400, stretch='normal', size='scalable')) = 10.05\n",
      "2023-12-27 10:06:48,401: DEBUG: findfont: score(FontEntry(fname='/System/Library/Fonts/Supplemental/STIXSizFourSymReg.otf', name='STIXSizeFourSym', style='normal', variant='normal', weight=400, stretch='normal', size='scalable')) = 10.05\n",
      "2023-12-27 10:06:48,401: DEBUG: findfont: score(FontEntry(fname='/System/Library/Fonts/Supplemental/Arial Narrow Bold Italic.ttf', name='Arial Narrow', style='italic', variant='normal', weight=700, stretch='condensed', size='scalable')) = 11.535\n",
      "2023-12-27 10:06:48,402: DEBUG: findfont: score(FontEntry(fname='/System/Library/Fonts/Supplemental/Courier New Bold Italic.ttf', name='Courier New', style='italic', variant='normal', weight=700, stretch='normal', size='scalable')) = 11.335\n",
      "2023-12-27 10:06:48,402: DEBUG: findfont: score(FontEntry(fname='/System/Library/Fonts/Apple Braille Pinpoint 6 Dot.ttf', name='Apple Braille', style='normal', variant='normal', weight=400, stretch='normal', size='scalable')) = 10.05\n",
      "2023-12-27 10:06:48,402: DEBUG: findfont: score(FontEntry(fname='/System/Library/Fonts/Supplemental/Kokonor.ttf', name='Kokonor', style='normal', variant='normal', weight=400, stretch='normal', size='scalable')) = 10.05\n",
      "2023-12-27 10:06:48,402: DEBUG: findfont: score(FontEntry(fname='/System/Library/Fonts/Supplemental/BigCaslon.ttf', name='Big Caslon', style='normal', variant='normal', weight=500, stretch='normal', size='scalable')) = 10.145\n",
      "2023-12-27 10:06:48,403: DEBUG: findfont: score(FontEntry(fname='/System/Library/Fonts/Supplemental/NotoSansTagalog-Regular.ttf', name='Noto Sans Tagalog', style='normal', variant='normal', weight=400, stretch='normal', size='scalable')) = 10.05\n",
      "2023-12-27 10:06:48,403: DEBUG: findfont: score(FontEntry(fname='/System/Library/Fonts/Supplemental/Waseem.ttc', name='Waseem', style='normal', variant='normal', weight=400, stretch='normal', size='scalable')) = 10.05\n",
      "2023-12-27 10:06:48,403: DEBUG: findfont: score(FontEntry(fname='/System/Library/Fonts/Supplemental/STIXSizTwoSymBol.otf', name='STIXSizeTwoSym', style='normal', variant='normal', weight=700, stretch='normal', size='scalable')) = 10.335\n",
      "2023-12-27 10:06:48,404: DEBUG: findfont: score(FontEntry(fname='/System/Library/Fonts/Supplemental/NotoSansDuployan-Regular.ttf', name='Noto Sans Duployan', style='normal', variant='normal', weight=400, stretch='normal', size='scalable')) = 10.05\n",
      "2023-12-27 10:06:48,406: DEBUG: findfont: score(FontEntry(fname='/System/Library/Fonts/Supplemental/Beirut.ttc', name='Beirut', style='normal', variant='normal', weight=700, stretch='normal', size='scalable')) = 10.335\n",
      "2023-12-27 10:06:48,406: DEBUG: findfont: score(FontEntry(fname='/System/Library/Fonts/Supplemental/STIXIntDReg.otf', name='STIXIntegralsD', style='normal', variant='normal', weight=400, stretch='normal', size='scalable')) = 10.05\n",
      "2023-12-27 10:06:48,407: DEBUG: findfont: score(FontEntry(fname='/System/Library/Fonts/Supplemental/AppleMyungjo.ttf', name='AppleMyungjo', style='normal', variant='normal', weight=400, stretch='normal', size='scalable')) = 10.05\n",
      "2023-12-27 10:06:48,408: DEBUG: findfont: score(FontEntry(fname='/System/Library/Fonts/Supplemental/Gurmukhi Sangam MN.ttc', name='Gurmukhi Sangam MN', style='normal', variant='normal', weight=400, stretch='normal', size='scalable')) = 10.05\n",
      "2023-12-27 10:06:48,408: DEBUG: findfont: score(FontEntry(fname='/System/Library/Fonts/Supplemental/NotoSansElbasan-Regular.ttf', name='Noto Sans Elbasan', style='normal', variant='normal', weight=400, stretch='normal', size='scalable')) = 10.05\n",
      "2023-12-27 10:06:48,409: DEBUG: findfont: score(FontEntry(fname='/System/Library/Fonts/Apple Symbols.ttf', name='Apple Symbols', style='normal', variant='normal', weight=400, stretch='normal', size='scalable')) = 10.05\n",
      "2023-12-27 10:06:48,410: DEBUG: findfont: score(FontEntry(fname='/System/Library/Fonts/KohinoorBangla.ttc', name='Kohinoor Bangla', style='normal', variant='normal', weight=400, stretch='normal', size='scalable')) = 10.05\n",
      "2023-12-27 10:06:48,411: DEBUG: findfont: score(FontEntry(fname='/System/Library/Fonts/SFNS.ttf', name='System Font', style='normal', variant='normal', weight=400, stretch='normal', size='scalable')) = 10.05\n",
      "2023-12-27 10:06:48,411: DEBUG: findfont: score(FontEntry(fname='/System/Library/Fonts/Supplemental/STIXTwoText-Italic.ttf', name='STIX Two Text', style='italic', variant='normal', weight=400, stretch='normal', size='scalable')) = 11.05\n",
      "2023-12-27 10:06:48,412: DEBUG: findfont: score(FontEntry(fname='/System/Library/Fonts/Supplemental/Thonburi.ttc', name='Thonburi', style='normal', variant='normal', weight=400, stretch='normal', size='scalable')) = 10.05\n",
      "2023-12-27 10:06:48,412: DEBUG: findfont: score(FontEntry(fname='/System/Library/Fonts/Supplemental/Bodoni 72.ttc', name='Bodoni 72', style='normal', variant='normal', weight=400, stretch='normal', size='scalable')) = 10.05\n",
      "2023-12-27 10:06:48,412: DEBUG: findfont: score(FontEntry(fname='/System/Library/Fonts/Supplemental/STIXGeneralItalic.otf', name='STIXGeneral', style='italic', variant='normal', weight=400, stretch='normal', size='scalable')) = 11.05\n",
      "2023-12-27 10:06:48,413: DEBUG: findfont: score(FontEntry(fname='/System/Library/Fonts/Supplemental/Wingdings 2.ttf', name='Wingdings 2', style='normal', variant='normal', weight=400, stretch='normal', size='scalable')) = 10.05\n",
      "2023-12-27 10:06:48,413: DEBUG: findfont: score(FontEntry(fname='/System/Library/Fonts/NewYork.ttf', name='.New York', style='normal', variant='normal', weight=400, stretch='normal', size='scalable')) = 10.05\n",
      "2023-12-27 10:06:48,413: DEBUG: findfont: score(FontEntry(fname='/System/Library/Fonts/GeezaPro.ttc', name='Geeza Pro', style='normal', variant='normal', weight=400, stretch='normal', size='scalable')) = 10.05\n",
      "2023-12-27 10:06:48,414: DEBUG: findfont: score(FontEntry(fname='/System/Library/Fonts/Supplemental/NotoSansInscriptionalPahlavi-Regular.ttf', name='Noto Sans Inscriptional Pahlavi', style='normal', variant='normal', weight=400, stretch='normal', size='scalable')) = 10.05\n",
      "2023-12-27 10:06:48,414: DEBUG: findfont: score(FontEntry(fname='/System/Library/Fonts/Supplemental/Silom.ttf', name='Silom', style='normal', variant='normal', weight=400, stretch='normal', size='scalable')) = 10.05\n",
      "2023-12-27 10:06:48,414: DEBUG: findfont: score(FontEntry(fname='/System/Library/Fonts/Supplemental/NotoSansBamum-Regular.ttf', name='Noto Sans Bamum', style='normal', variant='normal', weight=400, stretch='normal', size='scalable')) = 10.05\n",
      "2023-12-27 10:06:48,415: DEBUG: findfont: score(FontEntry(fname='/System/Library/Fonts/Supplemental/NotoSerifNyiakengPuachueHmong-Regular.ttf', name='Noto Serif Hmong Nyiakeng', style='normal', variant='normal', weight=400, stretch='normal', size='scalable')) = 10.05\n",
      "2023-12-27 10:06:48,415: DEBUG: findfont: score(FontEntry(fname='/System/Library/Fonts/Apple Braille.ttf', name='Apple Braille', style='normal', variant='normal', weight=400, stretch='normal', size='scalable')) = 10.05\n",
      "2023-12-27 10:06:48,415: DEBUG: findfont: score(FontEntry(fname='/System/Library/Fonts/Supplemental/NotoSansOldSouthArabian-Regular.ttf', name='Noto Sans Old South Arabian', style='normal', variant='normal', weight=400, stretch='normal', size='scalable')) = 10.05\n",
      "2023-12-27 10:06:48,415: DEBUG: findfont: score(FontEntry(fname='/System/Library/Fonts/Supplemental/Mshtakan.ttc', name='Mshtakan', style='normal', variant='normal', weight=400, stretch='normal', size='scalable')) = 10.05\n",
      "2023-12-27 10:06:48,416: DEBUG: findfont: score(FontEntry(fname='/System/Library/Fonts/Supplemental/Bodoni 72 OS.ttc', name='Bodoni 72 Oldstyle', style='normal', variant='normal', weight=400, stretch='normal', size='scalable')) = 10.05\n",
      "2023-12-27 10:06:48,416: DEBUG: findfont: score(FontEntry(fname='/System/Library/Fonts/Optima.ttc', name='Optima', style='normal', variant='normal', weight=400, stretch='normal', size='scalable')) = 10.05\n",
      "2023-12-27 10:06:48,416: DEBUG: findfont: score(FontEntry(fname='/System/Library/Fonts/Supplemental/NotoSansEgyptianHieroglyphs-Regular.ttf', name='Noto Sans Egyptian Hieroglyphs', style='normal', variant='normal', weight=400, stretch='normal', size='scalable')) = 10.05\n",
      "2023-12-27 10:06:48,417: DEBUG: findfont: score(FontEntry(fname='/System/Library/Fonts/Supplemental/NotoSansLinearA-Regular.ttf', name='Noto Sans Linear A', style='normal', variant='normal', weight=400, stretch='normal', size='scalable')) = 10.05\n",
      "2023-12-27 10:06:48,417: DEBUG: findfont: score(FontEntry(fname='/System/Library/Fonts/Supplemental/NotoSansPhagsPa-Regular.ttf', name='Noto Sans PhagsPa', style='normal', variant='normal', weight=400, stretch='normal', size='scalable')) = 10.05\n",
      "2023-12-27 10:06:48,418: DEBUG: findfont: score(FontEntry(fname='/System/Library/Fonts/Supplemental/NotoSansPsalterPahlavi-Regular.ttf', name='Noto Sans Psalter Pahlavi', style='normal', variant='normal', weight=400, stretch='normal', size='scalable')) = 10.05\n",
      "2023-12-27 10:06:48,418: DEBUG: findfont: score(FontEntry(fname='/System/Library/Fonts/HelveticaNeue.ttc', name='Helvetica Neue', style='normal', variant='normal', weight=400, stretch='normal', size='scalable')) = 10.05\n",
      "2023-12-27 10:06:48,419: DEBUG: findfont: score(FontEntry(fname='/System/Library/Fonts/Supplemental/NotoSansSamaritan-Regular.ttf', name='Noto Sans Samaritan', style='normal', variant='normal', weight=400, stretch='normal', size='scalable')) = 10.05\n",
      "2023-12-27 10:06:48,419: DEBUG: findfont: score(FontEntry(fname='/System/Library/Fonts/Supplemental/Hoefler Text.ttc', name='Hoefler Text', style='normal', variant='normal', weight=400, stretch='normal', size='scalable')) = 10.05\n",
      "2023-12-27 10:06:48,419: DEBUG: findfont: score(FontEntry(fname='/System/Library/Fonts/Supplemental/STIXNonUniBolIta.otf', name='STIXNonUnicode', style='italic', variant='normal', weight=700, stretch='normal', size='scalable')) = 11.335\n",
      "2023-12-27 10:06:48,420: DEBUG: findfont: score(FontEntry(fname='/System/Library/Fonts/Supplemental/NotoSansNewTaiLue-Regular.ttf', name='Noto Sans New Tai Lue', style='normal', variant='normal', weight=400, stretch='normal', size='scalable')) = 10.05\n",
      "2023-12-27 10:06:48,420: DEBUG: findfont: score(FontEntry(fname='/System/Library/Fonts/Supplemental/Papyrus.ttc', name='Papyrus', style='normal', variant='normal', weight=400, stretch='condensed', size='scalable')) = 10.25\n",
      "2023-12-27 10:06:48,420: DEBUG: findfont: score(FontEntry(fname='/System/Library/Fonts/Supplemental/NotoSansImperialAramaic-Regular.ttf', name='Noto Sans Imperial Aramaic', style='normal', variant='normal', weight=400, stretch='normal', size='scalable')) = 10.05\n",
      "2023-12-27 10:06:48,420: DEBUG: findfont: score(FontEntry(fname='/System/Library/Fonts/Supplemental/Zapfino.ttf', name='Zapfino', style='normal', variant='normal', weight=400, stretch='normal', size='scalable')) = 10.05\n",
      "2023-12-27 10:06:48,421: DEBUG: findfont: score(FontEntry(fname='/System/Library/Fonts/Supplemental/Arial Narrow.ttf', name='Arial Narrow', style='normal', variant='normal', weight=400, stretch='condensed', size='scalable')) = 10.25\n",
      "2023-12-27 10:06:48,421: DEBUG: findfont: score(FontEntry(fname='/System/Library/Fonts/Supplemental/STIXIntUpBol.otf', name='STIXIntegralsUp', style='normal', variant='normal', weight=700, stretch='normal', size='scalable')) = 10.335\n",
      "2023-12-27 10:06:48,421: DEBUG: findfont: score(FontEntry(fname='/System/Library/Fonts/Supplemental/Arial Black.ttf', name='Arial Black', style='normal', variant='normal', weight=900, stretch='normal', size='scalable')) = 10.525\n",
      "2023-12-27 10:06:48,422: DEBUG: findfont: score(FontEntry(fname='/System/Library/Fonts/Supplemental/Bangla MN.ttc', name='Bangla MN', style='normal', variant='normal', weight=400, stretch='normal', size='scalable')) = 10.05\n",
      "2023-12-27 10:06:48,422: DEBUG: findfont: score(FontEntry(fname='/System/Library/Fonts/Supplemental/Arial Unicode.ttf', name='Arial Unicode MS', style='normal', variant='normal', weight=400, stretch='normal', size='scalable')) = 10.05\n",
      "2023-12-27 10:06:48,422: DEBUG: findfont: score(FontEntry(fname='/System/Library/Fonts/Supplemental/Times New Roman Bold.ttf', name='Times New Roman', style='normal', variant='normal', weight=700, stretch='normal', size='scalable')) = 10.335\n",
      "2023-12-27 10:06:48,423: DEBUG: findfont: score(FontEntry(fname='/System/Library/Fonts/Supplemental/Georgia Bold Italic.ttf', name='Georgia', style='italic', variant='normal', weight=700, stretch='normal', size='scalable')) = 11.335\n",
      "2023-12-27 10:06:48,423: DEBUG: findfont: score(FontEntry(fname='/System/Library/Fonts/Supplemental/Ayuthaya.ttf', name='Ayuthaya', style='normal', variant='normal', weight=400, stretch='normal', size='scalable')) = 10.05\n",
      "2023-12-27 10:06:48,423: DEBUG: findfont: score(FontEntry(fname='/System/Library/Fonts/Supplemental/AmericanTypewriter.ttc', name='American Typewriter', style='normal', variant='normal', weight=400, stretch='normal', size='scalable')) = 10.05\n",
      "2023-12-27 10:06:48,423: DEBUG: findfont: score(FontEntry(fname='/System/Library/Fonts/Supplemental/Wingdings.ttf', name='Wingdings', style='normal', variant='normal', weight=400, stretch='normal', size='scalable')) = 10.05\n",
      "2023-12-27 10:06:48,424: DEBUG: findfont: score(FontEntry(fname='/System/Library/Fonts/Supplemental/Bangla Sangam MN.ttc', name='Bangla Sangam MN', style='normal', variant='normal', weight=400, stretch='normal', size='scalable')) = 10.05\n",
      "2023-12-27 10:06:48,424: DEBUG: findfont: score(FontEntry(fname='/System/Library/Fonts/Supplemental/STIXSizThreeSymBol.otf', name='STIXSizeThreeSym', style='normal', variant='normal', weight=700, stretch='normal', size='scalable')) = 10.335\n",
      "2023-12-27 10:06:48,424: DEBUG: findfont: score(FontEntry(fname='/System/Library/Fonts/Supplemental/NotoSansCham-Regular.ttf', name='Noto Sans Cham', style='normal', variant='normal', weight=400, stretch='normal', size='scalable')) = 10.05\n",
      "2023-12-27 10:06:48,425: DEBUG: findfont: score(FontEntry(fname='/System/Library/Fonts/Supplemental/NotoSansKhojki-Regular.ttf', name='Noto Sans Khojki', style='normal', variant='normal', weight=400, stretch='normal', size='scalable')) = 10.05\n",
      "2023-12-27 10:06:48,425: DEBUG: findfont: score(FontEntry(fname='/System/Library/Fonts/Supplemental/Muna.ttc', name='Muna', style='normal', variant='normal', weight=400, stretch='normal', size='scalable')) = 10.05\n",
      "2023-12-27 10:06:48,425: DEBUG: findfont: score(FontEntry(fname='/System/Library/Fonts/Supplemental/Cochin.ttc', name='Cochin', style='normal', variant='normal', weight=500, stretch='normal', size='scalable')) = 10.145\n",
      "2023-12-27 10:06:48,425: DEBUG: findfont: score(FontEntry(fname='/System/Library/Fonts/Supplemental/Galvji.ttc', name='Galvji', style='normal', variant='normal', weight=400, stretch='normal', size='scalable')) = 10.05\n",
      "2023-12-27 10:06:48,425: DEBUG: findfont: score(FontEntry(fname='/System/Library/Fonts/Supplemental/NotoSansTaiViet-Regular.ttf', name='Noto Sans Tai Viet', style='normal', variant='normal', weight=400, stretch='normal', size='scalable')) = 10.05\n",
      "2023-12-27 10:06:48,426: DEBUG: findfont: score(FontEntry(fname='/System/Library/Fonts/Supplemental/Nadeem.ttc', name='Nadeem', style='normal', variant='normal', weight=400, stretch='normal', size='scalable')) = 10.05\n",
      "2023-12-27 10:06:48,426: DEBUG: findfont: score(FontEntry(fname='/System/Library/Fonts/Supplemental/NotoSansTaiTham-Regular.ttf', name='Noto Sans Tai Tham', style='normal', variant='normal', weight=400, stretch='normal', size='scalable')) = 10.05\n",
      "2023-12-27 10:06:48,426: DEBUG: findfont: score(FontEntry(fname='/System/Library/Fonts/Supplemental/Diwan Kufi.ttc', name='Diwan Kufi', style='normal', variant='normal', weight=400, stretch='normal', size='scalable')) = 10.05\n",
      "2023-12-27 10:06:48,426: DEBUG: findfont: score(FontEntry(fname='/System/Library/Fonts/Supplemental/NotoSansMongolian-Regular.ttf', name='Noto Sans Mongolian', style='normal', variant='normal', weight=400, stretch='normal', size='scalable')) = 10.05\n",
      "2023-12-27 10:06:48,426: DEBUG: findfont: score(FontEntry(fname='/System/Library/Fonts/Supplemental/Trebuchet MS Bold.ttf', name='Trebuchet MS', style='normal', variant='normal', weight=700, stretch='normal', size='scalable')) = 10.335\n",
      "2023-12-27 10:06:48,427: DEBUG: findfont: score(FontEntry(fname='/System/Library/Fonts/Supplemental/NotoSansSylotiNagri-Regular.ttf', name='Noto Sans Syloti Nagri', style='normal', variant='normal', weight=400, stretch='normal', size='scalable')) = 10.05\n",
      "2023-12-27 10:06:48,427: DEBUG: findfont: score(FontEntry(fname='/System/Library/Fonts/ヒラギノ角ゴシック W8.ttc', name='Hiragino Sans', style='normal', variant='normal', weight=800, stretch='normal', size='scalable')) = 10.43\n",
      "2023-12-27 10:06:48,428: DEBUG: findfont: score(FontEntry(fname='/System/Library/Fonts/Supplemental/STIXIntDBol.otf', name='STIXIntegralsD', style='normal', variant='normal', weight=700, stretch='normal', size='scalable')) = 10.335\n",
      "2023-12-27 10:06:48,428: DEBUG: findfont: score(FontEntry(fname='/System/Library/Fonts/ヒラギノ角ゴシック W4.ttc', name='Hiragino Sans', style='normal', variant='normal', weight=400, stretch='normal', size='scalable')) = 10.05\n",
      "2023-12-27 10:06:48,429: DEBUG: findfont: score(FontEntry(fname='/System/Library/Fonts/Supplemental/EuphemiaCAS.ttc', name='Euphemia UCAS', style='normal', variant='normal', weight=400, stretch='normal', size='scalable')) = 10.05\n",
      "2023-12-27 10:06:48,429: DEBUG: findfont: score(FontEntry(fname='/System/Library/Fonts/Supplemental/NotoSansCarian-Regular.ttf', name='Noto Sans Carian', style='normal', variant='normal', weight=400, stretch='normal', size='scalable')) = 10.05\n",
      "2023-12-27 10:06:48,429: DEBUG: findfont: score(FontEntry(fname='/System/Library/Fonts/Menlo.ttc', name='Menlo', style='normal', variant='normal', weight=400, stretch='normal', size='scalable')) = 10.05\n",
      "2023-12-27 10:06:48,430: DEBUG: findfont: score(FontEntry(fname='/System/Library/Fonts/Kohinoor.ttc', name='Kohinoor Devanagari', style='normal', variant='normal', weight=400, stretch='normal', size='scalable')) = 10.05\n",
      "2023-12-27 10:06:48,430: DEBUG: findfont: score(FontEntry(fname='/System/Library/Fonts/Supplemental/NotoSansCoptic-Regular.ttf', name='Noto Sans Coptic', style='normal', variant='normal', weight=400, stretch='normal', size='scalable')) = 10.05\n",
      "2023-12-27 10:06:48,431: DEBUG: findfont: score(FontEntry(fname='/System/Library/Fonts/Supplemental/STIXNonUniIta.otf', name='STIXNonUnicode', style='italic', variant='normal', weight=400, stretch='normal', size='scalable')) = 11.05\n",
      "2023-12-27 10:06:48,431: DEBUG: findfont: score(FontEntry(fname='/System/Library/Fonts/Supplemental/Arial Rounded Bold.ttf', name='Arial Rounded MT Bold', style='normal', variant='normal', weight=400, stretch='normal', size='scalable')) = 10.05\n",
      "2023-12-27 10:06:48,431: DEBUG: findfont: score(FontEntry(fname='/System/Library/Fonts/Supplemental/NotoSansKharoshthi-Regular.ttf', name='Noto Sans Kharoshthi', style='normal', variant='normal', weight=400, stretch='normal', size='scalable')) = 10.05\n",
      "2023-12-27 10:06:48,432: DEBUG: findfont: score(FontEntry(fname='/System/Library/Fonts/Supplemental/Trebuchet MS.ttf', name='Trebuchet MS', style='normal', variant='normal', weight=400, stretch='normal', size='scalable')) = 10.05\n",
      "2023-12-27 10:06:48,432: DEBUG: findfont: score(FontEntry(fname='/System/Library/Fonts/Supplemental/NotoSansTifinagh-Regular.ttf', name='Noto Sans Tifinagh', style='normal', variant='normal', weight=400, stretch='normal', size='scalable')) = 10.05\n",
      "2023-12-27 10:06:48,432: DEBUG: findfont: score(FontEntry(fname='/System/Library/Fonts/Supplemental/STIXSizThreeSymReg.otf', name='STIXSizeThreeSym', style='normal', variant='normal', weight=400, stretch='normal', size='scalable')) = 10.05\n",
      "2023-12-27 10:06:48,433: DEBUG: findfont: score(FontEntry(fname='/System/Library/Fonts/SFNSMono.ttf', name='.SF NS Mono', style='normal', variant='normal', weight=295, stretch='normal', size='scalable')) = 10.14975\n",
      "2023-12-27 10:06:48,433: DEBUG: findfont: score(FontEntry(fname='/System/Library/Fonts/Supplemental/STIXNonUni.otf', name='STIXNonUnicode', style='normal', variant='normal', weight=400, stretch='normal', size='scalable')) = 10.05\n",
      "2023-12-27 10:06:48,433: DEBUG: findfont: score(FontEntry(fname='/System/Library/Fonts/ヒラギノ明朝 ProN.ttc', name='Hiragino Mincho ProN', style='normal', variant='normal', weight=300, stretch='normal', size='scalable')) = 10.145\n",
      "2023-12-27 10:06:48,433: DEBUG: findfont: score(FontEntry(fname='/System/Library/Fonts/Supplemental/Kailasa.ttc', name='Kailasa', style='normal', variant='normal', weight=400, stretch='normal', size='scalable')) = 10.05\n",
      "2023-12-27 10:06:48,434: DEBUG: findfont: score(FontEntry(fname='/System/Library/Fonts/ZapfDingbats.ttf', name='Zapf Dingbats', style='normal', variant='normal', weight=400, stretch='normal', size='scalable')) = 10.05\n",
      "2023-12-27 10:06:48,434: DEBUG: findfont: score(FontEntry(fname='/System/Library/Fonts/Supplemental/Al Nile.ttc', name='Al Nile', style='normal', variant='normal', weight=400, stretch='normal', size='scalable')) = 10.05\n",
      "2023-12-27 10:06:48,434: DEBUG: findfont: score(FontEntry(fname='/System/Library/Fonts/ヒラギノ角ゴシック W7.ttc', name='Hiragino Sans', style='normal', variant='normal', weight=700, stretch='normal', size='scalable')) = 10.335\n",
      "2023-12-27 10:06:48,435: DEBUG: findfont: score(FontEntry(fname='/System/Library/Fonts/NotoSansKannada.ttc', name='Noto Sans Kannada', style='normal', variant='normal', weight=900, stretch='normal', size='scalable')) = 10.525\n",
      "2023-12-27 10:06:48,435: DEBUG: findfont: score(FontEntry(fname='/System/Library/Fonts/Supplemental/NotoSansMeroitic-Regular.ttf', name='Noto Sans Meroitic', style='normal', variant='normal', weight=400, stretch='normal', size='scalable')) = 10.05\n",
      "2023-12-27 10:06:48,435: DEBUG: findfont: score(FontEntry(fname='/System/Library/Fonts/Supplemental/Lao MN.ttc', name='Lao MN', style='normal', variant='normal', weight=400, stretch='normal', size='scalable')) = 10.05\n",
      "2023-12-27 10:06:48,435: DEBUG: findfont: score(FontEntry(fname='/System/Library/Fonts/Supplemental/NotoSansWancho-Regular.ttf', name='Noto Sans Wancho', style='normal', variant='normal', weight=400, stretch='normal', size='scalable')) = 10.05\n",
      "2023-12-27 10:06:48,436: DEBUG: findfont: score(FontEntry(fname='/System/Library/Fonts/SFCompact.ttf', name='.SF Compact', style='normal', variant='normal', weight=1000, stretch='normal', size='scalable')) = 10.62\n",
      "2023-12-27 10:06:48,436: DEBUG: findfont: score(FontEntry(fname='/System/Library/Fonts/Supplemental/Trebuchet MS Italic.ttf', name='Trebuchet MS', style='italic', variant='normal', weight=400, stretch='normal', size='scalable')) = 11.05\n",
      "2023-12-27 10:06:48,436: DEBUG: findfont: score(FontEntry(fname='/System/Library/Fonts/Supplemental/NotoSansMultani-Regular.ttf', name='Noto Sans Multani', style='normal', variant='normal', weight=400, stretch='normal', size='scalable')) = 10.05\n",
      "2023-12-27 10:06:48,436: DEBUG: findfont: score(FontEntry(fname='/System/Library/Fonts/Supplemental/NotoSansPalmyrene-Regular.ttf', name='Noto Sans Palmyrene', style='normal', variant='normal', weight=400, stretch='normal', size='scalable')) = 10.05\n",
      "2023-12-27 10:06:48,436: DEBUG: findfont: score(FontEntry(fname='/System/Library/Fonts/Supplemental/STIXNonUniBol.otf', name='STIXNonUnicode', style='normal', variant='normal', weight=700, stretch='normal', size='scalable')) = 10.335\n",
      "2023-12-27 10:06:48,436: DEBUG: findfont: score(FontEntry(fname='/System/Library/Fonts/Supplemental/PTSans.ttc', name='PT Sans', style='normal', variant='normal', weight=400, stretch='normal', size='scalable')) = 10.05\n",
      "2023-12-27 10:06:48,437: DEBUG: findfont: score(FontEntry(fname='/System/Library/Fonts/Supplemental/STIXSizFiveSymReg.otf', name='STIXSizeFiveSym', style='normal', variant='normal', weight=400, stretch='normal', size='scalable')) = 10.05\n",
      "2023-12-27 10:06:48,437: DEBUG: findfont: score(FontEntry(fname='/System/Library/Fonts/Supplemental/NotoSansOldItalic-Regular.ttf', name='Noto Sans Old Italic', style='italic', variant='normal', weight=400, stretch='normal', size='scalable')) = 11.05\n",
      "2023-12-27 10:06:48,437: DEBUG: findfont: score(FontEntry(fname='/System/Library/Fonts/Supplemental/Impact.ttf', name='Impact', style='normal', variant='normal', weight=400, stretch='normal', size='scalable')) = 10.05\n",
      "2023-12-27 10:06:48,437: DEBUG: findfont: score(FontEntry(fname='/System/Library/Fonts/Palatino.ttc', name='Palatino', style='normal', variant='normal', weight=400, stretch='normal', size='scalable')) = 10.05\n",
      "2023-12-27 10:06:48,438: DEBUG: findfont: score(FontEntry(fname='/System/Library/Fonts/Supplemental/NotoSansJavanese-Regular.otf', name='Noto Sans Javanese', style='normal', variant='normal', weight=400, stretch='normal', size='scalable')) = 10.05\n",
      "2023-12-27 10:06:48,439: DEBUG: findfont: score(FontEntry(fname='/System/Library/Fonts/Supplemental/Sathu.ttf', name='Sathu', style='normal', variant='normal', weight=400, stretch='normal', size='scalable')) = 10.05\n",
      "2023-12-27 10:06:48,439: DEBUG: findfont: score(FontEntry(fname='/System/Library/Fonts/Supplemental/NotoSansCanadianAboriginal-Regular.otf', name='Noto Sans Canadian Aboriginal', style='normal', variant='normal', weight=400, stretch='normal', size='scalable')) = 10.05\n",
      "2023-12-27 10:06:48,439: DEBUG: findfont: score(FontEntry(fname='/System/Library/Fonts/Supplemental/Chalkboard.ttc', name='Chalkboard', style='normal', variant='normal', weight=400, stretch='normal', size='scalable')) = 10.05\n",
      "2023-12-27 10:06:48,440: DEBUG: findfont: score(FontEntry(fname='/System/Library/Fonts/Supplemental/NotoSansMeeteiMayek-Regular.ttf', name='Noto Sans Meetei Mayek', style='normal', variant='normal', weight=400, stretch='normal', size='scalable')) = 10.05\n",
      "2023-12-27 10:06:48,440: DEBUG: findfont: score(FontEntry(fname='/System/Library/Fonts/Supplemental/Courier New.ttf', name='Courier New', style='normal', variant='normal', weight=400, stretch='normal', size='scalable')) = 10.05\n",
      "2023-12-27 10:06:48,440: DEBUG: findfont: score(FontEntry(fname='/System/Library/Fonts/Supplemental/Herculanum.ttf', name='Herculanum', style='normal', variant='normal', weight=400, stretch='normal', size='scalable')) = 10.05\n",
      "2023-12-27 10:06:48,441: DEBUG: findfont: score(FontEntry(fname='/System/Library/Fonts/Supplemental/Georgia Italic.ttf', name='Georgia', style='italic', variant='normal', weight=400, stretch='normal', size='scalable')) = 11.05\n",
      "2023-12-27 10:06:48,441: DEBUG: findfont: score(FontEntry(fname='/System/Library/Fonts/Supplemental/NotoSansHanifiRohingya-Regular.ttf', name='Noto Sans Hanifi Rohingya', style='normal', variant='normal', weight=400, stretch='normal', size='scalable')) = 10.05\n",
      "2023-12-27 10:06:48,441: DEBUG: findfont: score(FontEntry(fname='/System/Library/Fonts/Supplemental/Arial Bold Italic.ttf', name='Arial', style='italic', variant='normal', weight=700, stretch='normal', size='scalable')) = 7.698636363636363\n",
      "2023-12-27 10:06:48,442: DEBUG: findfont: score(FontEntry(fname='/System/Library/Fonts/ヒラギノ角ゴシック W9.ttc', name='Hiragino Sans', style='normal', variant='normal', weight=900, stretch='normal', size='scalable')) = 10.525\n",
      "2023-12-27 10:06:48,442: DEBUG: findfont: score(FontEntry(fname='/System/Library/Fonts/Supplemental/NotoSansWarangCiti-Regular.ttf', name='Noto Sans Warang Citi', style='normal', variant='normal', weight=400, stretch='normal', size='scalable')) = 10.05\n",
      "2023-12-27 10:06:48,442: DEBUG: findfont: Matching sans\\-serif:style=normal:variant=normal:weight=normal:stretch=normal:size=10.0 to DejaVu Sans ('/Users/mauroluzzatto/.pyenv/versions/3.8.16/envs/explainy_env/lib/python3.8/site-packages/matplotlib/mpl-data/fonts/ttf/DejaVuSans.ttf') with score of 0.050000.\n"
     ]
    },
    {
     "name": "stdout",
     "output_type": "stream",
     "text": [
      "The RandomForestRegressor used 10 features to produce the predictions. The prediction of this sample was 251.6.\n",
      "The feature importance was calculated using the Permutation Feature Importance method.\n",
      "The four features which were most important for the predictions were: 'bmi' (0.15), 's5' (0.12), 'bp' (0.04), and 'age' (0.02).\n"
     ]
    },
    {
     "data": {
      "image/png": "[encoded data removed]",
      "text/plain": [
       "<Figure size 432x144 with 1 Axes>"
      ]
     },
     "metadata": {
      "needs_background": "light"
     },
     "output_type": "display_data"
    }
   ],
   "source": [
    "from explainy.explanations import PermutationExplanation\n",
    "\n",
    "number_of_features = 4\n",
    "sample_index = 1\n",
    "\n",
    "explainer = PermutationExplanation(\n",
    "    X_test, y_test, model, number_of_features\n",
    ")\n",
    "explanation = explainer.explain(sample_index)\n",
    "print(explanation)\n",
    "explainer.plot(kind='bar')"
   ]
  },
  {
   "cell_type": "code",
   "execution_count": 6,
   "metadata": {},
   "outputs": [
    {
     "data": {
      "image/png": "[encoded data removed]",
      "text/plain": [
       "<Figure size 432x144 with 1 Axes>"
      ]
     },
     "metadata": {
      "needs_background": "light"
     },
     "output_type": "display_data"
    }
   ],
   "source": [
    "explainer.plot(kind='box')"
   ]
  },
  {
   "attachments": {},
   "cell_type": "markdown",
   "metadata": {},
   "source": [
    "Generate explanations with multiple numbers of features to explain the outcoume.\n",
    "Since the `PermuationExplanation` method is a global explaination method, all samples will have the same feature importance explanation."
   ]
  },
  {
   "cell_type": "code",
   "execution_count": 7,
   "metadata": {},
   "outputs": [
    {
     "data": {
      "image/png": "[encoded data removed]",
      "text/plain": [
       "<Figure size 432x144 with 1 Axes>"
      ]
     },
     "metadata": {
      "needs_background": "light"
     },
     "output_type": "display_data"
    },
    {
     "name": "stdout",
     "output_type": "stream",
     "text": [
      "The RandomForestRegressor used 10 features to produce the predictions. The prediction of this sample was 250.6.\n",
      "The feature importance was calculated using the Permutation Feature Importance method.\n",
      "The three features which were most important for the predictions were: 'bmi' (0.15), 's5' (0.12), and 'bp' (0.04).\n",
      "------------------------------\n"
     ]
    },
    {
     "data": {
      "image/png": "[encoded data removed]",
      "text/plain": [
       "<Figure size 432x216 with 1 Axes>"
      ]
     },
     "metadata": {
      "needs_background": "light"
     },
     "output_type": "display_data"
    },
    {
     "name": "stdout",
     "output_type": "stream",
     "text": [
      "The RandomForestRegressor used 10 features to produce the predictions. The prediction of this sample was 250.6.\n",
      "The feature importance was calculated using the Permutation Feature Importance method.\n",
      "The six features which were most important for the predictions were: 'bmi' (0.15), 's5' (0.12), 'bp' (0.04), 'age' (0.02), 's2' (-0.00), and 'sex' (-0.00).\n",
      "------------------------------\n"
     ]
    },
    {
     "data": {
      "image/png": "[encoded data removed]",
      "text/plain": [
       "<Figure size 432x288 with 1 Axes>"
      ]
     },
     "metadata": {
      "needs_background": "light"
     },
     "output_type": "display_data"
    },
    {
     "name": "stdout",
     "output_type": "stream",
     "text": [
      "The RandomForestRegressor used 10 features to produce the predictions. The prediction of this sample was 250.6.\n",
      "The feature importance was calculated using the Permutation Feature Importance method.\n",
      "The nine features which were most important for the predictions were: 'bmi' (0.15), 's5' (0.12), 'bp' (0.04), 'age' (0.02), 's2' (-0.00), 'sex' (-0.00), 's3' (-0.00), 's1' (-0.01), and 's6' (-0.01).\n",
      "------------------------------\n"
     ]
    }
   ],
   "source": [
    "# Global, Non-contrastive\n",
    "sample_index = 0\n",
    "for number_of_features in [3, 6, 9]:\n",
    "    explainer = PermutationExplanation(\n",
    "        X_test, y_test, model, number_of_features\n",
    "    )\n",
    "    explanation = explainer.explain(sample_index)\n",
    "    explainer.plot(kind='box')\n",
    "    print(explanation)\n",
    "    print('---'*10)"
   ]
  },
  {
   "attachments": {},
   "cell_type": "markdown",
   "metadata": {},
   "source": [
    "Let's use the `ShapExplanation` to create local explantions for each sample individually."
   ]
  },
  {
   "cell_type": "code",
   "execution_count": 8,
   "metadata": {},
   "outputs": [
    {
     "name": "stderr",
     "output_type": "stream",
     "text": [
      "2023-12-27 10:06:51,930: DEBUG: The expected_value was: [152.11347432]\n",
      "2023-12-27 10:06:51,931: DEBUG: The y_value was: 321.0\n",
      "2023-12-27 10:06:51,931: DEBUG: The predicted value was: 250.61\n"
     ]
    },
    {
     "data": {
      "image/png": "[encoded data removed]",
      "text/plain": [
       "<Figure size 432x144 with 1 Axes>"
      ]
     },
     "metadata": {
      "needs_background": "light"
     },
     "output_type": "display_data"
    },
    {
     "name": "stdout",
     "output_type": "stream",
     "text": [
      "The RandomForestRegressor used 10 features to produce the predictions. The prediction of this sample was 250.6.\n",
      "The feature importance was calculated using the SHAP method.\n",
      "The four features which contributed most to the prediction of this particular sample were: 'bmi' (76.30), 'bp' (22.85), 's5' (-5.94), and 's3' (4.48).\n",
      "------------------------------\n"
     ]
    },
    {
     "name": "stderr",
     "output_type": "stream",
     "text": [
      "2023-12-27 10:06:52,234: DEBUG: The expected_value was: [152.11347432]\n",
      "2023-12-27 10:06:52,235: DEBUG: The y_value was: 215.0\n",
      "2023-12-27 10:06:52,235: DEBUG: The predicted value was: 251.57\n"
     ]
    },
    {
     "data": {
      "image/png": "[encoded data removed]",
      "text/plain": [
       "<Figure size 432x144 with 1 Axes>"
      ]
     },
     "metadata": {
      "needs_background": "light"
     },
     "output_type": "display_data"
    },
    {
     "name": "stdout",
     "output_type": "stream",
     "text": [
      "The RandomForestRegressor used 10 features to produce the predictions. The prediction of this sample was 251.6.\n",
      "The feature importance was calculated using the SHAP method.\n",
      "The four features which contributed most to the prediction of this particular sample were: 'bmi' (49.60), 's5' (41.64), 'bp' (9.31), and 's6' (-4.04).\n",
      "------------------------------\n"
     ]
    },
    {
     "name": "stderr",
     "output_type": "stream",
     "text": [
      "2023-12-27 10:06:52,538: DEBUG: The expected_value was: [152.11347432]\n",
      "2023-12-27 10:06:52,538: DEBUG: The y_value was: 127.0\n",
      "2023-12-27 10:06:52,539: DEBUG: The predicted value was: 169.22\n"
     ]
    },
    {
     "data": {
      "image/png": "[encoded data removed]",
      "text/plain": [
       "<Figure size 432x144 with 1 Axes>"
      ]
     },
     "metadata": {
      "needs_background": "light"
     },
     "output_type": "display_data"
    },
    {
     "name": "stdout",
     "output_type": "stream",
     "text": [
      "The RandomForestRegressor used 10 features to produce the predictions. The prediction of this sample was 169.2.\n",
      "The feature importance was calculated using the SHAP method.\n",
      "The four features which contributed most to the prediction of this particular sample were: 'bmi' (22.48), 's5' (-11.53), 'bp' (9.70), and 's6' (-7.94).\n",
      "------------------------------\n"
     ]
    }
   ],
   "source": [
    "from explainy.explanations import ShapExplanation\n",
    "\n",
    "# Local, Non-contrastive\n",
    "number_of_features = 4\n",
    "for sample_index in [0, 1, 2]:\n",
    "\n",
    "    explainer = ShapExplanation(\n",
    "        X_test, y_test, model, number_of_features\n",
    "    )\n",
    "    explanation = explainer.explain(sample_index)\n",
    "    explainer.plot(sample_index)\n",
    "    print(explanation)\n",
    "    print('---'*10)"
   ]
  },
  {
   "attachments": {},
   "cell_type": "markdown",
   "metadata": {},
   "source": [
    "Let's use the `SurrogateModelExplanation` to create global explantions."
   ]
  },
  {
   "cell_type": "code",
   "execution_count": 9,
   "metadata": {},
   "outputs": [
    {
     "name": "stderr",
     "output_type": "stream",
     "text": [
      "2023-12-27 10:06:52,603: INFO: Surrogate Model score: 0.53\n",
      "2023-12-27 10:06:52,608: DEBUG: run ['dot', '-Kdot', '-Tsvg']\n"
     ]
    },
    {
     "data": {
      "image/svg+xml": [
       "<?xml version=\"1.0\" encoding=\"UTF-8\" standalone=\"no\"?>\n",
       "<!DOCTYPE svg PUBLIC \"-//W3C//DTD SVG 1.1//EN\"\n",
       " \"http://www.w3.org/Graphics/SVG/1.1/DTD/svg11.dtd\">\n",
       "<!-- Generated by graphviz version 9.0.0 (20230911.1827)\n",
       " -->\n",
       "<!-- Title: Tree Pages: 1 -->\n",
       "<svg width=\"230pt\" height=\"135pt\"\n",
       " viewBox=\"0.00 0.00 229.50 135.00\" xmlns=\"http://www.w3.org/2000/svg\" xmlns:xlink=\"http://www.w3.org/1999/xlink\">\n",
       "<g id=\"graph0\" class=\"graph\" transform=\"scale(1 1) rotate(0) translate(4 131)\">\n",
       "<title>Tree</title>\n",
       "<polygon fill=\"white\" stroke=\"none\" points=\"-4,4 -4,-131 225.5,-131 225.5,4 -4,4\"/>\n",
       "<!-- 0 -->\n",
       "<g id=\"node1\" class=\"node\">\n",
       "<title>0</title>\n",
       "<path fill=\"none\" stroke=\"black\" d=\"M149.5,-127C149.5,-127 68.25,-127 68.25,-127 62.25,-127 56.25,-121 56.25,-115 56.25,-115 56.25,-86 56.25,-86 56.25,-80 62.25,-74 68.25,-74 68.25,-74 149.5,-74 149.5,-74 155.5,-74 161.5,-80 161.5,-86 161.5,-86 161.5,-115 161.5,-115 161.5,-121 155.5,-127 149.5,-127\"/>\n",
       "<text text-anchor=\"middle\" x=\"108.88\" y=\"-109.7\" font-family=\"Helvetica,sans-Serif\" font-size=\"14.00\">s5 &lt;= 0.03</text>\n",
       "<text text-anchor=\"middle\" x=\"108.88\" y=\"-94.7\" font-family=\"Helvetica,sans-Serif\" font-size=\"14.00\">samples = 111</text>\n",
       "<text text-anchor=\"middle\" x=\"108.88\" y=\"-79.7\" font-family=\"Helvetica,sans-Serif\" font-size=\"14.00\">value = 158.36</text>\n",
       "</g>\n",
       "<!-- 1 -->\n",
       "<g id=\"node2\" class=\"node\">\n",
       "<title>1</title>\n",
       "<path fill=\"none\" stroke=\"black\" d=\"M85.75,-38C85.75,-38 12,-38 12,-38 6,-38 0,-32 0,-26 0,-26 0,-12 0,-12 0,-6 6,0 12,0 12,0 85.75,0 85.75,0 91.75,0 97.75,-6 97.75,-12 97.75,-12 97.75,-26 97.75,-26 97.75,-32 91.75,-38 85.75,-38\"/>\n",
       "<text text-anchor=\"middle\" x=\"48.88\" y=\"-20.7\" font-family=\"Helvetica,sans-Serif\" font-size=\"14.00\">samples = 72</text>\n",
       "<text text-anchor=\"middle\" x=\"48.88\" y=\"-5.7\" font-family=\"Helvetica,sans-Serif\" font-size=\"14.00\">value = 127.7</text>\n",
       "</g>\n",
       "<!-- 0&#45;&gt;1 -->\n",
       "<g id=\"edge1\" class=\"edge\">\n",
       "<title>0&#45;&gt;1</title>\n",
       "<path fill=\"none\" stroke=\"black\" d=\"M89.56,-73.91C83.24,-65.53 76.19,-56.19 69.76,-47.67\"/>\n",
       "<polygon fill=\"black\" stroke=\"black\" points=\"72.56,-45.57 63.74,-39.7 66.97,-49.79 72.56,-45.57\"/>\n",
       "<text text-anchor=\"middle\" x=\"59.37\" y=\"-57.45\" font-family=\"Helvetica,sans-Serif\" font-size=\"14.00\">True</text>\n",
       "</g>\n",
       "<!-- 2 -->\n",
       "<g id=\"node3\" class=\"node\">\n",
       "<title>2</title>\n",
       "<path fill=\"none\" stroke=\"black\" d=\"M209.5,-38C209.5,-38 128.25,-38 128.25,-38 122.25,-38 116.25,-32 116.25,-26 116.25,-26 116.25,-12 116.25,-12 116.25,-6 122.25,0 128.25,0 128.25,0 209.5,0 209.5,0 215.5,0 221.5,-6 221.5,-12 221.5,-12 221.5,-26 221.5,-26 221.5,-32 215.5,-38 209.5,-38\"/>\n",
       "<text text-anchor=\"middle\" x=\"168.88\" y=\"-20.7\" font-family=\"Helvetica,sans-Serif\" font-size=\"14.00\">samples = 39</text>\n",
       "<text text-anchor=\"middle\" x=\"168.88\" y=\"-5.7\" font-family=\"Helvetica,sans-Serif\" font-size=\"14.00\">value = 214.95</text>\n",
       "</g>\n",
       "<!-- 0&#45;&gt;2 -->\n",
       "<g id=\"edge2\" class=\"edge\">\n",
       "<title>0&#45;&gt;2</title>\n",
       "<path fill=\"none\" stroke=\"black\" d=\"M128.19,-73.91C134.51,-65.53 141.56,-56.19 147.99,-47.67\"/>\n",
       "<polygon fill=\"black\" stroke=\"black\" points=\"150.78,-49.79 154.01,-39.7 145.19,-45.57 150.78,-49.79\"/>\n",
       "<text text-anchor=\"middle\" x=\"158.38\" y=\"-57.45\" font-family=\"Helvetica,sans-Serif\" font-size=\"14.00\">False</text>\n",
       "</g>\n",
       "</g>\n",
       "</svg>\n"
      ],
      "text/plain": [
       "<graphviz.files.Source at 0x176a79610>"
      ]
     },
     "metadata": {},
     "output_type": "display_data"
    },
    {
     "name": "stderr",
     "output_type": "stream",
     "text": [
      "2023-12-27 10:06:52,802: INFO: Surrogate Model score: 0.78\n",
      "2023-12-27 10:06:52,808: DEBUG: run ['dot', '-Kdot', '-Tsvg']\n"
     ]
    },
    {
     "name": "stdout",
     "output_type": "stream",
     "text": [
      "The RandomForestRegressor used 10 features to produce the predictions. The prediction of this sample was 250.6.\n",
      "The feature importance was calculated using a DecisionTreeRegressor surrogate model. Two tree nodes are shown.\n",
      "The following thresholds were important for the predictions: \n",
      "The sample has a value of 127.70 if 's5' was less or equal than 0.03. \n",
      "The sample has a value of 214.95 if 's5' was greater than 0.03.\n",
      "------------------------------\n"
     ]
    },
    {
     "data": {
      "image/svg+xml": [
       "<?xml version=\"1.0\" encoding=\"UTF-8\" standalone=\"no\"?>\n",
       "<!DOCTYPE svg PUBLIC \"-//W3C//DTD SVG 1.1//EN\"\n",
       " \"http://www.w3.org/Graphics/SVG/1.1/DTD/svg11.dtd\">\n",
       "<!-- Generated by graphviz version 9.0.0 (20230911.1827)\n",
       " -->\n",
       "<!-- Title: Tree Pages: 1 -->\n",
       "<svg width=\"476pt\" height=\"224pt\"\n",
       " viewBox=\"0.00 0.00 475.50 224.00\" xmlns=\"http://www.w3.org/2000/svg\" xmlns:xlink=\"http://www.w3.org/1999/xlink\">\n",
       "<g id=\"graph0\" class=\"graph\" transform=\"scale(1 1) rotate(0) translate(4 220)\">\n",
       "<title>Tree</title>\n",
       "<polygon fill=\"white\" stroke=\"none\" points=\"-4,4 -4,-220 471.5,-220 471.5,4 -4,4\"/>\n",
       "<!-- 0 -->\n",
       "<g id=\"node1\" class=\"node\">\n",
       "<title>0</title>\n",
       "<path fill=\"none\" stroke=\"black\" d=\"M270.5,-216C270.5,-216 189.25,-216 189.25,-216 183.25,-216 177.25,-210 177.25,-204 177.25,-204 177.25,-175 177.25,-175 177.25,-169 183.25,-163 189.25,-163 189.25,-163 270.5,-163 270.5,-163 276.5,-163 282.5,-169 282.5,-175 282.5,-175 282.5,-204 282.5,-204 282.5,-210 276.5,-216 270.5,-216\"/>\n",
       "<text text-anchor=\"middle\" x=\"229.88\" y=\"-198.7\" font-family=\"Helvetica,sans-Serif\" font-size=\"14.00\">s5 &lt;= 0.03</text>\n",
       "<text text-anchor=\"middle\" x=\"229.88\" y=\"-183.7\" font-family=\"Helvetica,sans-Serif\" font-size=\"14.00\">samples = 111</text>\n",
       "<text text-anchor=\"middle\" x=\"229.88\" y=\"-168.7\" font-family=\"Helvetica,sans-Serif\" font-size=\"14.00\">value = 158.36</text>\n",
       "</g>\n",
       "<!-- 1 -->\n",
       "<g id=\"node2\" class=\"node\">\n",
       "<title>1</title>\n",
       "<path fill=\"none\" stroke=\"black\" d=\"M205.75,-127C205.75,-127 132,-127 132,-127 126,-127 120,-121 120,-115 120,-115 120,-86 120,-86 120,-80 126,-74 132,-74 132,-74 205.75,-74 205.75,-74 211.75,-74 217.75,-80 217.75,-86 217.75,-86 217.75,-115 217.75,-115 217.75,-121 211.75,-127 205.75,-127\"/>\n",
       "<text text-anchor=\"middle\" x=\"168.88\" y=\"-109.7\" font-family=\"Helvetica,sans-Serif\" font-size=\"14.00\">bmi &lt;= 0.01</text>\n",
       "<text text-anchor=\"middle\" x=\"168.88\" y=\"-94.7\" font-family=\"Helvetica,sans-Serif\" font-size=\"14.00\">samples = 72</text>\n",
       "<text text-anchor=\"middle\" x=\"168.88\" y=\"-79.7\" font-family=\"Helvetica,sans-Serif\" font-size=\"14.00\">value = 127.7</text>\n",
       "</g>\n",
       "<!-- 0&#45;&gt;1 -->\n",
       "<g id=\"edge1\" class=\"edge\">\n",
       "<title>0&#45;&gt;1</title>\n",
       "<path fill=\"none\" stroke=\"black\" d=\"M211.9,-162.87C206.12,-154.62 199.61,-145.34 193.44,-136.54\"/>\n",
       "<polygon fill=\"black\" stroke=\"black\" points=\"196.41,-134.67 187.8,-128.49 190.67,-138.69 196.41,-134.67\"/>\n",
       "<text text-anchor=\"middle\" x=\"182.6\" y=\"-146.07\" font-family=\"Helvetica,sans-Serif\" font-size=\"14.00\">True</text>\n",
       "</g>\n",
       "<!-- 4 -->\n",
       "<g id=\"node5\" class=\"node\">\n",
       "<title>4</title>\n",
       "<path fill=\"none\" stroke=\"black\" d=\"M332.5,-127C332.5,-127 251.25,-127 251.25,-127 245.25,-127 239.25,-121 239.25,-115 239.25,-115 239.25,-86 239.25,-86 239.25,-80 245.25,-74 251.25,-74 251.25,-74 332.5,-74 332.5,-74 338.5,-74 344.5,-80 344.5,-86 344.5,-86 344.5,-115 344.5,-115 344.5,-121 338.5,-127 332.5,-127\"/>\n",
       "<text text-anchor=\"middle\" x=\"291.88\" y=\"-109.7\" font-family=\"Helvetica,sans-Serif\" font-size=\"14.00\">bmi &lt;= 0.01</text>\n",
       "<text text-anchor=\"middle\" x=\"291.88\" y=\"-94.7\" font-family=\"Helvetica,sans-Serif\" font-size=\"14.00\">samples = 39</text>\n",
       "<text text-anchor=\"middle\" x=\"291.88\" y=\"-79.7\" font-family=\"Helvetica,sans-Serif\" font-size=\"14.00\">value = 214.95</text>\n",
       "</g>\n",
       "<!-- 0&#45;&gt;4 -->\n",
       "<g id=\"edge4\" class=\"edge\">\n",
       "<title>0&#45;&gt;4</title>\n",
       "<path fill=\"none\" stroke=\"black\" d=\"M248.14,-162.87C254.02,-154.62 260.63,-145.34 266.9,-136.54\"/>\n",
       "<polygon fill=\"black\" stroke=\"black\" points=\"269.69,-138.66 272.65,-128.48 263.99,-134.59 269.69,-138.66\"/>\n",
       "<text text-anchor=\"middle\" x=\"277.66\" y=\"-146.11\" font-family=\"Helvetica,sans-Serif\" font-size=\"14.00\">False</text>\n",
       "</g>\n",
       "<!-- 2 -->\n",
       "<g id=\"node3\" class=\"node\">\n",
       "<title>2</title>\n",
       "<path fill=\"none\" stroke=\"black\" d=\"M85.75,-38C85.75,-38 12,-38 12,-38 6,-38 0,-32 0,-26 0,-26 0,-12 0,-12 0,-6 6,0 12,0 12,0 85.75,0 85.75,0 91.75,0 97.75,-6 97.75,-12 97.75,-12 97.75,-26 97.75,-26 97.75,-32 91.75,-38 85.75,-38\"/>\n",
       "<text text-anchor=\"middle\" x=\"48.88\" y=\"-20.7\" font-family=\"Helvetica,sans-Serif\" font-size=\"14.00\">samples = 49</text>\n",
       "<text text-anchor=\"middle\" x=\"48.88\" y=\"-5.7\" font-family=\"Helvetica,sans-Serif\" font-size=\"14.00\">value = 109.8</text>\n",
       "</g>\n",
       "<!-- 1&#45;&gt;2 -->\n",
       "<g id=\"edge2\" class=\"edge\">\n",
       "<title>1&#45;&gt;2</title>\n",
       "<path fill=\"none\" stroke=\"black\" d=\"M129.91,-73.69C115.79,-64.33 99.89,-53.8 85.93,-44.55\"/>\n",
       "<polygon fill=\"black\" stroke=\"black\" points=\"88.16,-41.83 77.89,-39.22 84.29,-47.66 88.16,-41.83\"/>\n",
       "</g>\n",
       "<!-- 3 -->\n",
       "<g id=\"node4\" class=\"node\">\n",
       "<title>3</title>\n",
       "<path fill=\"none\" stroke=\"black\" d=\"M209.5,-38C209.5,-38 128.25,-38 128.25,-38 122.25,-38 116.25,-32 116.25,-26 116.25,-26 116.25,-12 116.25,-12 116.25,-6 122.25,0 128.25,0 128.25,0 209.5,0 209.5,0 215.5,0 221.5,-6 221.5,-12 221.5,-12 221.5,-26 221.5,-26 221.5,-32 215.5,-38 209.5,-38\"/>\n",
       "<text text-anchor=\"middle\" x=\"168.88\" y=\"-20.7\" font-family=\"Helvetica,sans-Serif\" font-size=\"14.00\">samples = 23</text>\n",
       "<text text-anchor=\"middle\" x=\"168.88\" y=\"-5.7\" font-family=\"Helvetica,sans-Serif\" font-size=\"14.00\">value = 165.84</text>\n",
       "</g>\n",
       "<!-- 1&#45;&gt;3 -->\n",
       "<g id=\"edge3\" class=\"edge\">\n",
       "<title>1&#45;&gt;3</title>\n",
       "<path fill=\"none\" stroke=\"black\" d=\"M168.88,-73.91C168.88,-66.25 168.88,-57.79 168.88,-49.88\"/>\n",
       "<polygon fill=\"black\" stroke=\"black\" points=\"172.38,-50 168.88,-40 165.38,-50 172.38,-50\"/>\n",
       "</g>\n",
       "<!-- 5 -->\n",
       "<g id=\"node6\" class=\"node\">\n",
       "<title>5</title>\n",
       "<path fill=\"none\" stroke=\"black\" d=\"M332.5,-38C332.5,-38 251.25,-38 251.25,-38 245.25,-38 239.25,-32 239.25,-26 239.25,-26 239.25,-12 239.25,-12 239.25,-6 245.25,0 251.25,0 251.25,0 332.5,0 332.5,0 338.5,0 344.5,-6 344.5,-12 344.5,-12 344.5,-26 344.5,-26 344.5,-32 338.5,-38 332.5,-38\"/>\n",
       "<text text-anchor=\"middle\" x=\"291.88\" y=\"-20.7\" font-family=\"Helvetica,sans-Serif\" font-size=\"14.00\">samples = 14</text>\n",
       "<text text-anchor=\"middle\" x=\"291.88\" y=\"-5.7\" font-family=\"Helvetica,sans-Serif\" font-size=\"14.00\">value = 171.55</text>\n",
       "</g>\n",
       "<!-- 4&#45;&gt;5 -->\n",
       "<g id=\"edge5\" class=\"edge\">\n",
       "<title>4&#45;&gt;5</title>\n",
       "<path fill=\"none\" stroke=\"black\" d=\"M291.88,-73.91C291.88,-66.25 291.88,-57.79 291.88,-49.88\"/>\n",
       "<polygon fill=\"black\" stroke=\"black\" points=\"295.38,-50 291.88,-40 288.38,-50 295.38,-50\"/>\n",
       "</g>\n",
       "<!-- 6 -->\n",
       "<g id=\"node7\" class=\"node\">\n",
       "<title>6</title>\n",
       "<path fill=\"none\" stroke=\"black\" d=\"M455.5,-38C455.5,-38 374.25,-38 374.25,-38 368.25,-38 362.25,-32 362.25,-26 362.25,-26 362.25,-12 362.25,-12 362.25,-6 368.25,0 374.25,0 374.25,0 455.5,0 455.5,0 461.5,0 467.5,-6 467.5,-12 467.5,-12 467.5,-26 467.5,-26 467.5,-32 461.5,-38 455.5,-38\"/>\n",
       "<text text-anchor=\"middle\" x=\"414.88\" y=\"-20.7\" font-family=\"Helvetica,sans-Serif\" font-size=\"14.00\">samples = 25</text>\n",
       "<text text-anchor=\"middle\" x=\"414.88\" y=\"-5.7\" font-family=\"Helvetica,sans-Serif\" font-size=\"14.00\">value = 239.26</text>\n",
       "</g>\n",
       "<!-- 4&#45;&gt;6 -->\n",
       "<g id=\"edge6\" class=\"edge\">\n",
       "<title>4&#45;&gt;6</title>\n",
       "<path fill=\"none\" stroke=\"black\" d=\"M331.81,-73.69C346.29,-64.33 362.59,-53.8 376.89,-44.55\"/>\n",
       "<polygon fill=\"black\" stroke=\"black\" points=\"378.66,-47.58 385.16,-39.21 374.86,-41.7 378.66,-47.58\"/>\n",
       "</g>\n",
       "</g>\n",
       "</svg>\n"
      ],
      "text/plain": [
       "<graphviz.files.Source at 0x1774a8850>"
      ]
     },
     "metadata": {},
     "output_type": "display_data"
    },
    {
     "name": "stdout",
     "output_type": "stream",
     "text": [
      "The RandomForestRegressor used 10 features to produce the predictions. The prediction of this sample was 250.6.\n",
      "The feature importance was calculated using a DecisionTreeRegressor surrogate model. Four tree nodes are shown.\n",
      "The following thresholds were important for the predictions: \n",
      "The sample has a value of 109.80 if 's5' was less or equal than 0.03, and 'bmi' was less or equal than 0.01. \n",
      "The sample has a value of 165.84 if 's5' was less or equal than 0.03, and 'bmi' was greater than 0.01. \n",
      "The sample has a value of 171.55 if 's5' was greater than 0.03, and 'bmi' was less or equal than 0.01. \n",
      "The sample has a value of 239.26 if 's5' was greater than 0.03, and 'bmi' was greater than 0.01.\n",
      "------------------------------\n"
     ]
    }
   ],
   "source": [
    "from explainy.explanations import SurrogateModelExplanation\n",
    "\n",
    "# Global, Contrastive\n",
    "list_number_of_features = [2, 4]\n",
    "sample_index = 0\n",
    "for number_of_features in list_number_of_features:\n",
    "\n",
    "    explainer = SurrogateModelExplanation(\n",
    "        X_test, y_test, model, number_of_features\n",
    "    )\n",
    "    explanation = explainer.explain(sample_index)\n",
    "    explainer.plot(sample_index)\n",
    "    print(explanation)\n",
    "    print('---'*10)"
   ]
  },
  {
   "attachments": {},
   "cell_type": "markdown",
   "metadata": {},
   "source": [
    "Let's use the `CounterfactualExplanation` to create local explantions and show, how the feature would have had to change to achieve a desired y value."
   ]
  },
  {
   "cell_type": "code",
   "execution_count": 10,
   "metadata": {},
   "outputs": [
    {
     "name": "stderr",
     "output_type": "stream",
     "text": [
      "Maximum number of function evaluations has been exceeded.\n",
      "2023-12-27 10:06:57,476: DEBUG: lambda: 0.0\n",
      "2023-12-27 10:06:57,477: DEBUG: diff: 4.5\n",
      "2023-12-27 10:06:57,477: DEBUG: True label: [127.]\n",
      "2023-12-27 10:06:57,478: DEBUG: Predicted label: 169.22\n",
      "2023-12-27 10:06:57,478: DEBUG: Desired label: 180.0\n",
      "2023-12-27 10:06:57,481: DEBUG: Predicted counterfactual label: 184.5\n",
      "2023-12-27 10:06:57,482: DEBUG: Features of the sample: [ 0.03807591  0.05068012  0.00888341  0.04252949 -0.04284755 -0.02104223\n",
      " -0.03971921 -0.00259226 -0.01811369  0.00720652]\n",
      "2023-12-27 10:06:57,482: DEBUG: Features of the countefactual: [ 0.0090156   0.05068012  0.03043966  0.04252949 -0.00294491  0.03689023\n",
      " -0.06549067  0.07120998 -0.02364686  0.01549073]\n",
      "2023-12-27 10:06:57,482: DEBUG: \n",
      "Final Lambda:\n",
      "2023-12-27 10:06:57,483: DEBUG: lambda: 0.0\n",
      "2023-12-27 10:06:57,483: DEBUG: diff: 4.5\n",
      "2023-12-27 10:06:57,483: DEBUG: True label: [127.]\n",
      "2023-12-27 10:06:57,484: DEBUG: Predicted label: 169.22\n",
      "2023-12-27 10:06:57,484: DEBUG: Desired label: 180.0\n",
      "2023-12-27 10:06:57,487: DEBUG: Predicted counterfactual label: 184.5\n",
      "2023-12-27 10:06:57,488: DEBUG: Features of the sample: [ 0.03807591  0.05068012  0.00888341  0.04252949 -0.04284755 -0.02104223\n",
      " -0.03971921 -0.00259226 -0.01811369  0.00720652]\n",
      "2023-12-27 10:06:57,488: DEBUG: Features of the countefactual: [ 0.0090156   0.05068012  0.03043966  0.04252949 -0.00294491  0.03689023\n",
      " -0.06549067  0.07120998 -0.02364686  0.01549073]\n",
      "2023-12-27 10:06:57,491: DEBUG: old_value: 0.038075906433423026 -- new_value: 0.009015598825267658\n",
      "2023-12-27 10:06:57,494: DEBUG: name: age -- difference: 1.8900000000000148\n",
      "2023-12-27 10:06:57,495: DEBUG: old_value: 0.05068011873981862 -- new_value: 0.05068011873981862\n",
      "2023-12-27 10:06:57,498: DEBUG: name: sex -- difference: 0.0\n",
      "2023-12-27 10:06:57,498: DEBUG: old_value: 0.008883414898524095 -- new_value: 0.030439656376140087\n",
      "2023-12-27 10:06:57,501: DEBUG: name: bmi -- difference: 35.140000000000015\n",
      "2023-12-27 10:06:57,501: DEBUG: old_value: 0.04252949136913227 -- new_value: 0.04252949136913227\n",
      "2023-12-27 10:06:57,505: DEBUG: name: bp -- difference: 0.0\n",
      "2023-12-27 10:06:57,505: DEBUG: old_value: -0.04284754556624487 -- new_value: -0.0029449126784123676\n",
      "2023-12-27 10:06:57,509: DEBUG: name: s1 -- difference: -0.7700000000000102\n",
      "2023-12-27 10:06:57,509: DEBUG: old_value: -0.02104223051895942 -- new_value: 0.03689023491210454\n",
      "2023-12-27 10:06:57,513: DEBUG: name: s2 -- difference: -5.3700000000000045\n",
      "2023-12-27 10:06:57,513: DEBUG: old_value: -0.03971920784793797 -- new_value: -0.06549067247654655\n",
      "2023-12-27 10:06:57,516: DEBUG: name: s3 -- difference: -3.6200000000000045\n",
      "2023-12-27 10:06:57,517: DEBUG: old_value: -0.002592261998183278 -- new_value: 0.07120997975363674\n",
      "2023-12-27 10:06:57,520: DEBUG: name: s4 -- difference: 10.539999999999992\n",
      "2023-12-27 10:06:57,520: DEBUG: old_value: -0.018113692315690322 -- new_value: -0.02364686309993755\n",
      "2023-12-27 10:06:57,523: DEBUG: name: s5 -- difference: -1.5500000000000114\n",
      "2023-12-27 10:06:57,524: DEBUG: old_value: 0.007206516329202944 -- new_value: 0.015490730158871856\n",
      "2023-12-27 10:06:57,527: DEBUG: name: s6 -- difference: -1.1599999999999966\n",
      "2023-12-27 10:06:57,529: DEBUG: standard feature: the 'bmi' was '0.03'\n",
      "2023-12-27 10:06:57,529: DEBUG: standard feature: the 's4' was '0.07'\n",
      "2023-12-27 10:06:57,529: DEBUG: standard feature: the 'age' was '0.01'\n",
      "2023-12-27 10:06:57,530: DEBUG: standard feature: the 'bp' was '0.04'\n"
     ]
    },
    {
     "name": "stdout",
     "output_type": "stream",
     "text": [
      "The RandomForestRegressor used 10 features to produce the predictions. The prediction of this sample was 169.2.\n",
      "The feature importance is shown using a counterfactual example.\n",
      "The sample would have had the desired prediction, if the 'bmi' was '0.03', the 's4' was '0.07', the 'age' was '0.01', and the 'bp' was '0.04'.\n",
      "------------------------------\n"
     ]
    },
    {
     "name": "stderr",
     "output_type": "stream",
     "text": [
      "Maximum number of function evaluations has been exceeded.\n",
      "2023-12-27 10:07:02,003: DEBUG: lambda: 0.0\n",
      "2023-12-27 10:07:02,003: DEBUG: diff: 4.5\n",
      "2023-12-27 10:07:02,004: DEBUG: True label: [127.]\n",
      "2023-12-27 10:07:02,004: DEBUG: Predicted label: 169.22\n",
      "2023-12-27 10:07:02,004: DEBUG: Desired label: 180.0\n",
      "2023-12-27 10:07:02,008: DEBUG: Predicted counterfactual label: 184.5\n",
      "2023-12-27 10:07:02,008: DEBUG: Features of the sample: [ 0.03807591  0.05068012  0.00888341  0.04252949 -0.04284755 -0.02104223\n",
      " -0.03971921 -0.00259226 -0.01811369  0.00720652]\n",
      "2023-12-27 10:07:02,009: DEBUG: Features of the countefactual: [ 0.0090156   0.05068012  0.03043966  0.04252949 -0.00294491  0.03689023\n",
      " -0.06549067  0.07120998 -0.02364686  0.01549073]\n",
      "2023-12-27 10:07:02,009: DEBUG: \n",
      "Final Lambda:\n",
      "2023-12-27 10:07:02,010: DEBUG: lambda: 0.0\n",
      "2023-12-27 10:07:02,010: DEBUG: diff: 4.5\n",
      "2023-12-27 10:07:02,010: DEBUG: True label: [127.]\n",
      "2023-12-27 10:07:02,010: DEBUG: Predicted label: 169.22\n",
      "2023-12-27 10:07:02,011: DEBUG: Desired label: 180.0\n",
      "2023-12-27 10:07:02,014: DEBUG: Predicted counterfactual label: 184.5\n",
      "2023-12-27 10:07:02,014: DEBUG: Features of the sample: [ 0.03807591  0.05068012  0.00888341  0.04252949 -0.04284755 -0.02104223\n",
      " -0.03971921 -0.00259226 -0.01811369  0.00720652]\n",
      "2023-12-27 10:07:02,015: DEBUG: Features of the countefactual: [ 0.0090156   0.05068012  0.03043966  0.04252949 -0.00294491  0.03689023\n",
      " -0.06549067  0.07120998 -0.02364686  0.01549073]\n",
      "2023-12-27 10:07:02,018: DEBUG: old_value: 0.038075906433423026 -- new_value: 0.009015598825267658\n",
      "2023-12-27 10:07:02,022: DEBUG: name: age -- difference: 1.8900000000000148\n",
      "2023-12-27 10:07:02,022: DEBUG: old_value: 0.05068011873981862 -- new_value: 0.05068011873981862\n",
      "2023-12-27 10:07:02,026: DEBUG: name: sex -- difference: 0.0\n",
      "2023-12-27 10:07:02,026: DEBUG: old_value: 0.008883414898524095 -- new_value: 0.030439656376140087\n",
      "2023-12-27 10:07:02,029: DEBUG: name: bmi -- difference: 35.140000000000015\n",
      "2023-12-27 10:07:02,029: DEBUG: old_value: 0.04252949136913227 -- new_value: 0.04252949136913227\n",
      "2023-12-27 10:07:02,033: DEBUG: name: bp -- difference: 0.0\n",
      "2023-12-27 10:07:02,033: DEBUG: old_value: -0.04284754556624487 -- new_value: -0.0029449126784123676\n",
      "2023-12-27 10:07:02,036: DEBUG: name: s1 -- difference: -0.7700000000000102\n",
      "2023-12-27 10:07:02,037: DEBUG: old_value: -0.02104223051895942 -- new_value: 0.03689023491210454\n",
      "2023-12-27 10:07:02,040: DEBUG: name: s2 -- difference: -5.3700000000000045\n",
      "2023-12-27 10:07:02,041: DEBUG: old_value: -0.03971920784793797 -- new_value: -0.06549067247654655\n",
      "2023-12-27 10:07:02,044: DEBUG: name: s3 -- difference: -3.6200000000000045\n",
      "2023-12-27 10:07:02,044: DEBUG: old_value: -0.002592261998183278 -- new_value: 0.07120997975363674\n",
      "2023-12-27 10:07:02,047: DEBUG: name: s4 -- difference: 10.539999999999992\n",
      "2023-12-27 10:07:02,048: DEBUG: old_value: -0.018113692315690322 -- new_value: -0.02364686309993755\n",
      "2023-12-27 10:07:02,051: DEBUG: name: s5 -- difference: -1.5500000000000114\n",
      "2023-12-27 10:07:02,051: DEBUG: old_value: 0.007206516329202944 -- new_value: 0.015490730158871856\n",
      "2023-12-27 10:07:02,055: DEBUG: name: s6 -- difference: -1.1599999999999966\n",
      "2023-12-27 10:07:02,056: DEBUG: standard feature: the 'bmi' was '0.03'\n",
      "2023-12-27 10:07:02,056: DEBUG: standard feature: the 's4' was '0.07'\n",
      "2023-12-27 10:07:02,056: DEBUG: standard feature: the 'age' was '0.01'\n",
      "2023-12-27 10:07:02,057: DEBUG: standard feature: the 'bp' was '0.04'\n",
      "2023-12-27 10:07:02,057: DEBUG: standard feature: the 'sex' was '0.05'\n",
      "2023-12-27 10:07:02,057: DEBUG: standard feature: the 's1' was '-0.0'\n",
      "2023-12-27 10:07:02,058: DEBUG: standard feature: the 's6' was '0.02'\n",
      "2023-12-27 10:07:02,058: DEBUG: standard feature: the 's5' was '-0.02'\n"
     ]
    },
    {
     "name": "stdout",
     "output_type": "stream",
     "text": [
      "The RandomForestRegressor used 10 features to produce the predictions. The prediction of this sample was 169.2.\n",
      "The feature importance is shown using a counterfactual example.\n",
      "The sample would have had the desired prediction, if the 'bmi' was '0.03', the 's4' was '0.07', the 'age' was '0.01', the 'bp' was '0.04', the 'sex' was '0.05', the 's1' was '-0.0', the 's6' was '0.02', and the 's5' was '-0.02'.\n",
      "------------------------------\n"
     ]
    }
   ],
   "source": [
    "from explainy.explanations import CounterfactualExplanation\n",
    "\n",
    "# Local, Contrastive\n",
    "number_of_features = 6\n",
    "sample_index = 2\n",
    "for number_of_features in [4, 8]:\n",
    "    explainer = CounterfactualExplanation(\n",
    "        X_test, y_test, model, number_of_features, y_desired=180.\n",
    "    )\n",
    "    explanation = explainer.explain(sample_index)\n",
    "    # explainer.plot(sample_index)\n",
    "    print(explanation)\n",
    "    print('---'*10)"
   ]
  },
  {
   "cell_type": "code",
   "execution_count": null,
   "metadata": {},
   "outputs": [],
   "source": []
  },
  {
   "cell_type": "code",
   "execution_count": null,
   "metadata": {},
   "outputs": [],
   "source": []
  },
  {
   "cell_type": "code",
   "execution_count": null,
   "metadata": {},
   "outputs": [],
   "source": []
  }
 ],
 "metadata": {
  "interpreter": {
   "hash": "de55fbb6a3d1dcd7d34e4d81b1ef1a152ffc76ac074135090337ffe5be6ed72c"
  },
  "kernelspec": {
   "display_name": "Python 3.8.0 64-bit ('explanation_env': conda)",
   "name": "python3"
  },
  "language_info": {
   "codemirror_mode": {
    "name": "ipython",
    "version": 3
   },
   "file_extension": ".py",
   "mimetype": "text/x-python",
   "name": "python",
   "nbconvert_exporter": "python",
   "pygments_lexer": "ipython3",
   "version": "3.8.16"
  },
  "pycharm": {
   "stem_cell": {
    "cell_type": "raw",
    "metadata": {
     "collapsed": false
    },
    "source": []
   }
  }
 },
 "nbformat": 4,
 "nbformat_minor": 2
}
