{
 "cells": [
  {
   "attachments": {},
   "cell_type": "markdown",
   "metadata": {},
   "source": [
    "# Introduction to `explainy` - black-box model explanations for humans\n",
    "In this notebook, we will go over the main algorithms of the `explainy` package."
   ]
  },
  {
   "cell_type": "code",
   "execution_count": 6,
   "metadata": {
    "tags": []
   },
   "outputs": [],
   "source": [
    "import pandas as pd\n",
    "from sklearn.datasets import load_diabetes\n",
    "from sklearn.ensemble import RandomForestRegressor\n",
    "from sklearn.model_selection import train_test_split"
   ]
  },
  {
   "attachments": {},
   "cell_type": "markdown",
   "metadata": {},
   "source": [
    "### Installing Explainy\n",
    "We recommend using some virtual environment. Then there are mainly two ways.\n",
    "\n",
    "With pip:\n",
    "\n",
    "`pip install explainy`"
   ]
  },
  {
   "cell_type": "code",
   "execution_count": 7,
   "metadata": {},
   "outputs": [
    {
     "name": "stdout",
     "output_type": "stream",
     "text": [
      "Requirement already satisfied: explainy in /Users/mauroluzzatto/.pyenv/versions/3.8.16/envs/explainy_env/lib/python3.8/site-packages (0.2.0)\n",
      "Requirement already satisfied: click in /Users/mauroluzzatto/.pyenv/versions/3.8.16/envs/explainy_env/lib/python3.8/site-packages (from explainy) (8.1.3)\n",
      "Requirement already satisfied: scikit-learn==1.2.2 in /Users/mauroluzzatto/.pyenv/versions/3.8.16/envs/explainy_env/lib/python3.8/site-packages (from explainy) (1.2.2)\n",
      "Requirement already satisfied: pandas in /Users/mauroluzzatto/.pyenv/versions/3.8.16/envs/explainy_env/lib/python3.8/site-packages (from explainy) (2.0.2)\n",
      "Requirement already satisfied: mlxtend==0.18.0 in /Users/mauroluzzatto/.pyenv/versions/3.8.16/envs/explainy_env/lib/python3.8/site-packages (from explainy) (0.18.0)\n",
      "Requirement already satisfied: shap==0.41.0 in /Users/mauroluzzatto/.pyenv/versions/3.8.16/envs/explainy_env/lib/python3.8/site-packages (from explainy) (0.41.0)\n",
      "Requirement already satisfied: matplotlib in /Users/mauroluzzatto/.pyenv/versions/3.8.16/envs/explainy_env/lib/python3.8/site-packages (from explainy) (3.7.1)\n",
      "Requirement already satisfied: graphviz==0.16 in /Users/mauroluzzatto/.pyenv/versions/3.8.16/envs/explainy_env/lib/python3.8/site-packages (from explainy) (0.16)\n",
      "Requirement already satisfied: ipython==7.26.0 in /Users/mauroluzzatto/.pyenv/versions/3.8.16/envs/explainy_env/lib/python3.8/site-packages (from explainy) (7.26.0)\n",
      "Requirement already satisfied: numpy==1.23.1 in /Users/mauroluzzatto/.pyenv/versions/3.8.16/envs/explainy_env/lib/python3.8/site-packages (from explainy) (1.23.1)\n",
      "Requirement already satisfied: setuptools>=18.5 in /Users/mauroluzzatto/.pyenv/versions/3.8.16/envs/explainy_env/lib/python3.8/site-packages (from ipython==7.26.0->explainy) (56.0.0)\n",
      "Requirement already satisfied: jedi>=0.16 in /Users/mauroluzzatto/.pyenv/versions/3.8.16/envs/explainy_env/lib/python3.8/site-packages (from ipython==7.26.0->explainy) (0.18.2)\n",
      "Requirement already satisfied: decorator in /Users/mauroluzzatto/.pyenv/versions/3.8.16/envs/explainy_env/lib/python3.8/site-packages (from ipython==7.26.0->explainy) (5.1.1)\n",
      "Requirement already satisfied: pickleshare in /Users/mauroluzzatto/.pyenv/versions/3.8.16/envs/explainy_env/lib/python3.8/site-packages (from ipython==7.26.0->explainy) (0.7.5)\n",
      "Requirement already satisfied: traitlets>=4.2 in /Users/mauroluzzatto/.pyenv/versions/3.8.16/envs/explainy_env/lib/python3.8/site-packages (from ipython==7.26.0->explainy) (5.9.0)\n",
      "Requirement already satisfied: prompt-toolkit!=3.0.0,!=3.0.1,<3.1.0,>=2.0.0 in /Users/mauroluzzatto/.pyenv/versions/3.8.16/envs/explainy_env/lib/python3.8/site-packages (from ipython==7.26.0->explainy) (3.0.38)\n",
      "Requirement already satisfied: pygments in /Users/mauroluzzatto/.pyenv/versions/3.8.16/envs/explainy_env/lib/python3.8/site-packages (from ipython==7.26.0->explainy) (2.15.1)\n",
      "Requirement already satisfied: backcall in /Users/mauroluzzatto/.pyenv/versions/3.8.16/envs/explainy_env/lib/python3.8/site-packages (from ipython==7.26.0->explainy) (0.2.0)\n",
      "Requirement already satisfied: matplotlib-inline in /Users/mauroluzzatto/.pyenv/versions/3.8.16/envs/explainy_env/lib/python3.8/site-packages (from ipython==7.26.0->explainy) (0.1.6)\n",
      "Requirement already satisfied: pexpect>4.3 in /Users/mauroluzzatto/.pyenv/versions/3.8.16/envs/explainy_env/lib/python3.8/site-packages (from ipython==7.26.0->explainy) (4.8.0)\n",
      "Requirement already satisfied: appnope in /Users/mauroluzzatto/.pyenv/versions/3.8.16/envs/explainy_env/lib/python3.8/site-packages (from ipython==7.26.0->explainy) (0.1.3)\n",
      "Requirement already satisfied: scipy>=1.2.1 in /Users/mauroluzzatto/.pyenv/versions/3.8.16/envs/explainy_env/lib/python3.8/site-packages (from mlxtend==0.18.0->explainy) (1.10.1)\n",
      "Requirement already satisfied: joblib>=0.13.2 in /Users/mauroluzzatto/.pyenv/versions/3.8.16/envs/explainy_env/lib/python3.8/site-packages (from mlxtend==0.18.0->explainy) (1.2.0)\n",
      "Requirement already satisfied: threadpoolctl>=2.0.0 in /Users/mauroluzzatto/.pyenv/versions/3.8.16/envs/explainy_env/lib/python3.8/site-packages (from scikit-learn==1.2.2->explainy) (3.1.0)\n",
      "Requirement already satisfied: tqdm>4.25.0 in /Users/mauroluzzatto/.pyenv/versions/3.8.16/envs/explainy_env/lib/python3.8/site-packages (from shap==0.41.0->explainy) (4.65.0)\n",
      "Requirement already satisfied: packaging>20.9 in /Users/mauroluzzatto/.pyenv/versions/3.8.16/envs/explainy_env/lib/python3.8/site-packages (from shap==0.41.0->explainy) (23.1)\n",
      "Requirement already satisfied: slicer==0.0.7 in /Users/mauroluzzatto/.pyenv/versions/3.8.16/envs/explainy_env/lib/python3.8/site-packages (from shap==0.41.0->explainy) (0.0.7)\n",
      "Requirement already satisfied: numba in /Users/mauroluzzatto/.pyenv/versions/3.8.16/envs/explainy_env/lib/python3.8/site-packages (from shap==0.41.0->explainy) (0.57.1)\n",
      "Requirement already satisfied: cloudpickle in /Users/mauroluzzatto/.pyenv/versions/3.8.16/envs/explainy_env/lib/python3.8/site-packages (from shap==0.41.0->explainy) (2.2.1)\n",
      "Requirement already satisfied: contourpy>=1.0.1 in /Users/mauroluzzatto/.pyenv/versions/3.8.16/envs/explainy_env/lib/python3.8/site-packages (from matplotlib->explainy) (1.1.0)\n",
      "Requirement already satisfied: cycler>=0.10 in /Users/mauroluzzatto/.pyenv/versions/3.8.16/envs/explainy_env/lib/python3.8/site-packages (from matplotlib->explainy) (0.11.0)\n",
      "Requirement already satisfied: fonttools>=4.22.0 in /Users/mauroluzzatto/.pyenv/versions/3.8.16/envs/explainy_env/lib/python3.8/site-packages (from matplotlib->explainy) (4.40.0)\n",
      "Requirement already satisfied: kiwisolver>=1.0.1 in /Users/mauroluzzatto/.pyenv/versions/3.8.16/envs/explainy_env/lib/python3.8/site-packages (from matplotlib->explainy) (1.4.4)\n",
      "Requirement already satisfied: pillow>=6.2.0 in /Users/mauroluzzatto/.pyenv/versions/3.8.16/envs/explainy_env/lib/python3.8/site-packages (from matplotlib->explainy) (9.5.0)\n",
      "Requirement already satisfied: pyparsing>=2.3.1 in /Users/mauroluzzatto/.pyenv/versions/3.8.16/envs/explainy_env/lib/python3.8/site-packages (from matplotlib->explainy) (3.1.0)\n",
      "Requirement already satisfied: python-dateutil>=2.7 in /Users/mauroluzzatto/.pyenv/versions/3.8.16/envs/explainy_env/lib/python3.8/site-packages (from matplotlib->explainy) (2.8.2)\n",
      "Requirement already satisfied: importlib-resources>=3.2.0 in /Users/mauroluzzatto/.pyenv/versions/3.8.16/envs/explainy_env/lib/python3.8/site-packages (from matplotlib->explainy) (5.12.0)\n",
      "Requirement already satisfied: pytz>=2020.1 in /Users/mauroluzzatto/.pyenv/versions/3.8.16/envs/explainy_env/lib/python3.8/site-packages (from pandas->explainy) (2023.3)\n",
      "Requirement already satisfied: tzdata>=2022.1 in /Users/mauroluzzatto/.pyenv/versions/3.8.16/envs/explainy_env/lib/python3.8/site-packages (from pandas->explainy) (2023.3)\n",
      "Requirement already satisfied: zipp>=3.1.0 in /Users/mauroluzzatto/.pyenv/versions/3.8.16/envs/explainy_env/lib/python3.8/site-packages (from importlib-resources>=3.2.0->matplotlib->explainy) (3.15.0)\n",
      "Requirement already satisfied: parso<0.9.0,>=0.8.0 in /Users/mauroluzzatto/.pyenv/versions/3.8.16/envs/explainy_env/lib/python3.8/site-packages (from jedi>=0.16->ipython==7.26.0->explainy) (0.8.3)\n",
      "Requirement already satisfied: ptyprocess>=0.5 in /Users/mauroluzzatto/.pyenv/versions/3.8.16/envs/explainy_env/lib/python3.8/site-packages (from pexpect>4.3->ipython==7.26.0->explainy) (0.7.0)\n",
      "Requirement already satisfied: wcwidth in /Users/mauroluzzatto/.pyenv/versions/3.8.16/envs/explainy_env/lib/python3.8/site-packages (from prompt-toolkit!=3.0.0,!=3.0.1,<3.1.0,>=2.0.0->ipython==7.26.0->explainy) (0.2.6)\n",
      "Requirement already satisfied: six>=1.5 in /Users/mauroluzzatto/.pyenv/versions/3.8.16/envs/explainy_env/lib/python3.8/site-packages (from python-dateutil>=2.7->matplotlib->explainy) (1.16.0)\n",
      "Requirement already satisfied: llvmlite<0.41,>=0.40.0dev0 in /Users/mauroluzzatto/.pyenv/versions/3.8.16/envs/explainy_env/lib/python3.8/site-packages (from numba->shap==0.41.0->explainy) (0.40.1)\n",
      "Requirement already satisfied: importlib-metadata in /Users/mauroluzzatto/.pyenv/versions/3.8.16/envs/explainy_env/lib/python3.8/site-packages (from numba->shap==0.41.0->explainy) (6.7.0)\n"
     ]
    }
   ],
   "source": [
    "!pip install explainy"
   ]
  },
  {
   "attachments": {},
   "cell_type": "markdown",
   "metadata": {},
   "source": [
    "`explainy` allows you to create machine learning model explanations based on four different explanation characteristics:\n",
    "\n",
    "-   **global**: explanation of system functionality\n",
    "-   **local**: explanation of decision rationale\n",
    "-   **contrastive**: tracing of decision path\n",
    "-   **non-contrastive**: parameter weighting\n",
    "\n",
    "The explanations algorithms in `explainy` can be categorized as follows:\n",
    "\n",
    "| | non-contrastive\t\t\t\t|contrastive | \n",
    "| --- \t\t\t| --- \t\t\t\t| --- | \n",
    "|global|Permutation Feature Importance\t| Surrogate Model | \n",
    "|local|Shap Values\t| Counterfactual Example|\n"
   ]
  },
  {
   "cell_type": "code",
   "execution_count": 8,
   "metadata": {
    "scrolled": true,
    "tags": []
   },
   "outputs": [
    {
     "name": "stdout",
     "output_type": "stream",
     "text": [
      "The autoreload extension is already loaded. To reload it, use:\n",
      "  %reload_ext autoreload\n"
     ]
    }
   ],
   "source": [
    "%load_ext autoreload\n",
    "%autoreload 2\n",
    "%matplotlib inline\n",
    "\n",
    "diabetes = load_diabetes()\n",
    "\n",
    "X_train, X_test, y_train, y_test = train_test_split(\n",
    "    diabetes.data, diabetes.target, random_state=0\n",
    ")\n",
    "X_test = pd.DataFrame(X_test, columns=diabetes.feature_names)\n",
    "y_test = pd.DataFrame(y_test)\n",
    "\n",
    "model = RandomForestRegressor(random_state=0).fit(X_train, y_train)"
   ]
  },
  {
   "cell_type": "code",
   "execution_count": 9,
   "metadata": {},
   "outputs": [
    {
     "ename": "ImportError",
     "evalue": "cannot import name 'PermutationExplanation' from 'explainy.explanations' (/Users/mauroluzzatto/.pyenv/versions/3.8.16/envs/explainy_env/lib/python3.8/site-packages/explainy/explanations/__init__.py)",
     "output_type": "error",
     "traceback": [
      "\u001b[0;31m---------------------------------------------------------------------------\u001b[0m",
      "\u001b[0;31mImportError\u001b[0m                               Traceback (most recent call last)",
      "\u001b[0;32m/var/folders/h_/n768f69j10j08tc51ym9tsrc0000gn/T/ipykernel_32796/1791524124.py\u001b[0m in \u001b[0;36m<module>\u001b[0;34m\u001b[0m\n\u001b[0;32m----> 1\u001b[0;31m \u001b[0;32mfrom\u001b[0m \u001b[0mexplainy\u001b[0m\u001b[0;34m.\u001b[0m\u001b[0mexplanations\u001b[0m \u001b[0;32mimport\u001b[0m \u001b[0mPermutationExplanation\u001b[0m\u001b[0;34m\u001b[0m\u001b[0;34m\u001b[0m\u001b[0m\n\u001b[0m\u001b[1;32m      2\u001b[0m \u001b[0;34m\u001b[0m\u001b[0m\n\u001b[1;32m      3\u001b[0m \u001b[0mnumber_of_features\u001b[0m \u001b[0;34m=\u001b[0m \u001b[0;36m4\u001b[0m\u001b[0;34m\u001b[0m\u001b[0;34m\u001b[0m\u001b[0m\n\u001b[1;32m      4\u001b[0m \u001b[0msample_index\u001b[0m \u001b[0;34m=\u001b[0m \u001b[0;36m1\u001b[0m\u001b[0;34m\u001b[0m\u001b[0;34m\u001b[0m\u001b[0m\n\u001b[1;32m      5\u001b[0m \u001b[0;34m\u001b[0m\u001b[0m\n",
      "\u001b[0;31mImportError\u001b[0m: cannot import name 'PermutationExplanation' from 'explainy.explanations' (/Users/mauroluzzatto/.pyenv/versions/3.8.16/envs/explainy_env/lib/python3.8/site-packages/explainy/explanations/__init__.py)"
     ]
    }
   ],
   "source": [
    "from explainy.explanations import PermutationExplanation\n",
    "\n",
    "number_of_features = 4\n",
    "sample_index = 1\n",
    "\n",
    "explainer = PermutationExplanation(\n",
    "    X_test, y_test, model, number_of_features\n",
    ")\n",
    "explanation = explainer.explain(sample_index)\n",
    "print(explanation)\n",
    "explainer.plot(kind='bar')"
   ]
  },
  {
   "cell_type": "code",
   "execution_count": null,
   "metadata": {},
   "outputs": [
    {
     "ename": "NameError",
     "evalue": "name 'explainer' is not defined",
     "output_type": "error",
     "traceback": [
      "\u001b[0;31m---------------------------------------------------------------------------\u001b[0m",
      "\u001b[0;31mNameError\u001b[0m                                 Traceback (most recent call last)",
      "\u001b[0;32m/var/folders/h_/n768f69j10j08tc51ym9tsrc0000gn/T/ipykernel_32796/295548747.py\u001b[0m in \u001b[0;36m<module>\u001b[0;34m\u001b[0m\n\u001b[0;32m----> 1\u001b[0;31m \u001b[0mexplainer\u001b[0m\u001b[0;34m.\u001b[0m\u001b[0mplot\u001b[0m\u001b[0;34m(\u001b[0m\u001b[0mkind\u001b[0m\u001b[0;34m=\u001b[0m\u001b[0;34m'box'\u001b[0m\u001b[0;34m)\u001b[0m\u001b[0;34m\u001b[0m\u001b[0;34m\u001b[0m\u001b[0m\n\u001b[0m",
      "\u001b[0;31mNameError\u001b[0m: name 'explainer' is not defined"
     ]
    }
   ],
   "source": [
    "explainer.plot(kind='box')"
   ]
  },
  {
   "attachments": {},
   "cell_type": "markdown",
   "metadata": {},
   "source": [
    "Generate explanations with multiple numbers of features to explain the outcoume.\n",
    "Since the `PermuationExplanation` method is a global explaination method, all samples will have the same feature importance explanation."
   ]
  },
  {
   "cell_type": "code",
   "execution_count": null,
   "metadata": {},
   "outputs": [
    {
     "ename": "NameError",
     "evalue": "name 'PermutationExplanation' is not defined",
     "output_type": "error",
     "traceback": [
      "\u001b[0;31m---------------------------------------------------------------------------\u001b[0m",
      "\u001b[0;31mNameError\u001b[0m                                 Traceback (most recent call last)",
      "\u001b[0;32m/var/folders/h_/n768f69j10j08tc51ym9tsrc0000gn/T/ipykernel_32796/4031712068.py\u001b[0m in \u001b[0;36m<module>\u001b[0;34m\u001b[0m\n\u001b[1;32m      2\u001b[0m \u001b[0msample_index\u001b[0m \u001b[0;34m=\u001b[0m \u001b[0;36m0\u001b[0m\u001b[0;34m\u001b[0m\u001b[0;34m\u001b[0m\u001b[0m\n\u001b[1;32m      3\u001b[0m \u001b[0;32mfor\u001b[0m \u001b[0mnumber_of_features\u001b[0m \u001b[0;32min\u001b[0m \u001b[0;34m[\u001b[0m\u001b[0;36m3\u001b[0m\u001b[0;34m,\u001b[0m \u001b[0;36m6\u001b[0m\u001b[0;34m,\u001b[0m \u001b[0;36m9\u001b[0m\u001b[0;34m]\u001b[0m\u001b[0;34m:\u001b[0m\u001b[0;34m\u001b[0m\u001b[0;34m\u001b[0m\u001b[0m\n\u001b[0;32m----> 4\u001b[0;31m     explainer = PermutationExplanation(\n\u001b[0m\u001b[1;32m      5\u001b[0m         \u001b[0mX_test\u001b[0m\u001b[0;34m,\u001b[0m \u001b[0my_test\u001b[0m\u001b[0;34m,\u001b[0m \u001b[0mmodel\u001b[0m\u001b[0;34m,\u001b[0m \u001b[0mnumber_of_features\u001b[0m\u001b[0;34m\u001b[0m\u001b[0;34m\u001b[0m\u001b[0m\n\u001b[1;32m      6\u001b[0m     )\n",
      "\u001b[0;31mNameError\u001b[0m: name 'PermutationExplanation' is not defined"
     ]
    }
   ],
   "source": [
    "# Global, Non-contrastive\n",
    "sample_index = 0\n",
    "for number_of_features in [3, 6, 9]:\n",
    "    explainer = PermutationExplanation(\n",
    "        X_test, y_test, model, number_of_features\n",
    "    )\n",
    "    explanation = explainer.explain(sample_index)\n",
    "    explainer.plot(kind='box')\n",
    "    print(explanation)\n",
    "    print('\\n\\n')"
   ]
  },
  {
   "attachments": {},
   "cell_type": "markdown",
   "metadata": {},
   "source": [
    "Let's use the `ShapExplanation` to create local explantions for each sample individually."
   ]
  },
  {
   "cell_type": "code",
   "execution_count": null,
   "metadata": {},
   "outputs": [
    {
     "name": "stdout",
     "output_type": "stream",
     "text": [
      "0\n"
     ]
    },
    {
     "data": {
      "image/png": "[encoded data removed]",
      "text/plain": [
       "<Figure size 432x144 with 1 Axes>"
      ]
     },
     "metadata": {
      "needs_background": "light"
     },
     "output_type": "display_data"
    },
    {
     "name": "stdout",
     "output_type": "stream",
     "text": [
      "The RandomForestRegressor used 10 features to produce the predictions. The prediction of this sample was 250.6.\n",
      "The feature importance was calculated using the SHAP method.\n",
      "The four features which contributed most to the prediction of this particular sample were: 'bmi' (76.27), 'bp' (22.80), 's5' (-5.95), and 's3' (4.48).\n",
      "\n",
      "\n",
      "\n",
      "1\n"
     ]
    },
    {
     "data": {
      "image/png": "[encoded data removed]",
      "text/plain": [
       "<Figure size 432x144 with 1 Axes>"
      ]
     },
     "metadata": {
      "needs_background": "light"
     },
     "output_type": "display_data"
    },
    {
     "name": "stdout",
     "output_type": "stream",
     "text": [
      "The RandomForestRegressor used 10 features to produce the predictions. The prediction of this sample was 251.8.\n",
      "The feature importance was calculated using the SHAP method.\n",
      "The four features which contributed most to the prediction of this particular sample were: 'bmi' (49.63), 's5' (41.66), 'bp' (9.40), and 's6' (-4.04).\n",
      "\n",
      "\n",
      "\n",
      "2\n"
     ]
    },
    {
     "data": {
      "image/png": "[encoded data removed]",
      "text/plain": [
       "<Figure size 432x144 with 1 Axes>"
      ]
     },
     "metadata": {
      "needs_background": "light"
     },
     "output_type": "display_data"
    },
    {
     "name": "stdout",
     "output_type": "stream",
     "text": [
      "The RandomForestRegressor used 10 features to produce the predictions. The prediction of this sample was 169.2.\n",
      "The feature importance was calculated using the SHAP method.\n",
      "The four features which contributed most to the prediction of this particular sample were: 'bmi' (22.48), 's5' (-11.53), 'bp' (9.70), and 's6' (-7.94).\n",
      "\n",
      "\n",
      "\n"
     ]
    }
   ],
   "source": [
    "from explainy.explanations import ShapExplanation\n",
    "\n",
    "# Local, Non-contrastive\n",
    "number_of_features = 4\n",
    "for sample_index in [0, 1, 2]:\n",
    "\n",
    "    explainer = ShapExplanation(\n",
    "        X_test, y_test, model, number_of_features\n",
    "    )\n",
    "    explanation = explainer.explain(sample_index)\n",
    "    explainer.plot(sample_index)\n",
    "    print(explanation)\n",
    "    print('\\n\\n')"
   ]
  },
  {
   "attachments": {},
   "cell_type": "markdown",
   "metadata": {},
   "source": [
    "Let's use the `SurrogateModelExplanation` to create global explantions."
   ]
  },
  {
   "cell_type": "code",
   "execution_count": null,
   "metadata": {},
   "outputs": [
    {
     "name": "stderr",
     "output_type": "stream",
     "text": [
      "2021-10-08 22:44:10,785: INFO: Surrogate Model score: 0.53\n"
     ]
    },
    {
     "data": {
      "image/svg+xml": [
       "<?xml version=\"1.0\" encoding=\"UTF-8\" standalone=\"no\"?>\r\n",
       "<!DOCTYPE svg PUBLIC \"-//W3C//DTD SVG 1.1//EN\"\r\n",
       " \"http://www.w3.org/Graphics/SVG/1.1/DTD/svg11.dtd\">\r\n",
       "<!-- Generated by graphviz version 2.47.0 (0)\r\n",
       " -->\r\n",
       "<!-- Title: Tree Pages: 1 -->\r\n",
       "<svg width=\"246pt\" height=\"135pt\"\r\n",
       " viewBox=\"0.00 0.00 246.00 135.00\" xmlns=\"http://www.w3.org/2000/svg\" xmlns:xlink=\"http://www.w3.org/1999/xlink\">\r\n",
       "<g id=\"graph0\" class=\"graph\" transform=\"scale(1 1) rotate(0) translate(4 131)\">\r\n",
       "<title>Tree</title>\r\n",
       "<polygon fill=\"white\" stroke=\"transparent\" points=\"-4,4 -4,-131 242,-131 242,4 -4,4\"/>\r\n",
       "<!-- 0 -->\r\n",
       "<g id=\"node1\" class=\"node\">\r\n",
       "<title>0</title>\r\n",
       "<path fill=\"none\" stroke=\"black\" d=\"M162.5,-127C162.5,-127 75.5,-127 75.5,-127 69.5,-127 63.5,-121 63.5,-115 63.5,-115 63.5,-86 63.5,-86 63.5,-80 69.5,-74 75.5,-74 75.5,-74 162.5,-74 162.5,-74 168.5,-74 174.5,-80 174.5,-86 174.5,-86 174.5,-115 174.5,-115 174.5,-121 168.5,-127 162.5,-127\"/>\r\n",
       "<text text-anchor=\"middle\" x=\"119\" y=\"-111.8\" font-family=\"Helvetica,sans-Serif\" font-size=\"14.00\">s5 &lt;= 0.03</text>\r\n",
       "<text text-anchor=\"middle\" x=\"119\" y=\"-96.8\" font-family=\"Helvetica,sans-Serif\" font-size=\"14.00\">samples = 111</text>\r\n",
       "<text text-anchor=\"middle\" x=\"119\" y=\"-81.8\" font-family=\"Helvetica,sans-Serif\" font-size=\"14.00\">value = 158.44</text>\r\n",
       "</g>\r\n",
       "<!-- 1 -->\r\n",
       "<g id=\"node2\" class=\"node\">\r\n",
       "<title>1</title>\r\n",
       "<path fill=\"none\" stroke=\"black\" d=\"M98,-38C98,-38 12,-38 12,-38 6,-38 0,-32 0,-26 0,-26 0,-12 0,-12 0,-6 6,0 12,0 12,0 98,0 98,0 104,0 110,-6 110,-12 110,-12 110,-26 110,-26 110,-32 104,-38 98,-38\"/>\r\n",
       "<text text-anchor=\"middle\" x=\"55\" y=\"-22.8\" font-family=\"Helvetica,sans-Serif\" font-size=\"14.00\">samples = 72</text>\r\n",
       "<text text-anchor=\"middle\" x=\"55\" y=\"-7.8\" font-family=\"Helvetica,sans-Serif\" font-size=\"14.00\">value = 127.73</text>\r\n",
       "</g>\r\n",
       "<!-- 0&#45;&gt;1 -->\r\n",
       "<g id=\"edge1\" class=\"edge\">\r\n",
       "<title>0&#45;&gt;1</title>\r\n",
       "<path fill=\"none\" stroke=\"black\" d=\"M98.4,-73.91C91.24,-65.01 83.2,-55.03 76,-46.09\"/>\r\n",
       "<polygon fill=\"black\" stroke=\"black\" points=\"78.68,-43.83 69.68,-38.24 73.23,-48.22 78.68,-43.83\"/>\r\n",
       "<text text-anchor=\"middle\" x=\"67\" y=\"-59.39\" font-family=\"Helvetica,sans-Serif\" font-size=\"14.00\">True</text>\r\n",
       "</g>\r\n",
       "<!-- 2 -->\r\n",
       "<g id=\"node3\" class=\"node\">\r\n",
       "<title>2</title>\r\n",
       "<path fill=\"none\" stroke=\"black\" d=\"M226,-38C226,-38 140,-38 140,-38 134,-38 128,-32 128,-26 128,-26 128,-12 128,-12 128,-6 134,0 140,0 140,0 226,0 226,0 232,0 238,-6 238,-12 238,-12 238,-26 238,-26 238,-32 232,-38 226,-38\"/>\r\n",
       "<text text-anchor=\"middle\" x=\"183\" y=\"-22.8\" font-family=\"Helvetica,sans-Serif\" font-size=\"14.00\">samples = 39</text>\r\n",
       "<text text-anchor=\"middle\" x=\"183\" y=\"-7.8\" font-family=\"Helvetica,sans-Serif\" font-size=\"14.00\">value = 215.11</text>\r\n",
       "</g>\r\n",
       "<!-- 0&#45;&gt;2 -->\r\n",
       "<g id=\"edge2\" class=\"edge\">\r\n",
       "<title>0&#45;&gt;2</title>\r\n",
       "<path fill=\"none\" stroke=\"black\" d=\"M139.6,-73.91C146.76,-65.01 154.8,-55.03 162,-46.09\"/>\r\n",
       "<polygon fill=\"black\" stroke=\"black\" points=\"164.77,-48.22 168.32,-38.24 159.32,-43.83 164.77,-48.22\"/>\r\n",
       "<text text-anchor=\"middle\" x=\"171\" y=\"-59.39\" font-family=\"Helvetica,sans-Serif\" font-size=\"14.00\">False</text>\r\n",
       "</g>\r\n",
       "</g>\r\n",
       "</svg>\r\n"
      ],
      "text/plain": [
       "<graphviz.files.Source at 0x1e50759db20>"
      ]
     },
     "metadata": {},
     "output_type": "display_data"
    },
    {
     "name": "stderr",
     "output_type": "stream",
     "text": [
      "2021-10-08 22:44:11,036: INFO: Surrogate Model score: 0.78\n"
     ]
    },
    {
     "name": "stdout",
     "output_type": "stream",
     "text": [
      "The RandomForestRegressor used 10 features to produce the predictions. The prediction of this sample was 250.6.\n",
      "The feature importance was calculated using a DecisionTreeRegressor surrogate model. Two tree nodes are shown.\n",
      "The following thresholds were important for the predictions: \n",
      "The samples got a value of 127.73 if 's5' was less or equal than 0.0. \n",
      "The samples got a value of 215.11 if 's5' was greater than 0.0.\n",
      "\n",
      "\n"
     ]
    },
    {
     "data": {
      "image/svg+xml": [
       "<?xml version=\"1.0\" encoding=\"UTF-8\" standalone=\"no\"?>\r\n",
       "<!DOCTYPE svg PUBLIC \"-//W3C//DTD SVG 1.1//EN\"\r\n",
       " \"http://www.w3.org/Graphics/SVG/1.1/DTD/svg11.dtd\">\r\n",
       "<!-- Generated by graphviz version 2.47.0 (0)\r\n",
       " -->\r\n",
       "<!-- Title: Tree Pages: 1 -->\r\n",
       "<svg width=\"496pt\" height=\"224pt\"\r\n",
       " viewBox=\"0.00 0.00 495.50 224.00\" xmlns=\"http://www.w3.org/2000/svg\" xmlns:xlink=\"http://www.w3.org/1999/xlink\">\r\n",
       "<g id=\"graph0\" class=\"graph\" transform=\"scale(1 1) rotate(0) translate(4 220)\">\r\n",
       "<title>Tree</title>\r\n",
       "<polygon fill=\"white\" stroke=\"transparent\" points=\"-4,4 -4,-220 491.5,-220 491.5,4 -4,4\"/>\r\n",
       "<!-- 0 -->\r\n",
       "<g id=\"node1\" class=\"node\">\r\n",
       "<title>0</title>\r\n",
       "<path fill=\"none\" stroke=\"black\" d=\"M290.5,-216C290.5,-216 203.5,-216 203.5,-216 197.5,-216 191.5,-210 191.5,-204 191.5,-204 191.5,-175 191.5,-175 191.5,-169 197.5,-163 203.5,-163 203.5,-163 290.5,-163 290.5,-163 296.5,-163 302.5,-169 302.5,-175 302.5,-175 302.5,-204 302.5,-204 302.5,-210 296.5,-216 290.5,-216\"/>\r\n",
       "<text text-anchor=\"middle\" x=\"247\" y=\"-200.8\" font-family=\"Helvetica,sans-Serif\" font-size=\"14.00\">s5 &lt;= 0.03</text>\r\n",
       "<text text-anchor=\"middle\" x=\"247\" y=\"-185.8\" font-family=\"Helvetica,sans-Serif\" font-size=\"14.00\">samples = 111</text>\r\n",
       "<text text-anchor=\"middle\" x=\"247\" y=\"-170.8\" font-family=\"Helvetica,sans-Serif\" font-size=\"14.00\">value = 158.44</text>\r\n",
       "</g>\r\n",
       "<!-- 1 -->\r\n",
       "<g id=\"node2\" class=\"node\">\r\n",
       "<title>1</title>\r\n",
       "<path fill=\"none\" stroke=\"black\" d=\"M226,-127C226,-127 140,-127 140,-127 134,-127 128,-121 128,-115 128,-115 128,-86 128,-86 128,-80 134,-74 140,-74 140,-74 226,-74 226,-74 232,-74 238,-80 238,-86 238,-86 238,-115 238,-115 238,-121 232,-127 226,-127\"/>\r\n",
       "<text text-anchor=\"middle\" x=\"183\" y=\"-111.8\" font-family=\"Helvetica,sans-Serif\" font-size=\"14.00\">bmi &lt;= 0.01</text>\r\n",
       "<text text-anchor=\"middle\" x=\"183\" y=\"-96.8\" font-family=\"Helvetica,sans-Serif\" font-size=\"14.00\">samples = 72</text>\r\n",
       "<text text-anchor=\"middle\" x=\"183\" y=\"-81.8\" font-family=\"Helvetica,sans-Serif\" font-size=\"14.00\">value = 127.73</text>\r\n",
       "</g>\r\n",
       "<!-- 0&#45;&gt;1 -->\r\n",
       "<g id=\"edge1\" class=\"edge\">\r\n",
       "<title>0&#45;&gt;1</title>\r\n",
       "<path fill=\"none\" stroke=\"black\" d=\"M228.14,-162.87C221.82,-154.27 214.67,-144.55 207.95,-135.42\"/>\r\n",
       "<polygon fill=\"black\" stroke=\"black\" points=\"210.69,-133.23 201.94,-127.25 205.05,-137.38 210.69,-133.23\"/>\r\n",
       "<text text-anchor=\"middle\" x=\"198.18\" y=\"-148.26\" font-family=\"Helvetica,sans-Serif\" font-size=\"14.00\">True</text>\r\n",
       "</g>\r\n",
       "<!-- 4 -->\r\n",
       "<g id=\"node5\" class=\"node\">\r\n",
       "<title>4</title>\r\n",
       "<path fill=\"none\" stroke=\"black\" d=\"M354,-127C354,-127 268,-127 268,-127 262,-127 256,-121 256,-115 256,-115 256,-86 256,-86 256,-80 262,-74 268,-74 268,-74 354,-74 354,-74 360,-74 366,-80 366,-86 366,-86 366,-115 366,-115 366,-121 360,-127 354,-127\"/>\r\n",
       "<text text-anchor=\"middle\" x=\"311\" y=\"-111.8\" font-family=\"Helvetica,sans-Serif\" font-size=\"14.00\">bmi &lt;= 0.01</text>\r\n",
       "<text text-anchor=\"middle\" x=\"311\" y=\"-96.8\" font-family=\"Helvetica,sans-Serif\" font-size=\"14.00\">samples = 39</text>\r\n",
       "<text text-anchor=\"middle\" x=\"311\" y=\"-81.8\" font-family=\"Helvetica,sans-Serif\" font-size=\"14.00\">value = 215.11</text>\r\n",
       "</g>\r\n",
       "<!-- 0&#45;&gt;4 -->\r\n",
       "<g id=\"edge4\" class=\"edge\">\r\n",
       "<title>0&#45;&gt;4</title>\r\n",
       "<path fill=\"none\" stroke=\"black\" d=\"M265.86,-162.87C272.18,-154.27 279.33,-144.55 286.05,-135.42\"/>\r\n",
       "<polygon fill=\"black\" stroke=\"black\" points=\"288.95,-137.38 292.06,-127.25 283.31,-133.23 288.95,-137.38\"/>\r\n",
       "<text text-anchor=\"middle\" x=\"295.82\" y=\"-148.26\" font-family=\"Helvetica,sans-Serif\" font-size=\"14.00\">False</text>\r\n",
       "</g>\r\n",
       "<!-- 2 -->\r\n",
       "<g id=\"node3\" class=\"node\">\r\n",
       "<title>2</title>\r\n",
       "<path fill=\"none\" stroke=\"black\" d=\"M98,-38C98,-38 12,-38 12,-38 6,-38 0,-32 0,-26 0,-26 0,-12 0,-12 0,-6 6,0 12,0 12,0 98,0 98,0 104,0 110,-6 110,-12 110,-12 110,-26 110,-26 110,-32 104,-38 98,-38\"/>\r\n",
       "<text text-anchor=\"middle\" x=\"55\" y=\"-22.8\" font-family=\"Helvetica,sans-Serif\" font-size=\"14.00\">samples = 49</text>\r\n",
       "<text text-anchor=\"middle\" x=\"55\" y=\"-7.8\" font-family=\"Helvetica,sans-Serif\" font-size=\"14.00\">value = 109.77</text>\r\n",
       "</g>\r\n",
       "<!-- 1&#45;&gt;2 -->\r\n",
       "<g id=\"edge2\" class=\"edge\">\r\n",
       "<title>1&#45;&gt;2</title>\r\n",
       "<path fill=\"none\" stroke=\"black\" d=\"M141.8,-73.91C126.16,-64.19 108.43,-53.18 93.09,-43.66\"/>\r\n",
       "<polygon fill=\"black\" stroke=\"black\" points=\"94.71,-40.54 84.37,-38.24 91.01,-46.49 94.71,-40.54\"/>\r\n",
       "</g>\r\n",
       "<!-- 3 -->\r\n",
       "<g id=\"node4\" class=\"node\">\r\n",
       "<title>3</title>\r\n",
       "<path fill=\"none\" stroke=\"black\" d=\"M226,-38C226,-38 140,-38 140,-38 134,-38 128,-32 128,-26 128,-26 128,-12 128,-12 128,-6 134,0 140,0 140,0 226,0 226,0 232,0 238,-6 238,-12 238,-12 238,-26 238,-26 238,-32 232,-38 226,-38\"/>\r\n",
       "<text text-anchor=\"middle\" x=\"183\" y=\"-22.8\" font-family=\"Helvetica,sans-Serif\" font-size=\"14.00\">samples = 23</text>\r\n",
       "<text text-anchor=\"middle\" x=\"183\" y=\"-7.8\" font-family=\"Helvetica,sans-Serif\" font-size=\"14.00\">value = 166.01</text>\r\n",
       "</g>\r\n",
       "<!-- 1&#45;&gt;3 -->\r\n",
       "<g id=\"edge3\" class=\"edge\">\r\n",
       "<title>1&#45;&gt;3</title>\r\n",
       "<path fill=\"none\" stroke=\"black\" d=\"M183,-73.91C183,-65.74 183,-56.65 183,-48.3\"/>\r\n",
       "<polygon fill=\"black\" stroke=\"black\" points=\"186.5,-48.24 183,-38.24 179.5,-48.24 186.5,-48.24\"/>\r\n",
       "</g>\r\n",
       "<!-- 5 -->\r\n",
       "<g id=\"node6\" class=\"node\">\r\n",
       "<title>5</title>\r\n",
       "<path fill=\"none\" stroke=\"black\" d=\"M354,-38C354,-38 268,-38 268,-38 262,-38 256,-32 256,-26 256,-26 256,-12 256,-12 256,-6 262,0 268,0 268,0 354,0 354,0 360,0 366,-6 366,-12 366,-12 366,-26 366,-26 366,-32 360,-38 354,-38\"/>\r\n",
       "<text text-anchor=\"middle\" x=\"311\" y=\"-22.8\" font-family=\"Helvetica,sans-Serif\" font-size=\"14.00\">samples = 14</text>\r\n",
       "<text text-anchor=\"middle\" x=\"311\" y=\"-7.8\" font-family=\"Helvetica,sans-Serif\" font-size=\"14.00\">value = 172.11</text>\r\n",
       "</g>\r\n",
       "<!-- 4&#45;&gt;5 -->\r\n",
       "<g id=\"edge5\" class=\"edge\">\r\n",
       "<title>4&#45;&gt;5</title>\r\n",
       "<path fill=\"none\" stroke=\"black\" d=\"M311,-73.91C311,-65.74 311,-56.65 311,-48.3\"/>\r\n",
       "<polygon fill=\"black\" stroke=\"black\" points=\"314.5,-48.24 311,-38.24 307.5,-48.24 314.5,-48.24\"/>\r\n",
       "</g>\r\n",
       "<!-- 6 -->\r\n",
       "<g id=\"node7\" class=\"node\">\r\n",
       "<title>6</title>\r\n",
       "<path fill=\"none\" stroke=\"black\" d=\"M475.5,-38C475.5,-38 396.5,-38 396.5,-38 390.5,-38 384.5,-32 384.5,-26 384.5,-26 384.5,-12 384.5,-12 384.5,-6 390.5,0 396.5,0 396.5,0 475.5,0 475.5,0 481.5,0 487.5,-6 487.5,-12 487.5,-12 487.5,-26 487.5,-26 487.5,-32 481.5,-38 475.5,-38\"/>\r\n",
       "<text text-anchor=\"middle\" x=\"436\" y=\"-22.8\" font-family=\"Helvetica,sans-Serif\" font-size=\"14.00\">samples = 25</text>\r\n",
       "<text text-anchor=\"middle\" x=\"436\" y=\"-7.8\" font-family=\"Helvetica,sans-Serif\" font-size=\"14.00\">value = 239.2</text>\r\n",
       "</g>\r\n",
       "<!-- 4&#45;&gt;6 -->\r\n",
       "<g id=\"edge6\" class=\"edge\">\r\n",
       "<title>4&#45;&gt;6</title>\r\n",
       "<path fill=\"none\" stroke=\"black\" d=\"M351.24,-73.91C366.51,-64.19 383.83,-53.18 398.81,-43.66\"/>\r\n",
       "<polygon fill=\"black\" stroke=\"black\" points=\"400.76,-46.56 407.32,-38.24 397.01,-40.65 400.76,-46.56\"/>\r\n",
       "</g>\r\n",
       "</g>\r\n",
       "</svg>\r\n"
      ],
      "text/plain": [
       "<graphviz.files.Source at 0x1e507638550>"
      ]
     },
     "metadata": {},
     "output_type": "display_data"
    },
    {
     "name": "stdout",
     "output_type": "stream",
     "text": [
      "The RandomForestRegressor used 10 features to produce the predictions. The prediction of this sample was 250.6.\n",
      "The feature importance was calculated using a DecisionTreeRegressor surrogate model. Four tree nodes are shown.\n",
      "The following thresholds were important for the predictions: \n",
      "The samples got a value of 109.77 if 's5' was less or equal than 0.0, and 'bmi' was less or equal than 0.0. \n",
      "The samples got a value of 166.01 if 's5' was less or equal than 0.0, and 'bmi' was greater than 0.0. \n",
      "The samples got a value of 172.11 if 's5' was greater than 0.0, and 'bmi' was less or equal than 0.0. \n",
      "The samples got a value of 239.20 if 's5' was greater than 0.0, and 'bmi' was greater than 0.0.\n",
      "\n",
      "\n"
     ]
    }
   ],
   "source": [
    "from explainy.explanations import SurrogateModelExplanation\n",
    "\n",
    "# Global, Contrastive\n",
    "list_number_of_features = [2, 4]\n",
    "sample_index = 0\n",
    "for number_of_features in list_number_of_features:\n",
    "\n",
    "    explainer = SurrogateModelExplanation(\n",
    "        X_test, y_test, model, number_of_features\n",
    "    )\n",
    "    explanation = explainer.explain(sample_index)\n",
    "    explainer.plot(sample_index)\n",
    "    print(explanation)\n",
    "    print('\\n')\n"
   ]
  },
  {
   "attachments": {},
   "cell_type": "markdown",
   "metadata": {},
   "source": [
    "Let's use the `CounterfactualExplanation` to create local explantions and show, how the feature would have had to change to achieve a desired y value."
   ]
  },
  {
   "cell_type": "code",
   "execution_count": null,
   "metadata": {},
   "outputs": [
    {
     "name": "stderr",
     "output_type": "stream",
     "text": [
      "Maximum number of function evaluations has been exceeded.\n"
     ]
    },
    {
     "data": {
      "image/png": "[encoded data removed]",
      "text/plain": [
       "<Figure size 432x288 with 1 Axes>"
      ]
     },
     "metadata": {
      "needs_background": "light"
     },
     "output_type": "display_data"
    },
    {
     "name": "stdout",
     "output_type": "stream",
     "text": [
      "The RandomForestRegressor used 10 features to produce the predictions. The prediction of this sample was 169.2.\n",
      "The feature importance is shown using a counterfactual example.\n",
      "The sample would have had the desired prediction, if the 'bmi' was '0.03', the 's4' was '0.07', the 'age' was '0.01', and the 'bp' was '0.04'.\n",
      "\n",
      "\n"
     ]
    },
    {
     "name": "stderr",
     "output_type": "stream",
     "text": [
      "Maximum number of function evaluations has been exceeded.\n"
     ]
    },
    {
     "data": {
      "image/png": "[encoded data removed]",
      "text/plain": [
       "<Figure size 432x288 with 1 Axes>"
      ]
     },
     "metadata": {
      "needs_background": "light"
     },
     "output_type": "display_data"
    },
    {
     "name": "stdout",
     "output_type": "stream",
     "text": [
      "The RandomForestRegressor used 10 features to produce the predictions. The prediction of this sample was 169.2.\n",
      "The feature importance is shown using a counterfactual example.\n",
      "The sample would have had the desired prediction, if the 'bmi' was '0.03', the 's4' was '0.07', the 'age' was '0.01', the 'bp' was '0.04', the 'sex' was '0.05', the 's1' was '-0.0', the 's6' was '0.02', and the 's5' was '-0.02'.\n",
      "\n",
      "\n"
     ]
    }
   ],
   "source": [
    "from explainy.explanations import CounterfactualExplanation\n",
    "\n",
    "# Local, Contrastive\n",
    "number_of_features = 6\n",
    "sample_index = 2\n",
    "for number_of_features in [4, 8]:\n",
    "    explainer = CounterfactualExplanation(\n",
    "        X_test, y_test, model, number_of_features, y_desired=180.\n",
    "    )\n",
    "    explanation = explainer.explain(sample_index)\n",
    "    explainer.plot(sample_index)\n",
    "    print(explanation)\n",
    "    print('\\n')\n"
   ]
  }
 ],
 "metadata": {
  "interpreter": {
   "hash": "de55fbb6a3d1dcd7d34e4d81b1ef1a152ffc76ac074135090337ffe5be6ed72c"
  },
  "kernelspec": {
   "display_name": "Python 3.8.0 64-bit ('explanation_env': conda)",
   "name": "python3"
  },
  "language_info": {
   "codemirror_mode": {
    "name": "ipython",
    "version": 3
   },
   "file_extension": ".py",
   "mimetype": "text/x-python",
   "name": "python",
   "nbconvert_exporter": "python",
   "pygments_lexer": "ipython3",
   "version": "3.8.16"
  },
  "pycharm": {
   "stem_cell": {
    "cell_type": "raw",
    "metadata": {
     "collapsed": false
    },
    "source": []
   }
  }
 },
 "nbformat": 4,
 "nbformat_minor": 2
}
